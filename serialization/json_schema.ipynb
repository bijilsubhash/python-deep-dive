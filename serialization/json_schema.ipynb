{
 "cells": [
  {
   "cell_type": "code",
   "execution_count": 2,
   "metadata": {},
   "outputs": [
    {
     "data": {
      "text/plain": [
       "{'firstName': '...', 'middleInitial': '...', 'lastName': '...'}"
      ]
     },
     "execution_count": 2,
     "metadata": {},
     "output_type": "execute_result"
    }
   ],
   "source": [
    "{\n",
    "    \"firstName\": \"...\",\n",
    "    \"middleInitial\": \"...\",\n",
    "    \"lastName\": \"...\"\n",
    "}"
   ]
  },
  {
   "cell_type": "code",
   "execution_count": 3,
   "metadata": {},
   "outputs": [],
   "source": [
    "person_schema = {\n",
    "    \"type\": \"object\",\n",
    "    \"properties\": {\n",
    "        \"firstName\": {\n",
    "            \"type\": \"string\"\n",
    "        },\n",
    "        \"middleInitial\": {\n",
    "            \"type\": \"string\"\n",
    "        },\n",
    "        \"lastName\": {\n",
    "            \"type\": \"string\"\n",
    "        },\n",
    "        \"age\": {\n",
    "            \"type\": \"number\"\n",
    "        }\n",
    "    },\n",
    "}"
   ]
  },
  {
   "cell_type": "code",
   "execution_count": 4,
   "metadata": {},
   "outputs": [],
   "source": [
    "p1 = {\n",
    "    \"firstName\": \"John\",\n",
    "    \"middleInitial\": \"A\",\n",
    "    \"lastName\": \"Doe\",\n",
    "    \"age\": 30\n",
    "}\n"
   ]
  },
  {
   "cell_type": "code",
   "execution_count": 5,
   "metadata": {},
   "outputs": [],
   "source": [
    "p2 = {\n",
    "    \"firstName\": \"Jane\",\n",
    "    \"middleInitial\": 100,\n",
    "    \"lastName\": \"Smith\",\n",
    "    \"age\": \"Unknown\"\n",
    "}"
   ]
  },
  {
   "cell_type": "code",
   "execution_count": null,
   "metadata": {},
   "outputs": [],
   "source": [
    "p3 = {\n",
    "    \"firstName\": \"John\",\n",
    "    \"age\": -30\n",
    "}"
   ]
  },
  {
   "cell_type": "code",
   "execution_count": 6,
   "metadata": {},
   "outputs": [],
   "source": [
    "person_schema = {\n",
    "    \"type\": \"object\",\n",
    "    \"properties\": {\n",
    "        \"firstName\": {\n",
    "            \"type\": \"string\",\n",
    "            \"minLength\": 1\n",
    "        },\n",
    "        \"middleInitial\": {\n",
    "            \"type\": \"string\",\n",
    "            \"minLength\": 1,\n",
    "            \"maxLength\": 1\n",
    "        },\n",
    "        \"lastName\": {\n",
    "            \"type\": \"string\",\n",
    "            \"minLength\": 1\n",
    "        },\n",
    "        \"age\": {\n",
    "            \"type\": \"number\",\n",
    "            \"minimum\": 0\n",
    "        },\n",
    "        \"eyeColor\": {\n",
    "            \"type\": \"string\",\n",
    "            \"enum\": [\"blue\", \"green\", \"brown\"]\n",
    "        }\n",
    "    },\n",
    "    \"required\": [\"firstName\", \"lastName\"]\n",
    "}"
   ]
  },
  {
   "cell_type": "code",
   "execution_count": 7,
   "metadata": {},
   "outputs": [
    {
     "data": {
      "text/plain": [
       "{'type': 'object',\n",
       " 'properties': {'firstName': {'type': 'string', 'minLength': 1},\n",
       "  'middleInitial': {'type': 'string', 'minLength': 1, 'maxLength': 1},\n",
       "  'lastName': {'type': 'string', 'minLength': 1},\n",
       "  'age': {'type': 'number', 'minimum': 0},\n",
       "  'eyeColor': {'type': 'string', 'enum': ['blue', 'green', 'brown']}},\n",
       " 'required': ['firstName', 'lastName']}"
      ]
     },
     "execution_count": 7,
     "metadata": {},
     "output_type": "execute_result"
    }
   ],
   "source": [
    "person_schema"
   ]
  },
  {
   "cell_type": "code",
   "execution_count": 8,
   "metadata": {},
   "outputs": [],
   "source": [
    "from jsonschema import validate\n",
    "from jsonschema.exceptions import ValidationError\n",
    "from json import loads, dumps, JSONDecodeError"
   ]
  },
  {
   "cell_type": "code",
   "execution_count": 16,
   "metadata": {},
   "outputs": [
    {
     "name": "stdout",
     "output_type": "stream",
     "text": [
      "{'firstName': 'Jane', 'middleInitial': 100, 'lastName': 'Smith', 'age': 'Unknown'}\n"
     ]
    }
   ],
   "source": [
    "json_doc = p2\n",
    "print(json_doc)"
   ]
  },
  {
   "cell_type": "code",
   "execution_count": 20,
   "metadata": {},
   "outputs": [
    {
     "name": "stdout",
     "output_type": "stream",
     "text": [
      "Validation failed: 100 is not of type 'string'\n",
      "\n",
      "Failed validating 'type' in schema['properties']['middleInitial']:\n",
      "    {'maxLength': 1, 'minLength': 1, 'type': 'string'}\n",
      "\n",
      "On instance['middleInitial']:\n",
      "    100\n"
     ]
    }
   ],
   "source": [
    "try:\n",
    "    validate(loads(dumps(p2)), person_schema)\n",
    "    print(\"Validation successful\")\n",
    "except ValidationError as e:\n",
    "    print(f\"Validation failed: {e}\")\n",
    "except JSONDecodeError as e:\n",
    "    print(f\"JSON decoding failed: {e}\")\n",
    "else:\n",
    "    print(\"Validation successful\")"
   ]
  },
  {
   "cell_type": "code",
   "execution_count": 21,
   "metadata": {},
   "outputs": [
    {
     "name": "stdout",
     "output_type": "stream",
     "text": [
      "100 is not of type 'string'\n",
      "\n",
      "Failed validating 'type' in schema['properties']['middleInitial']:\n",
      "    {'maxLength': 1, 'minLength': 1, 'type': 'string'}\n",
      "\n",
      "On instance['middleInitial']:\n",
      "    100\n",
      "'Unknown' is not of type 'number'\n",
      "\n",
      "Failed validating 'type' in schema['properties']['age']:\n",
      "    {'minimum': 0, 'type': 'number'}\n",
      "\n",
      "On instance['age']:\n",
      "    'Unknown'\n"
     ]
    }
   ],
   "source": [
    "from jsonschema import Draft4Validator\n",
    "\n",
    "validator = Draft4Validator(person_schema)\n",
    "\n",
    "for error in validator.iter_errors(p2):\n",
    "    print(error)\n"
   ]
  },
  {
   "cell_type": "code",
   "execution_count": 28,
   "metadata": {},
   "outputs": [],
   "source": [
    "json_doc = p2"
   ]
  },
  {
   "cell_type": "code",
   "execution_count": 30,
   "metadata": {},
   "outputs": [
    {
     "name": "stdout",
     "output_type": "stream",
     "text": [
      "100 is not of type 'string'\n",
      "\n",
      "Failed validating 'type' in schema['properties']['middleInitial']:\n",
      "    {'maxLength': 1, 'minLength': 1, 'type': 'string'}\n",
      "\n",
      "On instance['middleInitial']:\n",
      "    100\n",
      "---------\n",
      "'Unknown' is not of type 'number'\n",
      "\n",
      "Failed validating 'type' in schema['properties']['age']:\n",
      "    {'minimum': 0, 'type': 'number'}\n",
      "\n",
      "On instance['age']:\n",
      "    'Unknown'\n",
      "---------\n"
     ]
    }
   ],
   "source": [
    "for error in validator.iter_errors(json_doc):\n",
    "    print(error, end='\\n---------\\n')\n"
   ]
  },
  {
   "cell_type": "code",
   "execution_count": 31,
   "metadata": {},
   "outputs": [
    {
     "name": "stdout",
     "output_type": "stream",
     "text": [
      "-30 is less than the minimum of 0\n",
      "\n",
      "Failed validating 'minimum' in schema['properties']['age']:\n",
      "    {'minimum': 0, 'type': 'number'}\n",
      "\n",
      "On instance['age']:\n",
      "    -30\n",
      "---------\n",
      "'lastName' is a required property\n",
      "\n",
      "Failed validating 'required' in schema:\n",
      "    {'properties': {'age': {'minimum': 0, 'type': 'number'},\n",
      "                    'eyeColor': {'enum': ['blue', 'green', 'brown'],\n",
      "                                 'type': 'string'},\n",
      "                    'firstName': {'minLength': 1, 'type': 'string'},\n",
      "                    'lastName': {'minLength': 1, 'type': 'string'},\n",
      "                    'middleInitial': {'maxLength': 1,\n",
      "                                      'minLength': 1,\n",
      "                                      'type': 'string'}},\n",
      "     'required': ['firstName', 'lastName'],\n",
      "     'type': 'object'}\n",
      "\n",
      "On instance:\n",
      "    {'age': -30, 'firstName': 'John'}\n",
      "---------\n"
     ]
    }
   ],
   "source": [
    "p3 = {\n",
    "    \"firstName\": \"John\",\n",
    "    \"age\": -30\n",
    "}\n",
    "for error in validator.iter_errors(p3):\n",
    "    print(error, end='\\n---------\\n')"
   ]
  },
  {
   "cell_type": "code",
   "execution_count": 33,
   "metadata": {},
   "outputs": [
    {
     "name": "stdout",
     "output_type": "stream",
     "text": [
      "None is not of type 'string'\n",
      "\n",
      "Failed validating 'type' in schema['properties']['middleInitial']:\n",
      "    {'maxLength': 1, 'minLength': 1, 'type': 'string'}\n",
      "\n",
      "On instance['middleInitial']:\n",
      "    None\n",
      "---------\n",
      "'blue-gray' is not one of ['blue', 'green', 'brown']\n",
      "\n",
      "Failed validating 'enum' in schema['properties']['eyeColor']:\n",
      "    {'enum': ['blue', 'green', 'brown'], 'type': 'string'}\n",
      "\n",
      "On instance['eyeColor']:\n",
      "    'blue-gray'\n",
      "---------\n"
     ]
    }
   ],
   "source": [
    "p4 = {\n",
    "    \"firstName\": \"John\",\n",
    "    \"middleInitial\": None,\n",
    "    \"lastName\": \"Doe\",\n",
    "    \"eyeColor\": \"blue-gray\"\n",
    "}\n",
    "for error in validator.iter_errors(p4):\n",
    "    print(error, end='\\n---------\\n')"
   ]
  },
  {
   "cell_type": "code",
   "execution_count": null,
   "metadata": {},
   "outputs": [],
   "source": []
  }
 ],
 "metadata": {
  "kernelspec": {
   "display_name": "Python 3",
   "language": "python",
   "name": "python3"
  },
  "language_info": {
   "codemirror_mode": {
    "name": "ipython",
    "version": 3
   },
   "file_extension": ".py",
   "mimetype": "text/x-python",
   "name": "python",
   "nbconvert_exporter": "python",
   "pygments_lexer": "ipython3",
   "version": "3.11.5"
  }
 },
 "nbformat": 4,
 "nbformat_minor": 2
}
