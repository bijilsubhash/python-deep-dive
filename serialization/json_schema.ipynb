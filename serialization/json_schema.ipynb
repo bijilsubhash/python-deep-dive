{
 "cells": [
  {
   "cell_type": "code",
   "execution_count": 2,
   "metadata": {},
   "outputs": [
    {
     "data": {
      "text/plain": [
       "{'firstName': '...', 'middleInitial': '...', 'lastName': '...'}"
      ]
     },
     "execution_count": 2,
     "metadata": {},
     "output_type": "execute_result"
    }
   ],
   "source": [
    "{\n",
    "    \"firstName\": \"...\",\n",
    "    \"middleInitial\": \"...\",\n",
    "    \"lastName\": \"...\"\n",
    "}"
   ]
  },
  {
   "cell_type": "code",
   "execution_count": 3,
   "metadata": {},
   "outputs": [],
   "source": [
    "person_schema = {\n",
    "    \"type\": \"object\",\n",
    "    \"properties\": {\n",
    "        \"firstName\": {\n",
    "            \"type\": \"string\"\n",
    "        },\n",
    "        \"middleInitial\": {\n",
    "            \"type\": \"string\"\n",
    "        },\n",
    "        \"lastName\": {\n",
    "            \"type\": \"string\"\n",
    "        },\n",
    "        \"age\": {\n",
    "            \"type\": \"number\"\n",
    "        }\n",
    "    },\n",
    "}"
   ]
  },
  {
   "cell_type": "code",
   "execution_count": 4,
   "metadata": {},
   "outputs": [],
   "source": [
    "p1 = {\n",
    "    \"firstName\": \"John\",\n",
    "    \"middleInitial\": \"A\",\n",
    "    \"lastName\": \"Doe\",\n",
    "    \"age\": 30\n",
    "}\n"
   ]
  },
  {
   "cell_type": "code",
   "execution_count": 5,
   "metadata": {},
   "outputs": [],
   "source": [
    "p2 = {\n",
    "    \"firstName\": \"Jane\",\n",
    "    \"middleInitial\": 100,\n",
    "    \"lastName\": \"Smith\",\n",
    "    \"age\": \"Unknown\"\n",
    "}"
   ]
  },
  {
   "cell_type": "code",
   "execution_count": null,
   "metadata": {},
   "outputs": [],
   "source": [
    "p3 = {\n",
    "    \"firstName\": \"John\",\n",
    "    \"age\": -30\n",
    "}"
   ]
  },
  {
   "cell_type": "code",
   "execution_count": 6,
   "metadata": {},
   "outputs": [],
   "source": [
    "person_schema = {\n",
    "    \"type\": \"object\",\n",
    "    \"properties\": {\n",
    "        \"firstName\": {\n",
    "            \"type\": \"string\",\n",
    "            \"minLength\": 1\n",
    "        },\n",
    "        \"middleInitial\": {\n",
    "            \"type\": \"string\",\n",
    "            \"minLength\": 1,\n",
    "            \"maxLength\": 1\n",
    "        },\n",
    "        \"lastName\": {\n",
    "            \"type\": \"string\",\n",
    "            \"minLength\": 1\n",
    "        },\n",
    "        \"age\": {\n",
    "            \"type\": \"number\",\n",
    "            \"minimum\": 0\n",
    "        },\n",
    "        \"eyeColor\": {\n",
    "            \"type\": \"string\",\n",
    "            \"enum\": [\"blue\", \"green\", \"brown\"]\n",
    "        }\n",
    "    },\n",
    "    \"required\": [\"firstName\", \"lastName\"]\n",
    "}"
   ]
  },
  {
   "cell_type": "code",
   "execution_count": 7,
   "metadata": {},
   "outputs": [
    {
     "data": {
      "text/plain": [
       "{'type': 'object',\n",
       " 'properties': {'firstName': {'type': 'string', 'minLength': 1},\n",
       "  'middleInitial': {'type': 'string', 'minLength': 1, 'maxLength': 1},\n",
       "  'lastName': {'type': 'string', 'minLength': 1},\n",
       "  'age': {'type': 'number', 'minimum': 0},\n",
       "  'eyeColor': {'type': 'string', 'enum': ['blue', 'green', 'brown']}},\n",
       " 'required': ['firstName', 'lastName']}"
      ]
     },
     "execution_count": 7,
     "metadata": {},
     "output_type": "execute_result"
    }
   ],
   "source": [
    "person_schema"
   ]
  },
  {
   "cell_type": "code",
   "execution_count": null,
   "metadata": {},
   "outputs": [],
   "source": []
  }
 ],
 "metadata": {
  "kernelspec": {
   "display_name": "Python 3",
   "language": "python",
   "name": "python3"
  },
  "language_info": {
   "codemirror_mode": {
    "name": "ipython",
    "version": 3
   },
   "file_extension": ".py",
   "mimetype": "text/x-python",
   "name": "python",
   "nbconvert_exporter": "python",
   "pygments_lexer": "ipython3",
   "version": "3.11.5"
  }
 },
 "nbformat": 4,
 "nbformat_minor": 2
}
