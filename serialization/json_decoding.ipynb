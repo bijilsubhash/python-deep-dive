{
 "cells": [
  {
   "cell_type": "code",
   "execution_count": 1,
   "metadata": {},
   "outputs": [],
   "source": [
    "import json"
   ]
  },
  {
   "cell_type": "code",
   "execution_count": 2,
   "metadata": {},
   "outputs": [],
   "source": [
    "j = '''\n",
    "\n",
    "{\n",
    "    \"name\": \"Python\",\n",
    "    \"age\": 30,\n",
    "    \"versions\": [\"3.10\", \"3.11\", \"3.12\"]\n",
    "\n",
    "}\n",
    "\n",
    "'''"
   ]
  },
  {
   "cell_type": "code",
   "execution_count": 3,
   "metadata": {},
   "outputs": [
    {
     "data": {
      "text/plain": [
       "{'name': 'Python', 'age': 30, 'versions': ['3.10', '3.11', '3.12']}"
      ]
     },
     "execution_count": 3,
     "metadata": {},
     "output_type": "execute_result"
    }
   ],
   "source": [
    "json.loads(j)"
   ]
  },
  {
   "cell_type": "code",
   "execution_count": 5,
   "metadata": {},
   "outputs": [],
   "source": [
    "p = '''\n",
    "\n",
    "{\n",
    "    \"time\": \"2025-01-14T10:00:00Z\",\n",
    "    \"message\": \"created this json string\"\n",
    "}\n",
    "\n",
    "'''"
   ]
  },
  {
   "cell_type": "code",
   "execution_count": 6,
   "metadata": {},
   "outputs": [
    {
     "data": {
      "text/plain": [
       "{'time': '2025-01-14T10:00:00Z', 'message': 'created this json string'}"
      ]
     },
     "execution_count": 6,
     "metadata": {},
     "output_type": "execute_result"
    }
   ],
   "source": [
    "json.loads(p)"
   ]
  },
  {
   "cell_type": "code",
   "execution_count": 7,
   "metadata": {},
   "outputs": [],
   "source": [
    "p = '''\n",
    "\n",
    "{\n",
    "    \"time\": {\n",
    "        \"objecttype\": \"datetime\",\n",
    "        \"value\": \"2025-01-14T10:00:00Z\"\n",
    "    },\n",
    "    \"message\": \"created this json string\"\n",
    "}\n",
    "\n",
    "'''"
   ]
  },
  {
   "cell_type": "code",
   "execution_count": 8,
   "metadata": {},
   "outputs": [
    {
     "data": {
      "text/plain": [
       "{'time': {'objecttype': 'datetime', 'value': '2025-01-14T10:00:00Z'},\n",
       " 'message': 'created this json string'}"
      ]
     },
     "execution_count": 8,
     "metadata": {},
     "output_type": "execute_result"
    }
   ],
   "source": [
    "json.loads(p)"
   ]
  },
  {
   "cell_type": "code",
   "execution_count": 9,
   "metadata": {},
   "outputs": [],
   "source": [
    "from pprint import pprint"
   ]
  },
  {
   "cell_type": "code",
   "execution_count": 10,
   "metadata": {},
   "outputs": [
    {
     "name": "stdout",
     "output_type": "stream",
     "text": [
      "{'message': 'created this json string',\n",
      " 'time': {'objecttype': 'datetime', 'value': '2025-01-14T10:00:00Z'}}\n"
     ]
    }
   ],
   "source": [
    "d = json.loads(p)\n",
    "pprint(d)"
   ]
  },
  {
   "cell_type": "code",
   "execution_count": 11,
   "metadata": {},
   "outputs": [],
   "source": [
    "from datetime import datetime"
   ]
  },
  {
   "cell_type": "code",
   "execution_count": 12,
   "metadata": {},
   "outputs": [
    {
     "name": "stdout",
     "output_type": "stream",
     "text": [
      "{'message': 'created this json string',\n",
      " 'time': datetime.datetime(2025, 1, 14, 10, 0)}\n"
     ]
    }
   ],
   "source": [
    "for key, value in d.items():\n",
    "    if  (isinstance(value, dict) and value['objecttype'] == 'datetime'):\n",
    "        d[key] = datetime.strptime(value['value'], '%Y-%m-%dT%H:%M:%SZ')\n",
    "pprint(d)"
   ]
  },
  {
   "cell_type": "code",
   "execution_count": 13,
   "metadata": {},
   "outputs": [],
   "source": [
    "j = '''\n",
    "\n",
    "{\n",
    "    \"cake\": \"yummy chocolate cake\",\n",
    "    \"myShare\" :{\n",
    "        \"objecttype\": \"fraction\",\n",
    "        \"numerator\": \"1\",\n",
    "        \"denominator\": \"2\"\n",
    "    }\n",
    "\n",
    "}\n",
    "\n",
    "'''"
   ]
  },
  {
   "cell_type": "code",
   "execution_count": 14,
   "metadata": {},
   "outputs": [],
   "source": [
    "d = json.loads(j)"
   ]
  },
  {
   "cell_type": "code",
   "execution_count": 15,
   "metadata": {},
   "outputs": [
    {
     "data": {
      "text/plain": [
       "{'cake': 'yummy chocolate cake',\n",
       " 'myShare': {'objecttype': 'fraction', 'numerator': '1', 'denominator': '2'}}"
      ]
     },
     "execution_count": 15,
     "metadata": {},
     "output_type": "execute_result"
    }
   ],
   "source": [
    "d"
   ]
  },
  {
   "cell_type": "code",
   "execution_count": 18,
   "metadata": {},
   "outputs": [
    {
     "name": "stdout",
     "output_type": "stream",
     "text": [
      "{'cake': 'yummy chocolate cake', 'myShare': Fraction(1, 2)}\n"
     ]
    }
   ],
   "source": [
    "from fractions import Fraction\n",
    "for key, value in d.items():\n",
    "    if isinstance(value, dict) and value['objecttype'] == 'fraction':\n",
    "        d[key] = Fraction(int(value['numerator']), int(value['denominator']))\n",
    "pprint(d)"
   ]
  },
  {
   "cell_type": "code",
   "execution_count": 19,
   "metadata": {},
   "outputs": [],
   "source": [
    "def custom_decorder(arg):\n",
    "    print('decoding', arg)\n",
    "    return arg"
   ]
  },
  {
   "cell_type": "code",
   "execution_count": 21,
   "metadata": {},
   "outputs": [],
   "source": [
    "j = '''\n",
    "\n",
    "{\n",
    "\n",
    "    \"a\": \"1\",\n",
    "    \"b\": \"2\",\n",
    "    \"c\": {\n",
    "        \"c.1\": \"3\",\n",
    "        \"c.2\": \"4\",\n",
    "        \"c.3\": {\n",
    "            \"c.3.1\": \"5\",\n",
    "            \"c.3.2\": \"6\"\n",
    "        }\n",
    "    }\n",
    "\n",
    "}\n",
    "\n",
    "'''"
   ]
  },
  {
   "cell_type": "code",
   "execution_count": 22,
   "metadata": {},
   "outputs": [
    {
     "name": "stdout",
     "output_type": "stream",
     "text": [
      "decoding {'c.3.1': '5', 'c.3.2': '6'}\n",
      "decoding {'c.1': '3', 'c.2': '4', 'c.3': {'c.3.1': '5', 'c.3.2': '6'}}\n",
      "decoding {'a': '1', 'b': '2', 'c': {'c.1': '3', 'c.2': '4', 'c.3': {'c.3.1': '5', 'c.3.2': '6'}}}\n"
     ]
    }
   ],
   "source": [
    "d = json.loads(j, object_hook=custom_decorder)"
   ]
  },
  {
   "cell_type": "code",
   "execution_count": 23,
   "metadata": {},
   "outputs": [],
   "source": [
    "j = '''\n",
    "\n",
    "{\n",
    "    \"time\": {\n",
    "        \"objecttype\": \"datetime\",\n",
    "        \"value\": \"2025-01-14T10:00:00Z\"\n",
    "    },\n",
    "    \"message\": \"created this json string\"\n",
    "}\n",
    "\n",
    "'''"
   ]
  },
  {
   "cell_type": "code",
   "execution_count": 44,
   "metadata": {},
   "outputs": [],
   "source": [
    "def custom_decorder(arg):\n",
    "    print('decoding', arg)\n",
    "    if 'objecttype' in arg and arg['objecttype'] == 'datetime':\n",
    "        return datetime.strptime(arg['value'], '%Y-%m-%dT%H:%M:%SZ')"
   ]
  },
  {
   "cell_type": "code",
   "execution_count": 45,
   "metadata": {},
   "outputs": [
    {
     "name": "stdout",
     "output_type": "stream",
     "text": [
      "decoding {'objecttype': 'datetime', 'value': '2025-01-14T10:00:00Z'}\n",
      "decoding {'time': datetime.datetime(2025, 1, 14, 10, 0), 'message': 'created this json string'}\n",
      "None\n"
     ]
    }
   ],
   "source": [
    "d = json.loads(j, object_hook=custom_decorder)\n",
    "pprint(d)"
   ]
  },
  {
   "cell_type": "code",
   "execution_count": 46,
   "metadata": {},
   "outputs": [
    {
     "name": "stdout",
     "output_type": "stream",
     "text": [
      "decoding {'objecttype': 'datetime', 'value': '2025-01-14T10:00:00Z'}\n"
     ]
    },
    {
     "data": {
      "text/plain": [
       "datetime.datetime(2025, 1, 14, 10, 0)"
      ]
     },
     "execution_count": 46,
     "metadata": {},
     "output_type": "execute_result"
    }
   ],
   "source": [
    "custom_decorder(dict(objecttype='datetime', value='2025-01-14T10:00:00Z'))"
   ]
  },
  {
   "cell_type": "code",
   "execution_count": 47,
   "metadata": {},
   "outputs": [
    {
     "name": "stdout",
     "output_type": "stream",
     "text": [
      "decoding {'objecttype': 'fraction', 'numerator': '1', 'denominator': '2'}\n"
     ]
    }
   ],
   "source": [
    "custom_decorder(dict(objecttype='fraction', numerator='1', denominator='2'))"
   ]
  },
  {
   "cell_type": "code",
   "execution_count": 50,
   "metadata": {},
   "outputs": [],
   "source": [
    "def custom_decoder(arg):\n",
    "    if 'objecttype' in arg:\n",
    "        if arg['objecttype'] == 'datetime':\n",
    "            return datetime.strptime(arg['value'], '%Y-%m-%dT%H:%M:%SZ')\n",
    "        elif arg['objecttype'] == 'fraction':\n",
    "            return Fraction(int(arg['numerator']), int(arg['denominator']))\n",
    "        return arg\n",
    "    return arg"
   ]
  },
  {
   "cell_type": "code",
   "execution_count": 51,
   "metadata": {},
   "outputs": [
    {
     "name": "stdout",
     "output_type": "stream",
     "text": [
      "{'created': datetime.datetime(2025, 1, 14, 10, 0),\n",
      " 'message': 'created this json string',\n",
      " 'updated': datetime.datetime(2025, 1, 14, 10, 0)}\n"
     ]
    }
   ],
   "source": [
    "j = '''\n",
    "\n",
    "{\n",
    "    \"created\": {\n",
    "        \"objecttype\": \"datetime\",\n",
    "        \"value\": \"2025-01-14T10:00:00Z\"\n",
    "    },\n",
    "    \"updated\": {\n",
    "        \"objecttype\": \"datetime\",\n",
    "        \"value\": \"2025-01-14T10:00:00Z\"\n",
    "    },\n",
    "    \"message\": \"created this json string\"\n",
    "}\n",
    "\n",
    "'''\n",
    "d = json.loads(j, object_hook=custom_decoder)\n",
    "pprint(d)"
   ]
  },
  {
   "cell_type": "code",
   "execution_count": 54,
   "metadata": {},
   "outputs": [],
   "source": [
    "j = '''\n",
    "\n",
    "{\n",
    "\n",
    "    \"cake\": \"yummy chocolate cake\",\n",
    "    \"myShare\": {\n",
    "        \"objecttype\": \"fraction\",\n",
    "        \"numerator\": \"1\",\n",
    "        \"denominator\": \"2\"\n",
    "    },\n",
    "\n",
    "    \"eaten\": {\n",
    "        \"objecttype\": \"datetime\",\n",
    "        \"value\": \"2025-01-14T10:00:00Z\"\n",
    "    }\n",
    "\n",
    "}\n",
    "\n",
    "'''"
   ]
  },
  {
   "cell_type": "code",
   "execution_count": 55,
   "metadata": {},
   "outputs": [],
   "source": [
    "d = json.loads(j, object_hook=custom_decoder)"
   ]
  },
  {
   "cell_type": "code",
   "execution_count": 56,
   "metadata": {},
   "outputs": [
    {
     "name": "stdout",
     "output_type": "stream",
     "text": [
      "{'cake': 'yummy chocolate cake',\n",
      " 'eaten': datetime.datetime(2025, 1, 14, 10, 0),\n",
      " 'myShare': Fraction(1, 2)}\n"
     ]
    }
   ],
   "source": [
    "pprint(d)"
   ]
  },
  {
   "cell_type": "code",
   "execution_count": 59,
   "metadata": {},
   "outputs": [],
   "source": [
    "class Person:\n",
    "    def __init__(self, name, age):\n",
    "        self.name = name\n",
    "        self.age = age\n",
    "    def __repr__(self):\n",
    "        return f'Person(name={self.name}, age={self.age})'"
   ]
  },
  {
   "cell_type": "code",
   "execution_count": 60,
   "metadata": {},
   "outputs": [],
   "source": [
    "p = Person('Jack', 30)"
   ]
  },
  {
   "cell_type": "code",
   "execution_count": 61,
   "metadata": {},
   "outputs": [
    {
     "data": {
      "text/plain": [
       "Person(name=Jack, age=30)"
      ]
     },
     "execution_count": 61,
     "metadata": {},
     "output_type": "execute_result"
    }
   ],
   "source": [
    "p"
   ]
  },
  {
   "cell_type": "code",
   "execution_count": 62,
   "metadata": {},
   "outputs": [
    {
     "name": "stdout",
     "output_type": "stream",
     "text": [
      "Person(name=Jack, age=30)\n"
     ]
    }
   ],
   "source": [
    "def custom_decoder(arg):\n",
    "    if isinstance(arg, dict) and 'name' in arg and 'age' in arg:\n",
    "        return Person(arg['name'], arg['age'])\n",
    "    return arg\n",
    "j = '''\n",
    "\n",
    "{\n",
    "    \"name\": \"Jack\",\n",
    "    \"age\": 30\n",
    "}\n",
    "\n",
    "'''\n",
    "d = json.loads(j, object_hook=custom_decoder)\n",
    "pprint(d)"
   ]
  },
  {
   "cell_type": "code",
   "execution_count": 63,
   "metadata": {},
   "outputs": [],
   "source": [
    "j = '''\n",
    "\n",
    "{\n",
    "    \"account_holder\": {\n",
    "        \"name\": \"Jack\",\n",
    "        \"age\": 30\n",
    "    },\n",
    "    \"created\": {\n",
    "        \"objecttype\": \"datetime\",\n",
    "        \"value\": \"2025-01-14T10:00:00Z\"\n",
    "    }\n",
    "}\n",
    "\n",
    "'''"
   ]
  },
  {
   "cell_type": "code",
   "execution_count": 64,
   "metadata": {},
   "outputs": [],
   "source": [
    "d = json.loads(j, object_hook=custom_decoder)"
   ]
  },
  {
   "cell_type": "code",
   "execution_count": 65,
   "metadata": {},
   "outputs": [
    {
     "name": "stdout",
     "output_type": "stream",
     "text": [
      "{'account_holder': Person(name=Jack, age=30),\n",
      " 'created': {'objecttype': 'datetime', 'value': '2025-01-14T10:00:00Z'}}\n"
     ]
    }
   ],
   "source": [
    "pprint(d)"
   ]
  },
  {
   "cell_type": "code",
   "execution_count": 66,
   "metadata": {},
   "outputs": [],
   "source": [
    "class Person:\n",
    "    def __init__(self, name, age):\n",
    "        self.name = name\n",
    "        self.age = age\n",
    "\n",
    "    def __repr__(self):\n",
    "        return f'Person(name={self.name}, age={self.age})'\n",
    "    \n",
    "    def toJSON(self):\n",
    "        return dict(objecttype='person', name=self.name, age=self.age)"
   ]
  },
  {
   "cell_type": "code",
   "execution_count": 68,
   "metadata": {},
   "outputs": [],
   "source": [
    "def custom_decoder(arg):\n",
    "    if isinstance(arg, dict) and 'objecttype' in arg and arg['objecttype'] == 'person':\n",
    "        return Person(arg['name'], arg['age'])\n",
    "    return arg\n",
    "\n",
    "j = '''\n",
    "\n",
    "{\n",
    "    \"account_holder\": {\n",
    "        \"name\": \"Jack\",\n",
    "        \"age\": 30\n",
    "    }\n",
    "}\n",
    "\n",
    "'''"
   ]
  },
  {
   "cell_type": "code",
   "execution_count": 69,
   "metadata": {},
   "outputs": [],
   "source": [
    "d = json.loads(j, object_hook=custom_decoder)"
   ]
  },
  {
   "cell_type": "code",
   "execution_count": 70,
   "metadata": {},
   "outputs": [
    {
     "name": "stdout",
     "output_type": "stream",
     "text": [
      "{'account_holder': {'age': 30, 'name': 'Jack'}}\n"
     ]
    }
   ],
   "source": [
    "pprint(d)"
   ]
  },
  {
   "cell_type": "code",
   "execution_count": null,
   "metadata": {},
   "outputs": [],
   "source": []
  }
 ],
 "metadata": {
  "kernelspec": {
   "display_name": "Python 3",
   "language": "python",
   "name": "python3"
  },
  "language_info": {
   "codemirror_mode": {
    "name": "ipython",
    "version": 3
   },
   "file_extension": ".py",
   "mimetype": "text/x-python",
   "name": "python",
   "nbconvert_exporter": "python",
   "pygments_lexer": "ipython3",
   "version": "3.11.5"
  }
 },
 "nbformat": 4,
 "nbformat_minor": 2
}
