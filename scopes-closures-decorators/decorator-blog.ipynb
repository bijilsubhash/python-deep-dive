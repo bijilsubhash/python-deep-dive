{
 "cells": [
  {
   "cell_type": "code",
   "execution_count": 52,
   "metadata": {},
   "outputs": [
    {
     "name": "stdout",
     "output_type": "stream",
     "text": [
      "Function finished running\n",
      "Executed test_func in 0.873 milliseconds\n"
     ]
    }
   ],
   "source": [
    "from time import time\n",
    "\n",
    "def logger(fn):\n",
    "    def inner():\n",
    "        start = time()\n",
    "        fn()\n",
    "        end = time()\n",
    "        print(f\"Executed {fn.__name__} in {(end - start) * 1000:.3f} milliseconds\")\n",
    "    return inner \n",
    "\n",
    "@logger\n",
    "def test_func():\n",
    "    print(\"Function finished running\")\n",
    "\n",
    "if __name__ == \"__main__\":\n",
    "    test_func()"
   ]
  },
  {
   "cell_type": "code",
   "execution_count": null,
   "metadata": {},
   "outputs": [],
   "source": []
  }
 ],
 "metadata": {
  "kernelspec": {
   "display_name": ".venv",
   "language": "python",
   "name": "python3"
  },
  "language_info": {
   "codemirror_mode": {
    "name": "ipython",
    "version": 3
   },
   "file_extension": ".py",
   "mimetype": "text/x-python",
   "name": "python",
   "nbconvert_exporter": "python",
   "pygments_lexer": "ipython3",
   "version": "3.8.5"
  }
 },
 "nbformat": 4,
 "nbformat_minor": 2
}
