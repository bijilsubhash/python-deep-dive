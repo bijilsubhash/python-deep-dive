{
 "cells": [
  {
   "cell_type": "code",
   "execution_count": 1,
   "metadata": {},
   "outputs": [],
   "source": [
    "import re\n",
    "import reprlib\n",
    "\n",
    "RE_WORD = re.compile(r'\\w+')\n",
    "\n",
    "class Sentence:\n",
    "    def __init__(self, text):\n",
    "        self.text = text\n",
    "        self.words = RE_WORD.findall(text)\n",
    "    def __getitem__(self, index):\n",
    "        return self.words[index]\n",
    "    def __len__(self):\n",
    "        return len(self.words)\n",
    "    def __repr__(self):\n",
    "        return 'Sentence(%s)' % reprlib.repr(self.text)"
   ]
  },
  {
   "cell_type": "code",
   "execution_count": 2,
   "metadata": {},
   "outputs": [],
   "source": [
    "s = Sentence('\"The time has come,\" the Walrus said,')"
   ]
  },
  {
   "cell_type": "code",
   "execution_count": 3,
   "metadata": {},
   "outputs": [
    {
     "data": {
      "text/plain": [
       "Sentence('\"The time ha... Walrus said,')"
      ]
     },
     "execution_count": 3,
     "metadata": {},
     "output_type": "execute_result"
    }
   ],
   "source": [
    "s"
   ]
  },
  {
   "cell_type": "code",
   "execution_count": 4,
   "metadata": {},
   "outputs": [
    {
     "data": {
      "text/plain": [
       "'\"The time has come,\" the Walrus said,'"
      ]
     },
     "execution_count": 4,
     "metadata": {},
     "output_type": "execute_result"
    }
   ],
   "source": [
    "s.text"
   ]
  },
  {
   "cell_type": "code",
   "execution_count": 5,
   "metadata": {},
   "outputs": [
    {
     "data": {
      "text/plain": [
       "['The', 'time', 'has', 'come', 'the', 'Walrus', 'said']"
      ]
     },
     "execution_count": 5,
     "metadata": {},
     "output_type": "execute_result"
    }
   ],
   "source": [
    "s.words"
   ]
  },
  {
   "cell_type": "code",
   "execution_count": 6,
   "metadata": {},
   "outputs": [
    {
     "name": "stdout",
     "output_type": "stream",
     "text": [
      "The\n",
      "time\n",
      "has\n",
      "come\n",
      "the\n",
      "Walrus\n",
      "said\n"
     ]
    }
   ],
   "source": [
    "for word in s:\n",
    "    print(word)\n"
   ]
  },
  {
   "cell_type": "code",
   "execution_count": 7,
   "metadata": {},
   "outputs": [
    {
     "data": {
      "text/plain": [
       "Sentence('\"The time ha... Walrus said,')"
      ]
     },
     "execution_count": 7,
     "metadata": {},
     "output_type": "execute_result"
    }
   ],
   "source": [
    "s"
   ]
  },
  {
   "cell_type": "code",
   "execution_count": 8,
   "metadata": {},
   "outputs": [
    {
     "data": {
      "text/plain": [
       "['The', 'time', 'has', 'come', 'the', 'Walrus', 'said']"
      ]
     },
     "execution_count": 8,
     "metadata": {},
     "output_type": "execute_result"
    }
   ],
   "source": [
    "list(s)"
   ]
  },
  {
   "cell_type": "code",
   "execution_count": 9,
   "metadata": {},
   "outputs": [],
   "source": [
    "class Spam:\n",
    "    def __getitem__(self, index):\n",
    "        print('->', index)\n",
    "        raise IndexError"
   ]
  },
  {
   "cell_type": "code",
   "execution_count": 10,
   "metadata": {},
   "outputs": [],
   "source": [
    "spam_can = Spam()"
   ]
  },
  {
   "cell_type": "code",
   "execution_count": 11,
   "metadata": {},
   "outputs": [
    {
     "data": {
      "text/plain": [
       "<iterator at 0x106c625c0>"
      ]
     },
     "execution_count": 11,
     "metadata": {},
     "output_type": "execute_result"
    }
   ],
   "source": [
    "iter(spam_can)"
   ]
  },
  {
   "cell_type": "code",
   "execution_count": 12,
   "metadata": {},
   "outputs": [
    {
     "name": "stdout",
     "output_type": "stream",
     "text": [
      "-> 0\n"
     ]
    },
    {
     "data": {
      "text/plain": [
       "[]"
      ]
     },
     "execution_count": 12,
     "metadata": {},
     "output_type": "execute_result"
    }
   ],
   "source": [
    "list(spam_can)"
   ]
  },
  {
   "cell_type": "code",
   "execution_count": 13,
   "metadata": {},
   "outputs": [],
   "source": [
    "from collections import abc"
   ]
  },
  {
   "cell_type": "code",
   "execution_count": 14,
   "metadata": {},
   "outputs": [
    {
     "data": {
      "text/plain": [
       "False"
      ]
     },
     "execution_count": 14,
     "metadata": {},
     "output_type": "execute_result"
    }
   ],
   "source": [
    "isinstance(spam_can, abc.Iterable)"
   ]
  },
  {
   "cell_type": "code",
   "execution_count": 16,
   "metadata": {},
   "outputs": [
    {
     "data": {
      "text/plain": [
       "6"
      ]
     },
     "execution_count": 16,
     "metadata": {},
     "output_type": "execute_result"
    }
   ],
   "source": [
    "import random\n",
    "def d6():\n",
    "    return random.randint(1,6)\n",
    "\n",
    "d6()"
   ]
  },
  {
   "cell_type": "code",
   "execution_count": 20,
   "metadata": {},
   "outputs": [
    {
     "name": "stdout",
     "output_type": "stream",
     "text": [
      "2\n",
      "2\n",
      "2\n",
      "5\n",
      "6\n",
      "3\n",
      "3\n",
      "2\n"
     ]
    }
   ],
   "source": [
    "d6_iter = iter(d6, 1)\n",
    "for roll in d6_iter:\n",
    "    print(roll)"
   ]
  },
  {
   "cell_type": "code",
   "execution_count": 21,
   "metadata": {},
   "outputs": [],
   "source": [
    "from functools import partial"
   ]
  },
  {
   "cell_type": "code",
   "execution_count": 22,
   "metadata": {},
   "outputs": [
    {
     "data": {
      "text/plain": [
       "Sentence('Life of Brian')"
      ]
     },
     "execution_count": 22,
     "metadata": {},
     "output_type": "execute_result"
    }
   ],
   "source": [
    "s3 = Sentence('Life of Brian')\n",
    "s3"
   ]
  },
  {
   "cell_type": "code",
   "execution_count": 23,
   "metadata": {},
   "outputs": [
    {
     "data": {
      "text/plain": [
       "<iterator at 0x106bff370>"
      ]
     },
     "execution_count": 23,
     "metadata": {},
     "output_type": "execute_result"
    }
   ],
   "source": [
    "it = iter(s3)\n",
    "it"
   ]
  },
  {
   "cell_type": "code",
   "execution_count": 24,
   "metadata": {},
   "outputs": [
    {
     "data": {
      "text/plain": [
       "'Life'"
      ]
     },
     "execution_count": 24,
     "metadata": {},
     "output_type": "execute_result"
    }
   ],
   "source": [
    "next(it)"
   ]
  },
  {
   "cell_type": "code",
   "execution_count": 25,
   "metadata": {},
   "outputs": [
    {
     "data": {
      "text/plain": [
       "'of'"
      ]
     },
     "execution_count": 25,
     "metadata": {},
     "output_type": "execute_result"
    }
   ],
   "source": [
    "next(it)"
   ]
  },
  {
   "cell_type": "code",
   "execution_count": 26,
   "metadata": {},
   "outputs": [
    {
     "data": {
      "text/plain": [
       "'Brian'"
      ]
     },
     "execution_count": 26,
     "metadata": {},
     "output_type": "execute_result"
    }
   ],
   "source": [
    "next(it)"
   ]
  },
  {
   "cell_type": "code",
   "execution_count": 27,
   "metadata": {},
   "outputs": [
    {
     "ename": "StopIteration",
     "evalue": "",
     "output_type": "error",
     "traceback": [
      "\u001b[0;31m---------------------------------------------------------------------------\u001b[0m",
      "\u001b[0;31mStopIteration\u001b[0m                             Traceback (most recent call last)",
      "Cell \u001b[0;32mIn[27], line 1\u001b[0m\n\u001b[0;32m----> 1\u001b[0m \u001b[38;5;28;43mnext\u001b[39;49m\u001b[43m(\u001b[49m\u001b[43mit\u001b[49m\u001b[43m)\u001b[49m\n",
      "\u001b[0;31mStopIteration\u001b[0m: "
     ]
    }
   ],
   "source": [
    "next(it)"
   ]
  },
  {
   "cell_type": "code",
   "execution_count": 28,
   "metadata": {},
   "outputs": [
    {
     "data": {
      "text/plain": [
       "[]"
      ]
     },
     "execution_count": 28,
     "metadata": {},
     "output_type": "execute_result"
    }
   ],
   "source": [
    "list(it)"
   ]
  },
  {
   "cell_type": "code",
   "execution_count": 29,
   "metadata": {},
   "outputs": [
    {
     "data": {
      "text/plain": [
       "['Life', 'of', 'Brian']"
      ]
     },
     "execution_count": 29,
     "metadata": {},
     "output_type": "execute_result"
    }
   ],
   "source": [
    "list(iter(s3))\n"
   ]
  },
  {
   "cell_type": "code",
   "execution_count": 30,
   "metadata": {},
   "outputs": [],
   "source": [
    "import re\n",
    "import reprlib\n",
    "\n",
    "RE_WORD = re.compile(r'\\w+')"
   ]
  },
  {
   "cell_type": "code",
   "execution_count": 31,
   "metadata": {},
   "outputs": [],
   "source": [
    "class Sentence:\n",
    "    def __init__(self, text):\n",
    "        self.text = text\n",
    "        self.words = RE_WORD.findall(text)\n",
    "    def __repr__(self):\n",
    "        return f'Sentence({reprlib.repr(self.text)})'\n",
    "    def __iter__(self):\n",
    "        return SentenceIterator(self.words)\n",
    "class SentenceIterator:\n",
    "    def __init__(self, words):\n",
    "        self.words = words\n",
    "        self.index = 0\n",
    "    def __next__(self):\n",
    "        try:\n",
    "            word = self.words[self.index]\n",
    "        except IndexError:\n",
    "            raise StopIteration()\n",
    "        self.index += 1\n",
    "        return word\n",
    "    def __iter__(self):\n",
    "        return self\n",
    "    \n",
    "    \n",
    "    "
   ]
  },
  {
   "cell_type": "code",
   "execution_count": 32,
   "metadata": {},
   "outputs": [],
   "source": [
    "class Sentence:\n",
    "    def __init__(self, text):\n",
    "        self.text = text\n",
    "        self.words = RE_WORD.findall(text)\n",
    "    def __repr__(self):\n",
    "        return 'Sentence(%s)' % reprlib.repr(self.text)\n",
    "    def __iter__(self):\n",
    "        for word in self.words:\n",
    "            yield word"
   ]
  },
  {
   "cell_type": "code",
   "execution_count": 33,
   "metadata": {},
   "outputs": [
    {
     "name": "stdout",
     "output_type": "stream",
     "text": [
      "start\n",
      "-> A\n",
      "continue\n",
      "-> B\n",
      "end.\n"
     ]
    }
   ],
   "source": [
    "def gen_AB():\n",
    "    print('start')\n",
    "    yield 'A'\n",
    "    print('continue')\n",
    "    yield 'B'\n",
    "    print('end.')\n",
    "\n",
    "for c in gen_AB():\n",
    "    print('->', c)"
   ]
  },
  {
   "cell_type": "code",
   "execution_count": 34,
   "metadata": {},
   "outputs": [],
   "source": [
    "class Sentence:\n",
    "    def __init__(self, text):\n",
    "        self.text = text\n",
    "    def __repr__(self):\n",
    "        return f'Sentence({reprlib.repr(self.text)})'\n",
    "    def __iter__(self):\n",
    "        for match in RE_WORD.finditer(self.text):\n",
    "            yield match.group()"
   ]
  },
  {
   "cell_type": "code",
   "execution_count": 35,
   "metadata": {},
   "outputs": [],
   "source": [
    "class Sentence:\n",
    "    def __init__(self, text):\n",
    "        self.text = text\n",
    "    def __repr__(self):\n",
    "        return f'Sentence({reprlib.repr(self.text)})'\n",
    "    def __iter__(self):\n",
    "        return (match.group() for match in RE_WORD.finditer(self.text))"
   ]
  },
  {
   "cell_type": "code",
   "execution_count": 36,
   "metadata": {},
   "outputs": [
    {
     "name": "stdout",
     "output_type": "stream",
     "text": [
      "BaseException\n"
     ]
    }
   ],
   "source": [
    "def tree(cls):\n",
    "    yield cls.__name__\n",
    "\n",
    "def display(cls):\n",
    "    for cls_name in tree(cls):\n",
    "        print(cls_name)\n",
    "\n",
    "display(BaseException)"
   ]
  },
  {
   "cell_type": "code",
   "execution_count": 37,
   "metadata": {},
   "outputs": [
    {
     "name": "stdout",
     "output_type": "stream",
     "text": [
      "BaseException\n",
      "    BaseExceptionGroup\n",
      "    Exception\n",
      "    GeneratorExit\n",
      "    KeyboardInterrupt\n",
      "    SystemExit\n",
      "    CancelledError\n"
     ]
    }
   ],
   "source": [
    "def tree(cls):\n",
    "    yield cls.__name__, 0\n",
    "    for sub_cls in cls.__subclasses__():\n",
    "        yield sub_cls.__name__, 1\n",
    "\n",
    "def display(cls):\n",
    "    for cls_name, level in tree(cls):\n",
    "        indent = ' ' * 4 * level\n",
    "        print(f'{indent}{cls_name}')\n",
    "\n",
    "display(BaseException)"
   ]
  },
  {
   "cell_type": "code",
   "execution_count": 38,
   "metadata": {},
   "outputs": [
    {
     "name": "stdout",
     "output_type": "stream",
     "text": [
      "BaseException\n",
      "    BaseExceptionGroup\n",
      "    Exception\n",
      "    GeneratorExit\n",
      "    KeyboardInterrupt\n",
      "    SystemExit\n",
      "    CancelledError\n"
     ]
    }
   ],
   "source": [
    "def tree(cls):\n",
    "    yield cls.__name__, 0\n",
    "    yield from sub_tree(cls)\n",
    "def sub_tree(cls):\n",
    "    for sub_cls in cls.__subclasses__():\n",
    "        yield sub_cls.__name__, 1\n",
    "def display(cls):\n",
    "    for cls_name, level in tree(cls):\n",
    "        indent = ' ' * 4 * level\n",
    "        print(f'{indent}{cls_name}')\n",
    "\n",
    "display(BaseException)"
   ]
  },
  {
   "cell_type": "code",
   "execution_count": 2,
   "metadata": {},
   "outputs": [
    {
     "name": "stdout",
     "output_type": "stream",
     "text": [
      "BaseException\n",
      "    BaseExceptionGroup\n",
      "        ExceptionGroup\n",
      "    Exception\n",
      "        ArithmeticError\n",
      "            FloatingPointError\n",
      "            OverflowError\n",
      "            ZeroDivisionError\n",
      "            DecimalException\n",
      "        AssertionError\n",
      "        AttributeError\n",
      "            FrozenInstanceError\n",
      "        BufferError\n",
      "        EOFError\n",
      "            IncompleteReadError\n",
      "        ImportError\n",
      "            ModuleNotFoundError\n",
      "            ZipImportError\n",
      "        LookupError\n",
      "            IndexError\n",
      "            KeyError\n",
      "            CodecRegistryError\n",
      "        MemoryError\n",
      "        NameError\n",
      "            UnboundLocalError\n",
      "        OSError\n",
      "            BlockingIOError\n",
      "            ChildProcessError\n",
      "            ConnectionError\n",
      "            FileExistsError\n",
      "            FileNotFoundError\n",
      "            InterruptedError\n",
      "            IsADirectoryError\n",
      "            NotADirectoryError\n",
      "            PermissionError\n",
      "            ProcessLookupError\n",
      "            TimeoutError\n",
      "            UnsupportedOperation\n",
      "            itimer_error\n",
      "            herror\n",
      "            gaierror\n",
      "            SSLError\n",
      "            Error\n",
      "            SpecialFileError\n",
      "            ExecError\n",
      "            ReadError\n",
      "            URLError\n",
      "            BadGzipFile\n",
      "        ReferenceError\n",
      "        RuntimeError\n",
      "            NotImplementedError\n",
      "            RecursionError\n",
      "            _DeadlockError\n",
      "            BrokenBarrierError\n",
      "            BrokenExecutor\n",
      "            SendfileNotAvailableError\n",
      "            BrokenBarrierError\n",
      "            VariableError\n",
      "        StopAsyncIteration\n",
      "        StopIteration\n",
      "        SyntaxError\n",
      "            IndentationError\n",
      "        SystemError\n",
      "            CodecRegistryError\n",
      "        TypeError\n",
      "            FloatOperation\n",
      "            MultipartConversionError\n",
      "        ValueError\n",
      "            UnicodeError\n",
      "            UnsupportedOperation\n",
      "            JSONDecodeError\n",
      "            SSLCertVerificationError\n",
      "            Error\n",
      "            AddressValueError\n",
      "            NetmaskValueError\n",
      "            UnsupportedDigestmodError\n",
      "            IllegalMonthError\n",
      "            IllegalWeekdayError\n",
      "            ParserError\n",
      "            MessageDefect\n",
      "            ClassNotFound\n",
      "            ClipboardEmpty\n",
      "            MacroToEdit\n",
      "            InvalidFileException\n",
      "            InvalidVersion\n",
      "        Warning\n",
      "            BytesWarning\n",
      "            DeprecationWarning\n",
      "            EncodingWarning\n",
      "            FutureWarning\n",
      "            ImportWarning\n",
      "            PendingDeprecationWarning\n",
      "            ResourceWarning\n",
      "            RuntimeWarning\n",
      "            SyntaxWarning\n",
      "            UnicodeWarning\n",
      "            UserWarning\n",
      "            DeprecatedTzFormatWarning\n",
      "        ExceptionGroup\n",
      "        _OptionError\n",
      "        _Error\n",
      "        error\n",
      "        Error\n",
      "        SubprocessError\n",
      "            CalledProcessError\n",
      "            TimeoutExpired\n",
      "        ArgumentError\n",
      "        error\n",
      "        ZMQBaseError\n",
      "            ZMQError\n",
      "            ZMQBindError\n",
      "            NotDone\n",
      "        Error\n",
      "        PickleError\n",
      "            PicklingError\n",
      "            UnpicklingError\n",
      "        _Stop\n",
      "        TokenError\n",
      "        StopTokenizing\n",
      "        Error\n",
      "            CancelledError\n",
      "            InvalidStateError\n",
      "        _GiveupOnSendfile\n",
      "        Incomplete\n",
      "        ClassFoundException\n",
      "        EndOfBlock\n",
      "        InvalidStateError\n",
      "        LimitOverrunError\n",
      "        QueueEmpty\n",
      "        QueueFull\n",
      "        TraitError\n",
      "        Empty\n",
      "        Full\n",
      "        error\n",
      "        error\n",
      "        ReturnValueIgnoredError\n",
      "        ArgumentError\n",
      "        ArgumentTypeError\n",
      "        ConfigError\n",
      "            ConfigLoaderError\n",
      "            ConfigFileNotFound\n",
      "        ConfigurableError\n",
      "            MultipleInstanceError\n",
      "        ApplicationError\n",
      "        InvalidPortNumber\n",
      "        error\n",
      "        LZMAError\n",
      "        RegistryError\n",
      "        _GiveupOnFastCopy\n",
      "        NoIPAddresses\n",
      "        Error\n",
      "        BadZipFile\n",
      "        LargeZipFile\n",
      "        MessageError\n",
      "            MessageParseError\n",
      "            MultipartConversionError\n",
      "            CharsetError\n",
      "        DuplicateKernelError\n",
      "        ErrorDuringImport\n",
      "        NotOneValueFound\n",
      "        KnownIssue\n",
      "        VerifierFailure\n",
      "        CannotEval\n",
      "        OptionError\n",
      "        BdbQuit\n",
      "        Restart\n",
      "        ExceptionPexpect\n",
      "            EOF\n",
      "            TIMEOUT\n",
      "        PtyProcessError\n",
      "        FindCmdError\n",
      "        HomeDirError\n",
      "        ProfileDirError\n",
      "        IPythonCoreError\n",
      "            TryNext\n",
      "            UsageError\n",
      "            StdinNotImplementedError\n",
      "        InputRejected\n",
      "        GetoptError\n",
      "        ErrorToken\n",
      "        PrefilterError\n",
      "        AliasError\n",
      "            InvalidAliasError\n",
      "        Error\n",
      "            InterfaceError\n",
      "            DatabaseError\n",
      "        Warning\n",
      "        SpaceInInput\n",
      "        DOMException\n",
      "            IndexSizeErr\n",
      "            DomstringSizeErr\n",
      "            HierarchyRequestErr\n",
      "            WrongDocumentErr\n",
      "            InvalidCharacterErr\n",
      "            NoDataAllowedErr\n",
      "            NoModificationAllowedErr\n",
      "            NotFoundErr\n",
      "            NotSupportedErr\n",
      "            InuseAttributeErr\n",
      "            InvalidStateErr\n",
      "            SyntaxErr\n",
      "            InvalidModificationErr\n",
      "            NamespaceErr\n",
      "            InvalidAccessErr\n",
      "            ValidationErr\n",
      "        ValidationError\n",
      "        EditReadOnlyBuffer\n",
      "        _Retry\n",
      "        InvalidLayoutError\n",
      "        HeightIsUnknownError\n",
      "        GuardRejection\n",
      "        ParserSyntaxError\n",
      "        InternalParseError\n",
      "        _PositionUpdatingFinished\n",
      "        SimpleGetItemNotFound\n",
      "        UncaughtAttributeError\n",
      "        HasNoContext\n",
      "        ParamIssue\n",
      "        _JediError\n",
      "            InternalError\n",
      "            WrongVersion\n",
      "            RefactoringError\n",
      "        OnErrorLeaf\n",
      "        InvalidPythonEnvironment\n",
      "        HTTPException\n",
      "            NotConnected\n",
      "            InvalidURL\n",
      "            UnknownProtocol\n",
      "            UnknownTransferEncoding\n",
      "            UnimplementedFileMode\n",
      "            IncompleteRead\n",
      "            ImproperConnectionState\n",
      "            BadStatusLine\n",
      "            LineTooLong\n",
      "        InteractivelyDefined\n",
      "        KillEmbedded\n",
      "        Error\n",
      "            NoSuchProcess\n",
      "            AccessDenied\n",
      "            TimeoutExpired\n",
      "        KeyReuseError\n",
      "        UnknownKeyError\n",
      "        LeakedCallbackError\n",
      "        BadYieldError\n",
      "        ReturnValueIgnoredError\n",
      "        Return\n",
      "        QueueEmpty\n",
      "        QueueFull\n",
      "        DebuggerInitializationError\n",
      "        ExpatError\n",
      "        Error\n",
      "            ProtocolError\n",
      "            ResponseError\n",
      "            Fault\n",
      "        _Error\n",
      "        UnableToResolveVariableException\n",
      "        InvalidTypeInArgsException\n",
      "    GeneratorExit\n",
      "    KeyboardInterrupt\n",
      "    SystemExit\n",
      "    CancelledError\n"
     ]
    }
   ],
   "source": [
    "def tree(cls):\n",
    "    yield cls.__name__, 0\n",
    "    yield from sub_tree(cls)\n",
    "def sub_tree(cls):\n",
    "    for sub_cls in cls.__subclasses__():\n",
    "        yield sub_cls.__name__, 1\n",
    "        for sub_sub_cls in sub_cls.__subclasses__():\n",
    "            yield sub_sub_cls.__name__, 2\n",
    "            for sub_sub_sub_cls in sub_sub_cls.__subclasses__():\n",
    "                yield sub_sub_sub_cls.__name__, 3\n",
    "def display(cls):\n",
    "    for cls_name, level in tree(cls):\n",
    "        indent = ' ' * 4 * level\n",
    "        print(f'{indent}{cls_name}')\n",
    "\n",
    "display(BaseException)"
   ]
  },
  {
   "cell_type": "code",
   "execution_count": 3,
   "metadata": {},
   "outputs": [],
   "source": [
    "def tree(cls):\n",
    "    yield cls.__name__, 0\n",
    "    yield from sub_tree(cls, 1)\n",
    "def sub_tree(cls, level):\n",
    "    for sub_cls in cls.__subclasses__():\n",
    "        yield sub_cls.__name__, level\n",
    "        yield from sub_tree(sub_cls, level+1)\n",
    "def display(cls):\n",
    "    for cls_name, level in tree(cls):\n",
    "        indent = ' ' * 4 * level\n",
    "        print(f'{indent}{cls_name}')"
   ]
  },
  {
   "cell_type": "code",
   "execution_count": 4,
   "metadata": {},
   "outputs": [
    {
     "name": "stdout",
     "output_type": "stream",
     "text": [
      "BaseException\n",
      "    BaseExceptionGroup\n",
      "        ExceptionGroup\n",
      "    Exception\n",
      "        ArithmeticError\n",
      "            FloatingPointError\n",
      "            OverflowError\n",
      "            ZeroDivisionError\n",
      "                DivisionByZero\n",
      "                DivisionUndefined\n",
      "            DecimalException\n",
      "                Clamped\n",
      "                Rounded\n",
      "                    Underflow\n",
      "                    Overflow\n",
      "                Inexact\n",
      "                    Underflow\n",
      "                    Overflow\n",
      "                Subnormal\n",
      "                    Underflow\n",
      "                DivisionByZero\n",
      "                FloatOperation\n",
      "                InvalidOperation\n",
      "                    ConversionSyntax\n",
      "                    DivisionImpossible\n",
      "                    DivisionUndefined\n",
      "                    InvalidContext\n",
      "        AssertionError\n",
      "        AttributeError\n",
      "            FrozenInstanceError\n",
      "        BufferError\n",
      "        EOFError\n",
      "            IncompleteReadError\n",
      "        ImportError\n",
      "            ModuleNotFoundError\n",
      "                PackageNotFoundError\n",
      "            ZipImportError\n",
      "        LookupError\n",
      "            IndexError\n",
      "            KeyError\n",
      "                NoSuchKernel\n",
      "                UnknownBackend\n",
      "            CodecRegistryError\n",
      "        MemoryError\n",
      "        NameError\n",
      "            UnboundLocalError\n",
      "        OSError\n",
      "            BlockingIOError\n",
      "            ChildProcessError\n",
      "            ConnectionError\n",
      "                BrokenPipeError\n",
      "                ConnectionAbortedError\n",
      "                ConnectionRefusedError\n",
      "                ConnectionResetError\n",
      "                    RemoteDisconnected\n",
      "            FileExistsError\n",
      "            FileNotFoundError\n",
      "            InterruptedError\n",
      "                InterruptedSystemCall\n",
      "            IsADirectoryError\n",
      "            NotADirectoryError\n",
      "            PermissionError\n",
      "            ProcessLookupError\n",
      "            TimeoutError\n",
      "            UnsupportedOperation\n",
      "            itimer_error\n",
      "            herror\n",
      "            gaierror\n",
      "            SSLError\n",
      "                SSLCertVerificationError\n",
      "                SSLZeroReturnError\n",
      "                SSLWantWriteError\n",
      "                SSLWantReadError\n",
      "                SSLSyscallError\n",
      "                SSLEOFError\n",
      "            Error\n",
      "                SameFileError\n",
      "            SpecialFileError\n",
      "            ExecError\n",
      "            ReadError\n",
      "            URLError\n",
      "                HTTPError\n",
      "                ContentTooShortError\n",
      "            BadGzipFile\n",
      "        ReferenceError\n",
      "        RuntimeError\n",
      "            NotImplementedError\n",
      "                ZMQVersionError\n",
      "                StdinNotImplementedError\n",
      "            RecursionError\n",
      "            _DeadlockError\n",
      "            BrokenBarrierError\n",
      "            BrokenExecutor\n",
      "                BrokenThreadPool\n",
      "            SendfileNotAvailableError\n",
      "            BrokenBarrierError\n",
      "            VariableError\n",
      "        StopAsyncIteration\n",
      "        StopIteration\n",
      "        SyntaxError\n",
      "            IndentationError\n",
      "                TabError\n",
      "        SystemError\n",
      "            CodecRegistryError\n",
      "        TypeError\n",
      "            FloatOperation\n",
      "            MultipartConversionError\n",
      "        ValueError\n",
      "            UnicodeError\n",
      "                UnicodeDecodeError\n",
      "                UnicodeEncodeError\n",
      "                UnicodeTranslateError\n",
      "            UnsupportedOperation\n",
      "            JSONDecodeError\n",
      "            SSLCertVerificationError\n",
      "            Error\n",
      "            AddressValueError\n",
      "            NetmaskValueError\n",
      "            UnsupportedDigestmodError\n",
      "            IllegalMonthError\n",
      "            IllegalWeekdayError\n",
      "            ParserError\n",
      "            MessageDefect\n",
      "                NoBoundaryInMultipartDefect\n",
      "                StartBoundaryNotFoundDefect\n",
      "                CloseBoundaryNotFoundDefect\n",
      "                FirstHeaderLineIsContinuationDefect\n",
      "                MisplacedEnvelopeHeaderDefect\n",
      "                MissingHeaderBodySeparatorDefect\n",
      "                MultipartInvariantViolationDefect\n",
      "                InvalidMultipartContentTransferEncodingDefect\n",
      "                UndecodableBytesDefect\n",
      "                InvalidBase64PaddingDefect\n",
      "                InvalidBase64CharactersDefect\n",
      "                InvalidBase64LengthDefect\n",
      "                HeaderDefect\n",
      "                    InvalidHeaderDefect\n",
      "                    HeaderMissingRequiredValue\n",
      "                    NonPrintableDefect\n",
      "                    ObsoleteHeaderDefect\n",
      "                    NonASCIILocalPartDefect\n",
      "                    InvalidDateDefect\n",
      "            ClassNotFound\n",
      "            ClipboardEmpty\n",
      "            MacroToEdit\n",
      "            InvalidFileException\n",
      "            InvalidVersion\n",
      "        Warning\n",
      "            BytesWarning\n",
      "            DeprecationWarning\n",
      "                ProvisionalWarning\n",
      "            EncodingWarning\n",
      "            FutureWarning\n",
      "                ProvisionalCompleterWarning\n",
      "            ImportWarning\n",
      "            PendingDeprecationWarning\n",
      "            ResourceWarning\n",
      "            RuntimeWarning\n",
      "                ProactorSelectorThreadWarning\n",
      "                UnknownTimezoneWarning\n",
      "            SyntaxWarning\n",
      "            UnicodeWarning\n",
      "            UserWarning\n",
      "                GetPassWarning\n",
      "                FormatterWarning\n",
      "            DeprecatedTzFormatWarning\n",
      "        ExceptionGroup\n",
      "        _OptionError\n",
      "        _Error\n",
      "        error\n",
      "        Error\n",
      "        SubprocessError\n",
      "            CalledProcessError\n",
      "            TimeoutExpired\n",
      "        ArgumentError\n",
      "        error\n",
      "        ZMQBaseError\n",
      "            ZMQError\n",
      "                ContextTerminated\n",
      "                Again\n",
      "                InterruptedSystemCall\n",
      "            ZMQBindError\n",
      "            NotDone\n",
      "        Error\n",
      "        PickleError\n",
      "            PicklingError\n",
      "            UnpicklingError\n",
      "        _Stop\n",
      "        TokenError\n",
      "        StopTokenizing\n",
      "        Error\n",
      "            CancelledError\n",
      "            InvalidStateError\n",
      "        _GiveupOnSendfile\n",
      "        Incomplete\n",
      "        ClassFoundException\n",
      "        EndOfBlock\n",
      "        InvalidStateError\n",
      "        LimitOverrunError\n",
      "        QueueEmpty\n",
      "        QueueFull\n",
      "        TraitError\n",
      "        Empty\n",
      "        Full\n",
      "        error\n",
      "        error\n",
      "        ReturnValueIgnoredError\n",
      "        ArgumentError\n",
      "        ArgumentTypeError\n",
      "        ConfigError\n",
      "            ConfigLoaderError\n",
      "                ArgumentError\n",
      "            ConfigFileNotFound\n",
      "        ConfigurableError\n",
      "            MultipleInstanceError\n",
      "        ApplicationError\n",
      "        InvalidPortNumber\n",
      "        error\n",
      "        LZMAError\n",
      "        RegistryError\n",
      "        _GiveupOnFastCopy\n",
      "        NoIPAddresses\n",
      "        Error\n",
      "        BadZipFile\n",
      "        LargeZipFile\n",
      "        MessageError\n",
      "            MessageParseError\n",
      "                HeaderParseError\n",
      "                BoundaryError\n",
      "            MultipartConversionError\n",
      "            CharsetError\n",
      "        DuplicateKernelError\n",
      "        ErrorDuringImport\n",
      "        NotOneValueFound\n",
      "        KnownIssue\n",
      "        VerifierFailure\n",
      "        CannotEval\n",
      "        OptionError\n",
      "        BdbQuit\n",
      "        Restart\n",
      "        ExceptionPexpect\n",
      "            EOF\n",
      "            TIMEOUT\n",
      "        PtyProcessError\n",
      "        FindCmdError\n",
      "        HomeDirError\n",
      "        ProfileDirError\n",
      "        IPythonCoreError\n",
      "            TryNext\n",
      "            UsageError\n",
      "            StdinNotImplementedError\n",
      "        InputRejected\n",
      "        GetoptError\n",
      "        ErrorToken\n",
      "        PrefilterError\n",
      "        AliasError\n",
      "            InvalidAliasError\n",
      "        Error\n",
      "            InterfaceError\n",
      "            DatabaseError\n",
      "                InternalError\n",
      "                OperationalError\n",
      "                ProgrammingError\n",
      "                IntegrityError\n",
      "                DataError\n",
      "                NotSupportedError\n",
      "        Warning\n",
      "        SpaceInInput\n",
      "        DOMException\n",
      "            IndexSizeErr\n",
      "            DomstringSizeErr\n",
      "            HierarchyRequestErr\n",
      "            WrongDocumentErr\n",
      "            InvalidCharacterErr\n",
      "            NoDataAllowedErr\n",
      "            NoModificationAllowedErr\n",
      "            NotFoundErr\n",
      "            NotSupportedErr\n",
      "            InuseAttributeErr\n",
      "            InvalidStateErr\n",
      "            SyntaxErr\n",
      "            InvalidModificationErr\n",
      "            NamespaceErr\n",
      "            InvalidAccessErr\n",
      "            ValidationErr\n",
      "        ValidationError\n",
      "        EditReadOnlyBuffer\n",
      "        _Retry\n",
      "        InvalidLayoutError\n",
      "        HeightIsUnknownError\n",
      "        GuardRejection\n",
      "        ParserSyntaxError\n",
      "        InternalParseError\n",
      "        _PositionUpdatingFinished\n",
      "        SimpleGetItemNotFound\n",
      "        UncaughtAttributeError\n",
      "        HasNoContext\n",
      "        ParamIssue\n",
      "        _JediError\n",
      "            InternalError\n",
      "            WrongVersion\n",
      "            RefactoringError\n",
      "        OnErrorLeaf\n",
      "        InvalidPythonEnvironment\n",
      "        HTTPException\n",
      "            NotConnected\n",
      "            InvalidURL\n",
      "            UnknownProtocol\n",
      "            UnknownTransferEncoding\n",
      "            UnimplementedFileMode\n",
      "            IncompleteRead\n",
      "            ImproperConnectionState\n",
      "                CannotSendRequest\n",
      "                CannotSendHeader\n",
      "                ResponseNotReady\n",
      "            BadStatusLine\n",
      "                RemoteDisconnected\n",
      "            LineTooLong\n",
      "        InteractivelyDefined\n",
      "        KillEmbedded\n",
      "        Error\n",
      "            NoSuchProcess\n",
      "                ZombieProcess\n",
      "            AccessDenied\n",
      "            TimeoutExpired\n",
      "        KeyReuseError\n",
      "        UnknownKeyError\n",
      "        LeakedCallbackError\n",
      "        BadYieldError\n",
      "        ReturnValueIgnoredError\n",
      "        Return\n",
      "        QueueEmpty\n",
      "        QueueFull\n",
      "        DebuggerInitializationError\n",
      "        ExpatError\n",
      "        Error\n",
      "            ProtocolError\n",
      "            ResponseError\n",
      "            Fault\n",
      "        _Error\n",
      "        UnableToResolveVariableException\n",
      "        InvalidTypeInArgsException\n",
      "    GeneratorExit\n",
      "    KeyboardInterrupt\n",
      "    SystemExit\n",
      "    CancelledError\n"
     ]
    }
   ],
   "source": [
    "display(BaseException)"
   ]
  },
  {
   "cell_type": "code",
   "execution_count": 5,
   "metadata": {},
   "outputs": [
    {
     "name": "stdout",
     "output_type": "stream",
     "text": [
      "BaseException\n",
      "    BaseExceptionGroup\n",
      "        ExceptionGroup\n",
      "    Exception\n",
      "        ArithmeticError\n",
      "            FloatingPointError\n",
      "            OverflowError\n",
      "            ZeroDivisionError\n",
      "                DivisionByZero\n",
      "                DivisionUndefined\n",
      "            DecimalException\n",
      "                Clamped\n",
      "                Rounded\n",
      "                    Underflow\n",
      "                    Overflow\n",
      "                Inexact\n",
      "                    Underflow\n",
      "                    Overflow\n",
      "                Subnormal\n",
      "                    Underflow\n",
      "                DivisionByZero\n",
      "                FloatOperation\n",
      "                InvalidOperation\n",
      "                    ConversionSyntax\n",
      "                    DivisionImpossible\n",
      "                    DivisionUndefined\n",
      "                    InvalidContext\n",
      "        AssertionError\n",
      "        AttributeError\n",
      "            FrozenInstanceError\n",
      "        BufferError\n",
      "        EOFError\n",
      "            IncompleteReadError\n",
      "        ImportError\n",
      "            ModuleNotFoundError\n",
      "                PackageNotFoundError\n",
      "            ZipImportError\n",
      "        LookupError\n",
      "            IndexError\n",
      "            KeyError\n",
      "                NoSuchKernel\n",
      "                UnknownBackend\n",
      "            CodecRegistryError\n",
      "        MemoryError\n",
      "        NameError\n",
      "            UnboundLocalError\n",
      "        OSError\n",
      "            BlockingIOError\n",
      "            ChildProcessError\n",
      "            ConnectionError\n",
      "                BrokenPipeError\n",
      "                ConnectionAbortedError\n",
      "                ConnectionRefusedError\n",
      "                ConnectionResetError\n",
      "                    RemoteDisconnected\n",
      "            FileExistsError\n",
      "            FileNotFoundError\n",
      "            InterruptedError\n",
      "                InterruptedSystemCall\n",
      "            IsADirectoryError\n",
      "            NotADirectoryError\n",
      "            PermissionError\n",
      "            ProcessLookupError\n",
      "            TimeoutError\n",
      "            UnsupportedOperation\n",
      "            itimer_error\n",
      "            herror\n",
      "            gaierror\n",
      "            SSLError\n",
      "                SSLCertVerificationError\n",
      "                SSLZeroReturnError\n",
      "                SSLWantWriteError\n",
      "                SSLWantReadError\n",
      "                SSLSyscallError\n",
      "                SSLEOFError\n",
      "            Error\n",
      "                SameFileError\n",
      "            SpecialFileError\n",
      "            ExecError\n",
      "            ReadError\n",
      "            URLError\n",
      "                HTTPError\n",
      "                ContentTooShortError\n",
      "            BadGzipFile\n",
      "        ReferenceError\n",
      "        RuntimeError\n",
      "            NotImplementedError\n",
      "                ZMQVersionError\n",
      "                StdinNotImplementedError\n",
      "            RecursionError\n",
      "            _DeadlockError\n",
      "            BrokenBarrierError\n",
      "            BrokenExecutor\n",
      "                BrokenThreadPool\n",
      "            SendfileNotAvailableError\n",
      "            BrokenBarrierError\n",
      "            VariableError\n",
      "        StopAsyncIteration\n",
      "        StopIteration\n",
      "        SyntaxError\n",
      "            IndentationError\n",
      "                TabError\n",
      "        SystemError\n",
      "            CodecRegistryError\n",
      "        TypeError\n",
      "            FloatOperation\n",
      "            MultipartConversionError\n",
      "        ValueError\n",
      "            UnicodeError\n",
      "                UnicodeDecodeError\n",
      "                UnicodeEncodeError\n",
      "                UnicodeTranslateError\n",
      "            UnsupportedOperation\n",
      "            JSONDecodeError\n",
      "            SSLCertVerificationError\n",
      "            Error\n",
      "            AddressValueError\n",
      "            NetmaskValueError\n",
      "            UnsupportedDigestmodError\n",
      "            IllegalMonthError\n",
      "            IllegalWeekdayError\n",
      "            ParserError\n",
      "            MessageDefect\n",
      "                NoBoundaryInMultipartDefect\n",
      "                StartBoundaryNotFoundDefect\n",
      "                CloseBoundaryNotFoundDefect\n",
      "                FirstHeaderLineIsContinuationDefect\n",
      "                MisplacedEnvelopeHeaderDefect\n",
      "                MissingHeaderBodySeparatorDefect\n",
      "                MultipartInvariantViolationDefect\n",
      "                InvalidMultipartContentTransferEncodingDefect\n",
      "                UndecodableBytesDefect\n",
      "                InvalidBase64PaddingDefect\n",
      "                InvalidBase64CharactersDefect\n",
      "                InvalidBase64LengthDefect\n",
      "                HeaderDefect\n",
      "                    InvalidHeaderDefect\n",
      "                    HeaderMissingRequiredValue\n",
      "                    NonPrintableDefect\n",
      "                    ObsoleteHeaderDefect\n",
      "                    NonASCIILocalPartDefect\n",
      "                    InvalidDateDefect\n",
      "            ClassNotFound\n",
      "            ClipboardEmpty\n",
      "            MacroToEdit\n",
      "            InvalidFileException\n",
      "            InvalidVersion\n",
      "        Warning\n",
      "            BytesWarning\n",
      "            DeprecationWarning\n",
      "                ProvisionalWarning\n",
      "            EncodingWarning\n",
      "            FutureWarning\n",
      "                ProvisionalCompleterWarning\n",
      "            ImportWarning\n",
      "            PendingDeprecationWarning\n",
      "            ResourceWarning\n",
      "            RuntimeWarning\n",
      "                ProactorSelectorThreadWarning\n",
      "                UnknownTimezoneWarning\n",
      "            SyntaxWarning\n",
      "            UnicodeWarning\n",
      "            UserWarning\n",
      "                GetPassWarning\n",
      "                FormatterWarning\n",
      "            DeprecatedTzFormatWarning\n",
      "        ExceptionGroup\n",
      "        _OptionError\n",
      "        _Error\n",
      "        error\n",
      "        Error\n",
      "        SubprocessError\n",
      "            CalledProcessError\n",
      "            TimeoutExpired\n",
      "        ArgumentError\n",
      "        error\n",
      "        ZMQBaseError\n",
      "            ZMQError\n",
      "                ContextTerminated\n",
      "                Again\n",
      "                InterruptedSystemCall\n",
      "            ZMQBindError\n",
      "            NotDone\n",
      "        Error\n",
      "        PickleError\n",
      "            PicklingError\n",
      "            UnpicklingError\n",
      "        _Stop\n",
      "        TokenError\n",
      "        StopTokenizing\n",
      "        Error\n",
      "            CancelledError\n",
      "            InvalidStateError\n",
      "        _GiveupOnSendfile\n",
      "        Incomplete\n",
      "        ClassFoundException\n",
      "        EndOfBlock\n",
      "        InvalidStateError\n",
      "        LimitOverrunError\n",
      "        QueueEmpty\n",
      "        QueueFull\n",
      "        TraitError\n",
      "        Empty\n",
      "        Full\n",
      "        error\n",
      "        error\n",
      "        ReturnValueIgnoredError\n",
      "        ArgumentError\n",
      "        ArgumentTypeError\n",
      "        ConfigError\n",
      "            ConfigLoaderError\n",
      "                ArgumentError\n",
      "            ConfigFileNotFound\n",
      "        ConfigurableError\n",
      "            MultipleInstanceError\n",
      "        ApplicationError\n",
      "        InvalidPortNumber\n",
      "        error\n",
      "        LZMAError\n",
      "        RegistryError\n",
      "        _GiveupOnFastCopy\n",
      "        NoIPAddresses\n",
      "        Error\n",
      "        BadZipFile\n",
      "        LargeZipFile\n",
      "        MessageError\n",
      "            MessageParseError\n",
      "                HeaderParseError\n",
      "                BoundaryError\n",
      "            MultipartConversionError\n",
      "            CharsetError\n",
      "        DuplicateKernelError\n",
      "        ErrorDuringImport\n",
      "        NotOneValueFound\n",
      "        KnownIssue\n",
      "        VerifierFailure\n",
      "        CannotEval\n",
      "        OptionError\n",
      "        BdbQuit\n",
      "        Restart\n",
      "        ExceptionPexpect\n",
      "            EOF\n",
      "            TIMEOUT\n",
      "        PtyProcessError\n",
      "        FindCmdError\n",
      "        HomeDirError\n",
      "        ProfileDirError\n",
      "        IPythonCoreError\n",
      "            TryNext\n",
      "            UsageError\n",
      "            StdinNotImplementedError\n",
      "        InputRejected\n",
      "        GetoptError\n",
      "        ErrorToken\n",
      "        PrefilterError\n",
      "        AliasError\n",
      "            InvalidAliasError\n",
      "        Error\n",
      "            InterfaceError\n",
      "            DatabaseError\n",
      "                InternalError\n",
      "                OperationalError\n",
      "                ProgrammingError\n",
      "                IntegrityError\n",
      "                DataError\n",
      "                NotSupportedError\n",
      "        Warning\n",
      "        SpaceInInput\n",
      "        DOMException\n",
      "            IndexSizeErr\n",
      "            DomstringSizeErr\n",
      "            HierarchyRequestErr\n",
      "            WrongDocumentErr\n",
      "            InvalidCharacterErr\n",
      "            NoDataAllowedErr\n",
      "            NoModificationAllowedErr\n",
      "            NotFoundErr\n",
      "            NotSupportedErr\n",
      "            InuseAttributeErr\n",
      "            InvalidStateErr\n",
      "            SyntaxErr\n",
      "            InvalidModificationErr\n",
      "            NamespaceErr\n",
      "            InvalidAccessErr\n",
      "            ValidationErr\n",
      "        ValidationError\n",
      "        EditReadOnlyBuffer\n",
      "        _Retry\n",
      "        InvalidLayoutError\n",
      "        HeightIsUnknownError\n",
      "        GuardRejection\n",
      "        ParserSyntaxError\n",
      "        InternalParseError\n",
      "        _PositionUpdatingFinished\n",
      "        SimpleGetItemNotFound\n",
      "        UncaughtAttributeError\n",
      "        HasNoContext\n",
      "        ParamIssue\n",
      "        _JediError\n",
      "            InternalError\n",
      "            WrongVersion\n",
      "            RefactoringError\n",
      "        OnErrorLeaf\n",
      "        InvalidPythonEnvironment\n",
      "        HTTPException\n",
      "            NotConnected\n",
      "            InvalidURL\n",
      "            UnknownProtocol\n",
      "            UnknownTransferEncoding\n",
      "            UnimplementedFileMode\n",
      "            IncompleteRead\n",
      "            ImproperConnectionState\n",
      "                CannotSendRequest\n",
      "                CannotSendHeader\n",
      "                ResponseNotReady\n",
      "            BadStatusLine\n",
      "                RemoteDisconnected\n",
      "            LineTooLong\n",
      "        InteractivelyDefined\n",
      "        KillEmbedded\n",
      "        Error\n",
      "            NoSuchProcess\n",
      "                ZombieProcess\n",
      "            AccessDenied\n",
      "            TimeoutExpired\n",
      "        KeyReuseError\n",
      "        UnknownKeyError\n",
      "        LeakedCallbackError\n",
      "        BadYieldError\n",
      "        ReturnValueIgnoredError\n",
      "        Return\n",
      "        QueueEmpty\n",
      "        QueueFull\n",
      "        DebuggerInitializationError\n",
      "        ExpatError\n",
      "        Error\n",
      "            ProtocolError\n",
      "            ResponseError\n",
      "            Fault\n",
      "        _Error\n",
      "        UnableToResolveVariableException\n",
      "        InvalidTypeInArgsException\n",
      "    GeneratorExit\n",
      "    KeyboardInterrupt\n",
      "    SystemExit\n",
      "    CancelledError\n"
     ]
    }
   ],
   "source": [
    "def tree(cls, level=0):\n",
    "    yield cls.__name__, level\n",
    "    for sub_cls in cls.__subclasses__():\n",
    "        yield from tree(sub_cls, level+1)\n",
    "def display(cls):\n",
    "    for cls_name, level in tree(cls):\n",
    "        indent = ' ' * 4 * level\n",
    "        print(f'{indent}{cls_name}')\n",
    "\n",
    "display(BaseException)"
   ]
  },
  {
   "cell_type": "code",
   "execution_count": 11,
   "metadata": {},
   "outputs": [],
   "source": [
    "from collections.abc import Iterator\n",
    "from keyword import kwlist\n",
    "from typing import TYPE_CHECKING\n",
    "\n",
    "short_kw = (k for k in kwlist if len(k) < 5)\n",
    "\n",
    "if TYPE_CHECKING:\n",
    "    reveal_type(short_kw)\n",
    "# long_kw: Iterator[str] = (k for k in kwlist if len(k) >= 4)\n",
    "# if TYPE_CHECKING:\n",
    "# reveal_type(long_kw)"
   ]
  },
  {
   "cell_type": "code",
   "execution_count": 12,
   "metadata": {},
   "outputs": [
    {
     "ename": "NameError",
     "evalue": "name 'reveal_type' is not defined",
     "output_type": "error",
     "traceback": [
      "\u001b[0;31m---------------------------------------------------------------------------\u001b[0m",
      "\u001b[0;31mNameError\u001b[0m                                 Traceback (most recent call last)",
      "Cell \u001b[0;32mIn[12], line 1\u001b[0m\n\u001b[0;32m----> 1\u001b[0m \u001b[43mreveal_type\u001b[49m(short_kw)\n",
      "\u001b[0;31mNameError\u001b[0m: name 'reveal_type' is not defined"
     ]
    }
   ],
   "source": [
    "reveal_type(short_kw)"
   ]
  },
  {
   "cell_type": "code",
   "execution_count": null,
   "metadata": {},
   "outputs": [],
   "source": []
  }
 ],
 "metadata": {
  "kernelspec": {
   "display_name": "Python 3",
   "language": "python",
   "name": "python3"
  },
  "language_info": {
   "codemirror_mode": {
    "name": "ipython",
    "version": 3
   },
   "file_extension": ".py",
   "mimetype": "text/x-python",
   "name": "python",
   "nbconvert_exporter": "python",
   "pygments_lexer": "ipython3",
   "version": "3.11.5"
  }
 },
 "nbformat": 4,
 "nbformat_minor": 2
}
