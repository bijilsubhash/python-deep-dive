{
 "cells": [
  {
   "cell_type": "code",
   "execution_count": 1,
   "metadata": {},
   "outputs": [],
   "source": [
    "class CyclicIterator:\n",
    "    def __init__(self, lst):\n",
    "        self.lst = lst\n",
    "        self.i = 0\n",
    "\n",
    "    def __iter__(self):\n",
    "        return self\n",
    "    \n",
    "    def __next__(self):\n",
    "        result = self.lst[self.i % len(self.lst)]\n",
    "        self.i += 1\n",
    "        return result"
   ]
  },
  {
   "cell_type": "code",
   "execution_count": 2,
   "metadata": {},
   "outputs": [],
   "source": [
    "iter_cycl = CyclicIterator('NSWE')\n"
   ]
  },
  {
   "cell_type": "code",
   "execution_count": 3,
   "metadata": {},
   "outputs": [
    {
     "name": "stdout",
     "output_type": "stream",
     "text": [
      "N\n",
      "S\n",
      "W\n",
      "E\n",
      "N\n",
      "S\n",
      "W\n",
      "E\n",
      "N\n",
      "S\n"
     ]
    }
   ],
   "source": [
    "for _ in range(10):\n",
    "    print(next(iter_cycl))"
   ]
  },
  {
   "cell_type": "code",
   "execution_count": 4,
   "metadata": {},
   "outputs": [],
   "source": [
    "class CyclicIterator:\n",
    "    def __init__(self, lst, length):\n",
    "        self.lst = lst\n",
    "        self.i = 0\n",
    "        self.length = length\n",
    "\n",
    "    def __iter__(self):\n",
    "        return self\n",
    "    \n",
    "    def __next__(self):\n",
    "        if self.i >= self.length:\n",
    "            raise StopIteration\n",
    "        result = self.lst[self.i % len(self.lst)]\n",
    "        self.i += 1\n",
    "        return result"
   ]
  },
  {
   "cell_type": "code",
   "execution_count": 5,
   "metadata": {},
   "outputs": [],
   "source": [
    "iter_cycl = CyclicIterator('NSWE', 10)"
   ]
  },
  {
   "cell_type": "code",
   "execution_count": 8,
   "metadata": {},
   "outputs": [],
   "source": [
    "for item in iter_cycl:\n",
    "    print(item)"
   ]
  },
  {
   "cell_type": "code",
   "execution_count": 9,
   "metadata": {},
   "outputs": [],
   "source": [
    "class CyclicIterator:\n",
    "    def __init__(self, lst):\n",
    "        self.lst = lst\n",
    "        self.i = 0\n",
    "\n",
    "    def __iter__(self):\n",
    "        return self\n",
    "    \n",
    "    def __next__(self):\n",
    "        result = self.lst[self.i % len(self.lst)]\n",
    "        self.i += 1\n",
    "        return result"
   ]
  },
  {
   "cell_type": "code",
   "execution_count": 10,
   "metadata": {},
   "outputs": [],
   "source": [
    "iter_cycl = CyclicIterator([10, 20 , 35])"
   ]
  },
  {
   "cell_type": "code",
   "execution_count": 11,
   "metadata": {},
   "outputs": [
    {
     "name": "stdout",
     "output_type": "stream",
     "text": [
      "10\n",
      "20\n",
      "35\n",
      "10\n",
      "20\n",
      "35\n",
      "10\n",
      "20\n",
      "35\n",
      "10\n"
     ]
    }
   ],
   "source": [
    "for _ in range(10):\n",
    "    print(next(iter_cycl))"
   ]
  },
  {
   "cell_type": "code",
   "execution_count": 12,
   "metadata": {},
   "outputs": [],
   "source": [
    "numbers = range(10)"
   ]
  },
  {
   "cell_type": "code",
   "execution_count": 13,
   "metadata": {},
   "outputs": [
    {
     "data": {
      "text/plain": [
       "[0, 1, 2, 3, 4, 5, 6, 7, 8, 9]"
      ]
     },
     "execution_count": 13,
     "metadata": {},
     "output_type": "execute_result"
    }
   ],
   "source": [
    "list(numbers)"
   ]
  },
  {
   "cell_type": "code",
   "execution_count": 15,
   "metadata": {},
   "outputs": [],
   "source": [
    "iter_cycl = CyclicIterator('NSWE')"
   ]
  },
  {
   "cell_type": "code",
   "execution_count": 17,
   "metadata": {},
   "outputs": [
    {
     "data": {
      "text/plain": [
       "[(0, 'N'),\n",
       " (1, 'S'),\n",
       " (2, 'W'),\n",
       " (3, 'E'),\n",
       " (4, 'N'),\n",
       " (5, 'S'),\n",
       " (6, 'W'),\n",
       " (7, 'E'),\n",
       " (8, 'N'),\n",
       " (9, 'S')]"
      ]
     },
     "execution_count": 17,
     "metadata": {},
     "output_type": "execute_result"
    }
   ],
   "source": [
    "list(zip(list(numbers), iter_cycl))\n"
   ]
  },
  {
   "cell_type": "code",
   "execution_count": 19,
   "metadata": {},
   "outputs": [
    {
     "name": "stdout",
     "output_type": "stream",
     "text": [
      "1N\n",
      "2S\n",
      "3W\n",
      "4E\n",
      "5N\n",
      "6S\n",
      "7W\n",
      "8E\n",
      "9N\n",
      "10S\n"
     ]
    }
   ],
   "source": [
    "n = 10\n",
    "iter_cycl = CyclicIterator('NSWE')\n",
    "for i in range(1, n+1):\n",
    "    direction = next(iter_cycl)\n",
    "    print(f'{i}{direction}')"
   ]
  },
  {
   "cell_type": "code",
   "execution_count": 20,
   "metadata": {},
   "outputs": [
    {
     "name": "stdout",
     "output_type": "stream",
     "text": [
      "['1N', '2S', '3W', '4E', '5N', '6S', '7W', '8E', '9N', '10S']\n"
     ]
    }
   ],
   "source": [
    "n = 10\n",
    "iter_cycl = CyclicIterator('NSWE')\n",
    "items = [f'{i}{next(iter_cycl)}' for i in range(1, n+1)]\n",
    "print(items)\n"
   ]
  },
  {
   "cell_type": "code",
   "execution_count": 21,
   "metadata": {},
   "outputs": [
    {
     "name": "stdout",
     "output_type": "stream",
     "text": [
      "['1N', '2S', '3W', '4E', '5N', '6S', '7W', '8E', '9N', '10S']\n"
     ]
    }
   ],
   "source": [
    "n = 10\n",
    "iter_cycl = CyclicIterator('NSWE')\n",
    "items = [f'{i}{direction}' for i, direction in zip(range(1, n+1), iter_cycl)]\n",
    "print(items)"
   ]
  },
  {
   "cell_type": "code",
   "execution_count": 22,
   "metadata": {},
   "outputs": [
    {
     "data": {
      "text/plain": [
       "['1N', '2S', '3W', '4E', '5N', '6S', '7W', '8E', '9N', '10S']"
      ]
     },
     "execution_count": 22,
     "metadata": {},
     "output_type": "execute_result"
    }
   ],
   "source": [
    "[str(number) + direction for number, direction in zip(range(1, n+1), 'NSWE' * (n // 4 + 1))]"
   ]
  },
  {
   "cell_type": "code",
   "execution_count": 23,
   "metadata": {},
   "outputs": [
    {
     "data": {
      "text/plain": [
       "['1N', '2S', '3W', '4E', '5N', '6S', '7W', '8E', '9N', '10S']"
      ]
     },
     "execution_count": 23,
     "metadata": {},
     "output_type": "execute_result"
    }
   ],
   "source": [
    "items"
   ]
  },
  {
   "cell_type": "code",
   "execution_count": 24,
   "metadata": {},
   "outputs": [],
   "source": [
    "import itertools"
   ]
  },
  {
   "cell_type": "code",
   "execution_count": 25,
   "metadata": {},
   "outputs": [
    {
     "data": {
      "text/plain": [
       "['1N', '2S', '3W', '4E', '5N', '6S', '7W', '8E', '9N', '10S']"
      ]
     },
     "execution_count": 25,
     "metadata": {},
     "output_type": "execute_result"
    }
   ],
   "source": [
    "n = 10\n",
    "iter_cycl = CyclicIterator('NSWE')\n",
    "[f'{number}{direction}' for number, direction in zip(range(1, n+1), iter_cycl)]"
   ]
  },
  {
   "cell_type": "code",
   "execution_count": 26,
   "metadata": {},
   "outputs": [
    {
     "data": {
      "text/plain": [
       "['1N', '2S', '3W', '4E', '5N', '6S', '7W', '8E', '9N', '10S']"
      ]
     },
     "execution_count": 26,
     "metadata": {},
     "output_type": "execute_result"
    }
   ],
   "source": [
    "n = 10\n",
    "iter_cycl = itertools.cycle('NSWE')\n",
    "[f'{number}{direction}' for number, direction in zip(range(1, n+1), iter_cycl)]\n"
   ]
  },
  {
   "cell_type": "code",
   "execution_count": 27,
   "metadata": {},
   "outputs": [
    {
     "name": "stdout",
     "output_type": "stream",
     "text": [
      "Help on class cycle in module itertools:\n",
      "\n",
      "class cycle(builtins.object)\n",
      " |  cycle(iterable, /)\n",
      " |  \n",
      " |  Return elements from the iterable until it is exhausted. Then repeat the sequence indefinitely.\n",
      " |  \n",
      " |  Methods defined here:\n",
      " |  \n",
      " |  __getattribute__(self, name, /)\n",
      " |      Return getattr(self, name).\n",
      " |  \n",
      " |  __iter__(self, /)\n",
      " |      Implement iter(self).\n",
      " |  \n",
      " |  __next__(self, /)\n",
      " |      Implement next(self).\n",
      " |  \n",
      " |  __reduce__(...)\n",
      " |      Return state information for pickling.\n",
      " |  \n",
      " |  __setstate__(...)\n",
      " |      Set state information for unpickling.\n",
      " |  \n",
      " |  ----------------------------------------------------------------------\n",
      " |  Static methods defined here:\n",
      " |  \n",
      " |  __new__(*args, **kwargs) from builtins.type\n",
      " |      Create and return a new object.  See help(type) for accurate signature.\n",
      "\n"
     ]
    }
   ],
   "source": [
    "help(itertools.cycle)"
   ]
  },
  {
   "cell_type": "code",
   "execution_count": 28,
   "metadata": {},
   "outputs": [
    {
     "data": {
      "text/plain": [
       "['X', 100, 'x', 200, 'a']"
      ]
     },
     "execution_count": 28,
     "metadata": {},
     "output_type": "execute_result"
    }
   ],
   "source": [
    "s = {100, 'a', 'X', 'x', 200}\n",
    "list(s)"
   ]
  },
  {
   "cell_type": "code",
   "execution_count": 29,
   "metadata": {},
   "outputs": [
    {
     "data": {
      "text/plain": [
       "['X', 100, 'x', 200, 'a']"
      ]
     },
     "execution_count": 29,
     "metadata": {},
     "output_type": "execute_result"
    }
   ],
   "source": [
    "list(s)"
   ]
  },
  {
   "cell_type": "code",
   "execution_count": 42,
   "metadata": {},
   "outputs": [],
   "source": [
    "class CyclicIterator:\n",
    "    def __init__(self, iterable):\n",
    "        self.iterable = iterable\n",
    "        self.iterator = iter(self.iterable)\n",
    "\n",
    "    def __iter__(self):\n",
    "        return self\n",
    "    \n",
    "    def __next__(self):\n",
    "        try:\n",
    "            item = next(self.iterator)\n",
    "        except StopIteration:\n",
    "            self.iterator = iter(self.iterable)\n",
    "            item = next(self.iterator)\n",
    "        finally:\n",
    "            return item\n"
   ]
  },
  {
   "cell_type": "code",
   "execution_count": 43,
   "metadata": {},
   "outputs": [],
   "source": [
    "iter_cycl = CyclicIterator('abc')"
   ]
  },
  {
   "cell_type": "code",
   "execution_count": 44,
   "metadata": {},
   "outputs": [
    {
     "name": "stdout",
     "output_type": "stream",
     "text": [
      "0 a\n",
      "1 b\n",
      "2 c\n",
      "3 a\n",
      "4 b\n"
     ]
    }
   ],
   "source": [
    "for i in range(5):\n",
    "    print(i, next(iter_cycl))"
   ]
  }
 ],
 "metadata": {
  "kernelspec": {
   "display_name": "Python 3",
   "language": "python",
   "name": "python3"
  },
  "language_info": {
   "codemirror_mode": {
    "name": "ipython",
    "version": 3
   },
   "file_extension": ".py",
   "mimetype": "text/x-python",
   "name": "python",
   "nbconvert_exporter": "python",
   "pygments_lexer": "ipython3",
   "version": "3.11.5"
  }
 },
 "nbformat": 4,
 "nbformat_minor": 2
}
