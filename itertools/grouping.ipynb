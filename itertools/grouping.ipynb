{
 "cells": [
  {
   "cell_type": "code",
   "execution_count": 1,
   "metadata": {},
   "outputs": [],
   "source": [
    "import itertools"
   ]
  },
  {
   "cell_type": "code",
   "execution_count": 3,
   "metadata": {},
   "outputs": [
    {
     "name": "stdout",
     "output_type": "stream",
     "text": [
      "make,model\n",
      "ACURA,ILX\n",
      "ACURA,MDX\n",
      "ACURA,RDX\n",
      "ACURA,RLX\n",
      "ACURA,TL\n",
      "ACURA,TSX\n",
      "ALFA ROMEO,4C\n",
      "ALFA ROMEO,GIULIETTA\n",
      "APRILIA,CAPONORD 1200\n",
      "APRILIA,RSV4 FACTORY APRC ABS\n",
      "APRILIA,RSV4 R APRC ABS\n",
      "APRILIA,SHIVER 750\n",
      "ARCTIC CAT,1000 XT\n",
      "ARCTIC CAT,500 XT\n",
      "ARCTIC CAT,550 XT\n",
      "ARCTIC CAT,700 LTD\n",
      "ARCTIC CAT,700 SUPER DUTY DIESEL\n",
      "ARCTIC CAT,700 XT\n",
      "ARCTIC CAT,90 2X4 4-STROKE\n"
     ]
    }
   ],
   "source": [
    "with open('cars_2014.csv') as f:\n",
    "    for row in itertools.islice(f, 0, 20):\n",
    "        print(row, end='')"
   ]
  },
  {
   "cell_type": "code",
   "execution_count": 4,
   "metadata": {},
   "outputs": [],
   "source": [
    "from collections import defaultdict"
   ]
  },
  {
   "cell_type": "code",
   "execution_count": 5,
   "metadata": {},
   "outputs": [],
   "source": [
    "makes = defaultdict(int)"
   ]
  },
  {
   "cell_type": "code",
   "execution_count": 6,
   "metadata": {},
   "outputs": [
    {
     "data": {
      "text/plain": [
       "0"
      ]
     },
     "execution_count": 6,
     "metadata": {},
     "output_type": "execute_result"
    }
   ],
   "source": [
    "makes['sdfsdf']"
   ]
  },
  {
   "cell_type": "code",
   "execution_count": 7,
   "metadata": {},
   "outputs": [],
   "source": [
    "makes['BMW'] += 1"
   ]
  },
  {
   "cell_type": "code",
   "execution_count": 9,
   "metadata": {},
   "outputs": [
    {
     "data": {
      "text/plain": [
       "1"
      ]
     },
     "execution_count": 9,
     "metadata": {},
     "output_type": "execute_result"
    }
   ],
   "source": [
    "makes['BMW']"
   ]
  },
  {
   "cell_type": "code",
   "execution_count": 13,
   "metadata": {},
   "outputs": [],
   "source": [
    "makes = defaultdict(int)\n",
    "with open('cars_2014.csv') as f:\n",
    "    next(f)\n",
    "    for row in f:\n",
    "        make, _ = row.strip('\\n').split(',')\n",
    "        makes[make] += 1"
   ]
  },
  {
   "cell_type": "code",
   "execution_count": 14,
   "metadata": {},
   "outputs": [
    {
     "name": "stdout",
     "output_type": "stream",
     "text": [
      "ACURA: 6\n",
      "ALFA ROMEO: 2\n",
      "APRILIA: 4\n",
      "ARCTIC CAT: 96\n",
      "ARGO: 4\n",
      "ASTON MARTIN: 5\n",
      "AUDI: 27\n",
      "BENTLEY: 2\n",
      "BLUE BIRD: 1\n",
      "BMW: 86\n",
      "BUGATTI: 1\n",
      "BUICK: 5\n",
      "CADILLAC: 7\n",
      "CAN-AM: 61\n",
      "CHEVROLET: 33\n",
      "CHRYSLER: 2\n",
      "DODGE: 7\n",
      "DUCATI: 4\n",
      "FERRARI: 6\n",
      "FIAT: 2\n",
      "FORD: 34\n",
      "FREIGHTLINER: 7\n",
      "GMC: 12\n",
      "HARLEY DAVIDSON: 29\n",
      "HINO: 7\n",
      "HONDA: 91\n",
      "HUSABERG: 4\n",
      "HUSQVARNA: 9\n",
      "HYUNDAI: 13\n",
      "INDIAN: 3\n",
      "INFINITI: 8\n",
      "JAGUAR: 9\n",
      "JEEP: 5\n",
      "JOHN DEERE: 19\n",
      "KAWASAKI: 59\n",
      "KENWORTH: 11\n",
      "KIA: 10\n",
      "KTM: 13\n",
      "KUBOTA: 4\n",
      "KYMCO: 28\n",
      "LAMBORGHINI: 2\n",
      "LAND ROVER: 6\n",
      "LEXUS: 14\n",
      "LINCOLN: 6\n",
      "LOTUS: 1\n",
      "MACK: 9\n",
      "MASERATI: 3\n",
      "MAZDA: 5\n",
      "MCLAREN: 2\n",
      "MERCEDES-BENZ: 60\n",
      "MINI: 3\n",
      "MITSUBISHI: 8\n",
      "NISSAN: 24\n",
      "PEUGEOT: 3\n",
      "POLARIS: 101\n",
      "PORSCHE: 4\n",
      "RAM: 6\n",
      "RENAULT: 4\n",
      "ROLLS ROYCE: 3\n",
      "SCION: 5\n",
      "SEAT: 3\n",
      "SKI-DOO: 67\n",
      "SMART: 1\n",
      "SRT: 1\n",
      "SUBARU: 10\n",
      "SUZUKI: 48\n",
      "TESLA: 2\n",
      "TOYOTA: 19\n",
      "TRIUMPH: 10\n",
      "VESPA: 4\n",
      "VICTORY: 14\n",
      "VOLKSWAGEN: 16\n",
      "VOLVO: 8\n",
      "YAMAHA: 110\n"
     ]
    }
   ],
   "source": [
    "for key, value in makes.items():\n",
    "    print(f'{key}: {value}')"
   ]
  },
  {
   "cell_type": "code",
   "execution_count": 19,
   "metadata": {},
   "outputs": [],
   "source": [
    "data = (1, 2, 2, 2, 3)"
   ]
  },
  {
   "cell_type": "code",
   "execution_count": 20,
   "metadata": {},
   "outputs": [
    {
     "data": {
      "text/plain": [
       "[(1, <itertools._grouper at 0x1045f0580>),\n",
       " (2, <itertools._grouper at 0x1045f0f40>),\n",
       " (3, <itertools._grouper at 0x1045f0370>)]"
      ]
     },
     "execution_count": 20,
     "metadata": {},
     "output_type": "execute_result"
    }
   ],
   "source": [
    "list(itertools.groupby(data))"
   ]
  },
  {
   "cell_type": "code",
   "execution_count": 21,
   "metadata": {},
   "outputs": [
    {
     "name": "stdout",
     "output_type": "stream",
     "text": [
      "1 [1]\n",
      "2 [2, 2, 2]\n",
      "3 [3]\n"
     ]
    }
   ],
   "source": [
    "it = itertools.groupby(data)\n",
    "for group_key, sub_iter in it:\n",
    "    print(group_key, list(sub_iter))"
   ]
  },
  {
   "cell_type": "code",
   "execution_count": 22,
   "metadata": {},
   "outputs": [],
   "source": [
    "data = (\n",
    "    (1, 'abc'),\n",
    "    (1, 'bcd'),\n",
    "    (2, 'pyt'),\n",
    "    (2, 'tho'),\n",
    "    (3, 'jav')\n",
    ")"
   ]
  },
  {
   "cell_type": "code",
   "execution_count": 23,
   "metadata": {},
   "outputs": [
    {
     "data": {
      "text/plain": [
       "((1, 'abc'), (1, 'bcd'), (2, 'pyt'), (2, 'tho'), (3, 'jav'))"
      ]
     },
     "execution_count": 23,
     "metadata": {},
     "output_type": "execute_result"
    }
   ],
   "source": [
    "data"
   ]
  },
  {
   "cell_type": "code",
   "execution_count": 24,
   "metadata": {},
   "outputs": [],
   "source": [
    "groups = itertools.groupby(data, key=lambda x: x[0])"
   ]
  },
  {
   "cell_type": "code",
   "execution_count": 25,
   "metadata": {},
   "outputs": [
    {
     "data": {
      "text/plain": [
       "[(1, <itertools._grouper at 0x10470ddb0>),\n",
       " (2, <itertools._grouper at 0x10470c2e0>),\n",
       " (3, <itertools._grouper at 0x10470c700>)]"
      ]
     },
     "execution_count": 25,
     "metadata": {},
     "output_type": "execute_result"
    }
   ],
   "source": [
    "list(groups)"
   ]
  },
  {
   "cell_type": "code",
   "execution_count": 26,
   "metadata": {},
   "outputs": [
    {
     "data": {
      "text/plain": [
       "[]"
      ]
     },
     "execution_count": 26,
     "metadata": {},
     "output_type": "execute_result"
    }
   ],
   "source": [
    "list(groups)"
   ]
  },
  {
   "cell_type": "code",
   "execution_count": 27,
   "metadata": {},
   "outputs": [],
   "source": [
    "groups = itertools.groupby(data, key=lambda x: x[0])"
   ]
  },
  {
   "cell_type": "code",
   "execution_count": 28,
   "metadata": {},
   "outputs": [
    {
     "name": "stdout",
     "output_type": "stream",
     "text": [
      "1 [(1, 'abc'), (1, 'bcd')]\n",
      "2 [(2, 'pyt'), (2, 'tho')]\n",
      "3 [(3, 'jav')]\n"
     ]
    }
   ],
   "source": [
    "for group_key, sub_iter in groups:\n",
    "    print(group_key, list(sub_iter))"
   ]
  },
  {
   "cell_type": "code",
   "execution_count": 29,
   "metadata": {},
   "outputs": [],
   "source": [
    "def gen_groups():\n",
    "    for key in range(1, 4):\n",
    "        for i in range(3):\n",
    "            yield (key, i)"
   ]
  },
  {
   "cell_type": "code",
   "execution_count": 30,
   "metadata": {},
   "outputs": [],
   "source": [
    "g = gen_groups()"
   ]
  },
  {
   "cell_type": "code",
   "execution_count": 31,
   "metadata": {},
   "outputs": [
    {
     "data": {
      "text/plain": [
       "[(1, 0), (1, 1), (1, 2), (2, 0), (2, 1), (2, 2), (3, 0), (3, 1), (3, 2)]"
      ]
     },
     "execution_count": 31,
     "metadata": {},
     "output_type": "execute_result"
    }
   ],
   "source": [
    "list(g)"
   ]
  },
  {
   "cell_type": "code",
   "execution_count": 32,
   "metadata": {},
   "outputs": [
    {
     "data": {
      "text/plain": [
       "[]"
      ]
     },
     "execution_count": 32,
     "metadata": {},
     "output_type": "execute_result"
    }
   ],
   "source": [
    "list(g)"
   ]
  },
  {
   "cell_type": "code",
   "execution_count": 33,
   "metadata": {},
   "outputs": [],
   "source": [
    "g = gen_groups()"
   ]
  },
  {
   "cell_type": "code",
   "execution_count": 34,
   "metadata": {},
   "outputs": [],
   "source": [
    "groups = itertools.groupby(g, key=lambda x: x[0])"
   ]
  },
  {
   "cell_type": "code",
   "execution_count": 35,
   "metadata": {},
   "outputs": [
    {
     "name": "stdout",
     "output_type": "stream",
     "text": [
      "1 <itertools._grouper object at 0x10470cca0>\n",
      "2 <itertools._grouper object at 0x10470dae0>\n",
      "3 <itertools._grouper object at 0x10470e050>\n"
     ]
    }
   ],
   "source": [
    "for group in groups:\n",
    "    print(group[0], group[1])"
   ]
  },
  {
   "cell_type": "code",
   "execution_count": 36,
   "metadata": {},
   "outputs": [
    {
     "data": {
      "text/plain": [
       "[]"
      ]
     },
     "execution_count": 36,
     "metadata": {},
     "output_type": "execute_result"
    }
   ],
   "source": [
    "list(g)"
   ]
  },
  {
   "cell_type": "code",
   "execution_count": 37,
   "metadata": {},
   "outputs": [],
   "source": [
    "g = gen_groups()"
   ]
  },
  {
   "cell_type": "code",
   "execution_count": 38,
   "metadata": {},
   "outputs": [],
   "source": [
    "groups = itertools.groupby(g, key=lambda x: x[0])"
   ]
  },
  {
   "cell_type": "code",
   "execution_count": 39,
   "metadata": {},
   "outputs": [
    {
     "name": "stdout",
     "output_type": "stream",
     "text": [
      "1 [(1, 0), (1, 1), (1, 2)]\n",
      "2 [(2, 0), (2, 1), (2, 2)]\n",
      "3 [(3, 0), (3, 1), (3, 2)]\n"
     ]
    }
   ],
   "source": [
    "for group_key, sub_iter in groups:\n",
    "    print(group_key, list(sub_iter))\n"
   ]
  },
  {
   "cell_type": "code",
   "execution_count": 40,
   "metadata": {},
   "outputs": [
    {
     "data": {
      "text/plain": [
       "defaultdict(int,\n",
       "            {'ACURA': 6,\n",
       "             'ALFA ROMEO': 2,\n",
       "             'APRILIA': 4,\n",
       "             'ARCTIC CAT': 96,\n",
       "             'ARGO': 4,\n",
       "             'ASTON MARTIN': 5,\n",
       "             'AUDI': 27,\n",
       "             'BENTLEY': 2,\n",
       "             'BLUE BIRD': 1,\n",
       "             'BMW': 86,\n",
       "             'BUGATTI': 1,\n",
       "             'BUICK': 5,\n",
       "             'CADILLAC': 7,\n",
       "             'CAN-AM': 61,\n",
       "             'CHEVROLET': 33,\n",
       "             'CHRYSLER': 2,\n",
       "             'DODGE': 7,\n",
       "             'DUCATI': 4,\n",
       "             'FERRARI': 6,\n",
       "             'FIAT': 2,\n",
       "             'FORD': 34,\n",
       "             'FREIGHTLINER': 7,\n",
       "             'GMC': 12,\n",
       "             'HARLEY DAVIDSON': 29,\n",
       "             'HINO': 7,\n",
       "             'HONDA': 91,\n",
       "             'HUSABERG': 4,\n",
       "             'HUSQVARNA': 9,\n",
       "             'HYUNDAI': 13,\n",
       "             'INDIAN': 3,\n",
       "             'INFINITI': 8,\n",
       "             'JAGUAR': 9,\n",
       "             'JEEP': 5,\n",
       "             'JOHN DEERE': 19,\n",
       "             'KAWASAKI': 59,\n",
       "             'KENWORTH': 11,\n",
       "             'KIA': 10,\n",
       "             'KTM': 13,\n",
       "             'KUBOTA': 4,\n",
       "             'KYMCO': 28,\n",
       "             'LAMBORGHINI': 2,\n",
       "             'LAND ROVER': 6,\n",
       "             'LEXUS': 14,\n",
       "             'LINCOLN': 6,\n",
       "             'LOTUS': 1,\n",
       "             'MACK': 9,\n",
       "             'MASERATI': 3,\n",
       "             'MAZDA': 5,\n",
       "             'MCLAREN': 2,\n",
       "             'MERCEDES-BENZ': 60,\n",
       "             'MINI': 3,\n",
       "             'MITSUBISHI': 8,\n",
       "             'NISSAN': 24,\n",
       "             'PEUGEOT': 3,\n",
       "             'POLARIS': 101,\n",
       "             'PORSCHE': 4,\n",
       "             'RAM': 6,\n",
       "             'RENAULT': 4,\n",
       "             'ROLLS ROYCE': 3,\n",
       "             'SCION': 5,\n",
       "             'SEAT': 3,\n",
       "             'SKI-DOO': 67,\n",
       "             'SMART': 1,\n",
       "             'SRT': 1,\n",
       "             'SUBARU': 10,\n",
       "             'SUZUKI': 48,\n",
       "             'TESLA': 2,\n",
       "             'TOYOTA': 19,\n",
       "             'TRIUMPH': 10,\n",
       "             'VESPA': 4,\n",
       "             'VICTORY': 14,\n",
       "             'VOLKSWAGEN': 16,\n",
       "             'VOLVO': 8,\n",
       "             'YAMAHA': 110})"
      ]
     },
     "execution_count": 40,
     "metadata": {},
     "output_type": "execute_result"
    }
   ],
   "source": [
    "makes"
   ]
  },
  {
   "cell_type": "code",
   "execution_count": 41,
   "metadata": {},
   "outputs": [],
   "source": [
    "with open('cars_2014.csv') as f:\n",
    "    make_groups = itertools.groupby(f, key=lambda x: x.split(',')[0])"
   ]
  },
  {
   "cell_type": "code",
   "execution_count": 42,
   "metadata": {},
   "outputs": [
    {
     "ename": "ValueError",
     "evalue": "I/O operation on closed file.",
     "output_type": "error",
     "traceback": [
      "\u001b[0;31m---------------------------------------------------------------------------\u001b[0m",
      "\u001b[0;31mValueError\u001b[0m                                Traceback (most recent call last)",
      "Cell \u001b[0;32mIn[42], line 1\u001b[0m\n\u001b[0;32m----> 1\u001b[0m \u001b[38;5;28;43;01mfor\u001b[39;49;00m\u001b[43m \u001b[49m\u001b[43mmake\u001b[49m\u001b[43m,\u001b[49m\u001b[43m \u001b[49m\u001b[43mgroup\u001b[49m\u001b[43m \u001b[49m\u001b[38;5;129;43;01min\u001b[39;49;00m\u001b[43m \u001b[49m\u001b[43mmake_groups\u001b[49m\u001b[43m:\u001b[49m\n\u001b[1;32m      2\u001b[0m \u001b[43m    \u001b[49m\u001b[38;5;28;43mprint\u001b[39;49m\u001b[43m(\u001b[49m\u001b[43mmake\u001b[49m\u001b[43m,\u001b[49m\u001b[43m \u001b[49m\u001b[38;5;28;43mlen\u001b[39;49m\u001b[43m(\u001b[49m\u001b[38;5;28;43mlist\u001b[39;49m\u001b[43m(\u001b[49m\u001b[43mgroup\u001b[49m\u001b[43m)\u001b[49m\u001b[43m)\u001b[49m\u001b[43m)\u001b[49m\n",
      "\u001b[0;31mValueError\u001b[0m: I/O operation on closed file."
     ]
    }
   ],
   "source": [
    "for make, group in make_groups:\n",
    "    print(make, len(list(group)))"
   ]
  },
  {
   "cell_type": "code",
   "execution_count": 43,
   "metadata": {},
   "outputs": [
    {
     "name": "stdout",
     "output_type": "stream",
     "text": [
      "[('ACURA', <itertools._grouper object at 0x1045f0490>), ('ALFA ROMEO', <itertools._grouper object at 0x1045f05e0>), ('APRILIA', <itertools._grouper object at 0x1045f1180>), ('ARCTIC CAT', <itertools._grouper object at 0x1045f1210>), ('ARGO', <itertools._grouper object at 0x1045f11e0>)]\n"
     ]
    }
   ],
   "source": [
    "with open('cars_2014.csv') as f:\n",
    "    next(f)\n",
    "    make_groups = itertools.groupby(f, key=lambda x: x.split(',')[0])\n",
    "    print(list(itertools.islice(make_groups, 5)))"
   ]
  },
  {
   "cell_type": "code",
   "execution_count": 46,
   "metadata": {},
   "outputs": [
    {
     "name": "stdout",
     "output_type": "stream",
     "text": [
      "[('ACURA', 6), ('ALFA ROMEO', 2), ('APRILIA', 4), ('ARCTIC CAT', 96), ('ARGO', 4), ('ASTON MARTIN', 5), ('AUDI', 27), ('BENTLEY', 2), ('BLUE BIRD', 1), ('BMW', 86), ('BUGATTI', 1), ('BUICK', 5), ('CADILLAC', 7), ('CAN-AM', 61), ('CHEVROLET', 33), ('CHRYSLER', 2), ('DODGE', 7), ('DUCATI', 4), ('FERRARI', 6), ('FIAT', 2), ('FORD', 34), ('FREIGHTLINER', 7), ('GMC', 12), ('HARLEY DAVIDSON', 29), ('HINO', 7), ('HONDA', 91), ('HUSABERG', 4), ('HUSQVARNA', 9), ('HYUNDAI', 13), ('INDIAN', 3), ('INFINITI', 8), ('JAGUAR', 9), ('JEEP', 5), ('JOHN DEERE', 19), ('KAWASAKI', 59), ('KENWORTH', 11), ('KIA', 10), ('KTM', 13), ('KUBOTA', 4), ('KYMCO', 28), ('LAMBORGHINI', 2), ('LAND ROVER', 6), ('LEXUS', 14), ('LINCOLN', 6), ('LOTUS', 1), ('MACK', 9), ('MASERATI', 3), ('MAZDA', 5), ('MCLAREN', 2), ('MERCEDES-BENZ', 60), ('MINI', 3), ('MITSUBISHI', 8), ('NISSAN', 24), ('PEUGEOT', 3), ('POLARIS', 101), ('PORSCHE', 4), ('RAM', 6), ('RENAULT', 4), ('ROLLS ROYCE', 3), ('SCION', 5), ('SEAT', 3), ('SKI-DOO', 67), ('SMART', 1), ('SRT', 1), ('SUBARU', 10), ('SUZUKI', 48), ('TESLA', 2), ('TOYOTA', 19), ('TRIUMPH', 10), ('VESPA', 4), ('VICTORY', 14), ('VOLKSWAGEN', 16), ('VOLVO', 8), ('YAMAHA', 110)]\n"
     ]
    }
   ],
   "source": [
    "with open('cars_2014.csv') as f:\n",
    "    next(f)\n",
    "    make_groups = itertools.groupby(f, key=lambda x: x.split(',')[0])\n",
    "    make_counts = ((key, len(list(models))) for key, models in make_groups)\n",
    "    print(list(make_counts))"
   ]
  },
  {
   "cell_type": "code",
   "execution_count": 47,
   "metadata": {},
   "outputs": [],
   "source": [
    "def squares(n):\n",
    "    for i in range(n):\n",
    "        yield i**2"
   ]
  },
  {
   "cell_type": "code",
   "execution_count": 48,
   "metadata": {},
   "outputs": [],
   "source": [
    "sq = squares(5)"
   ]
  },
  {
   "cell_type": "code",
   "execution_count": 49,
   "metadata": {},
   "outputs": [
    {
     "ename": "TypeError",
     "evalue": "object of type 'generator' has no len()",
     "output_type": "error",
     "traceback": [
      "\u001b[0;31m---------------------------------------------------------------------------\u001b[0m",
      "\u001b[0;31mTypeError\u001b[0m                                 Traceback (most recent call last)",
      "Cell \u001b[0;32mIn[49], line 1\u001b[0m\n\u001b[0;32m----> 1\u001b[0m \u001b[38;5;28;43mlen\u001b[39;49m\u001b[43m(\u001b[49m\u001b[43msq\u001b[49m\u001b[43m)\u001b[49m\n",
      "\u001b[0;31mTypeError\u001b[0m: object of type 'generator' has no len()"
     ]
    }
   ],
   "source": [
    "len(sq)"
   ]
  },
  {
   "cell_type": "code",
   "execution_count": 50,
   "metadata": {},
   "outputs": [
    {
     "data": {
      "text/plain": [
       "5"
      ]
     },
     "execution_count": 50,
     "metadata": {},
     "output_type": "execute_result"
    }
   ],
   "source": [
    "len(list(sq))"
   ]
  },
  {
   "cell_type": "code",
   "execution_count": 59,
   "metadata": {},
   "outputs": [],
   "source": [
    "sq = squares(5)"
   ]
  },
  {
   "cell_type": "code",
   "execution_count": 60,
   "metadata": {},
   "outputs": [
    {
     "name": "stdout",
     "output_type": "stream",
     "text": [
      "0\n",
      "1\n",
      "4\n",
      "9\n",
      "16\n"
     ]
    },
    {
     "data": {
      "text/plain": [
       "17"
      ]
     },
     "execution_count": 60,
     "metadata": {},
     "output_type": "execute_result"
    }
   ],
   "source": [
    "i = 0\n",
    "for i in sq:\n",
    "    print(i)\n",
    "    i += 1\n",
    "i"
   ]
  },
  {
   "cell_type": "code",
   "execution_count": 61,
   "metadata": {},
   "outputs": [
    {
     "data": {
      "text/plain": [
       "5"
      ]
     },
     "execution_count": 61,
     "metadata": {},
     "output_type": "execute_result"
    }
   ],
   "source": [
    "def len_iterable(iterable):\n",
    "    i = 0\n",
    "    for _ in iterable:\n",
    "        i += 1\n",
    "    return i\n",
    "len_iterable(squares(5))"
   ]
  },
  {
   "cell_type": "code",
   "execution_count": 62,
   "metadata": {},
   "outputs": [
    {
     "name": "stdout",
     "output_type": "stream",
     "text": [
      "[('ACURA', 6), ('ALFA ROMEO', 2), ('APRILIA', 4), ('ARCTIC CAT', 96), ('ARGO', 4), ('ASTON MARTIN', 5), ('AUDI', 27), ('BENTLEY', 2), ('BLUE BIRD', 1), ('BMW', 86), ('BUGATTI', 1), ('BUICK', 5), ('CADILLAC', 7), ('CAN-AM', 61), ('CHEVROLET', 33), ('CHRYSLER', 2), ('DODGE', 7), ('DUCATI', 4), ('FERRARI', 6), ('FIAT', 2), ('FORD', 34), ('FREIGHTLINER', 7), ('GMC', 12), ('HARLEY DAVIDSON', 29), ('HINO', 7), ('HONDA', 91), ('HUSABERG', 4), ('HUSQVARNA', 9), ('HYUNDAI', 13), ('INDIAN', 3), ('INFINITI', 8), ('JAGUAR', 9), ('JEEP', 5), ('JOHN DEERE', 19), ('KAWASAKI', 59), ('KENWORTH', 11), ('KIA', 10), ('KTM', 13), ('KUBOTA', 4), ('KYMCO', 28), ('LAMBORGHINI', 2), ('LAND ROVER', 6), ('LEXUS', 14), ('LINCOLN', 6), ('LOTUS', 1), ('MACK', 9), ('MASERATI', 3), ('MAZDA', 5), ('MCLAREN', 2), ('MERCEDES-BENZ', 60), ('MINI', 3), ('MITSUBISHI', 8), ('NISSAN', 24), ('PEUGEOT', 3), ('POLARIS', 101), ('PORSCHE', 4), ('RAM', 6), ('RENAULT', 4), ('ROLLS ROYCE', 3), ('SCION', 5), ('SEAT', 3), ('SKI-DOO', 67), ('SMART', 1), ('SRT', 1), ('SUBARU', 10), ('SUZUKI', 48), ('TESLA', 2), ('TOYOTA', 19), ('TRIUMPH', 10), ('VESPA', 4), ('VICTORY', 14), ('VOLKSWAGEN', 16), ('VOLVO', 8), ('YAMAHA', 110)]\n"
     ]
    }
   ],
   "source": [
    "with open('cars_2014.csv') as f:\n",
    "    next(f)\n",
    "    make_groups = itertools.groupby(f, key=lambda x: x.split(',')[0])\n",
    "    make_counts = ((key, sum(1 for _ in models)) for key, models in make_groups)\n",
    "    print(list(make_counts))"
   ]
  },
  {
   "cell_type": "code",
   "execution_count": null,
   "metadata": {},
   "outputs": [],
   "source": []
  }
 ],
 "metadata": {
  "kernelspec": {
   "display_name": "Python 3",
   "language": "python",
   "name": "python3"
  },
  "language_info": {
   "codemirror_mode": {
    "name": "ipython",
    "version": 3
   },
   "file_extension": ".py",
   "mimetype": "text/x-python",
   "name": "python",
   "nbconvert_exporter": "python",
   "pygments_lexer": "ipython3",
   "version": "3.11.5"
  }
 },
 "nbformat": 4,
 "nbformat_minor": 2
}
