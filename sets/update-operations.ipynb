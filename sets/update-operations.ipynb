{
 "cells": [
  {
   "cell_type": "code",
   "execution_count": 1,
   "metadata": {},
   "outputs": [],
   "source": [
    "s1 = {1,2,3}\n",
    "s2 = {2,3,4}"
   ]
  },
  {
   "cell_type": "code",
   "execution_count": 2,
   "metadata": {},
   "outputs": [
    {
     "name": "stdout",
     "output_type": "stream",
     "text": [
      "{1, 2, 3} 4582719072\n",
      "{2, 3, 4} 4582717280\n"
     ]
    }
   ],
   "source": [
    "print(s1, id(s1))\n",
    "print(s2, id(s2))"
   ]
  },
  {
   "cell_type": "code",
   "execution_count": 3,
   "metadata": {},
   "outputs": [],
   "source": [
    "s1 = s1 & s2"
   ]
  },
  {
   "cell_type": "code",
   "execution_count": 6,
   "metadata": {},
   "outputs": [
    {
     "name": "stdout",
     "output_type": "stream",
     "text": [
      "{2, 3} 4582718400\n",
      "{2, 3, 4} 4582717280\n"
     ]
    }
   ],
   "source": [
    "print(s1, id(s1))\n",
    "print(s2, id(s2))"
   ]
  },
  {
   "cell_type": "code",
   "execution_count": 5,
   "metadata": {},
   "outputs": [
    {
     "data": {
      "text/plain": [
       "{2, 3}"
      ]
     },
     "execution_count": 5,
     "metadata": {},
     "output_type": "execute_result"
    }
   ],
   "source": [
    "globals()['s1']"
   ]
  },
  {
   "cell_type": "code",
   "execution_count": 7,
   "metadata": {},
   "outputs": [],
   "source": [
    "s1 = {1,2,3}\n",
    "s2 = {2,3,4}\n"
   ]
  },
  {
   "cell_type": "code",
   "execution_count": 8,
   "metadata": {},
   "outputs": [
    {
     "name": "stdout",
     "output_type": "stream",
     "text": [
      "{1, 2, 3} 4583263360\n"
     ]
    }
   ],
   "source": [
    "print(s1, id(s1))"
   ]
  },
  {
   "cell_type": "code",
   "execution_count": 9,
   "metadata": {},
   "outputs": [],
   "source": [
    "s1 |= s2"
   ]
  },
  {
   "cell_type": "code",
   "execution_count": 10,
   "metadata": {},
   "outputs": [
    {
     "name": "stdout",
     "output_type": "stream",
     "text": [
      "{1, 2, 3, 4} 4583263360\n"
     ]
    }
   ],
   "source": [
    "print(s1, id(s1))"
   ]
  },
  {
   "cell_type": "code",
   "execution_count": 13,
   "metadata": {},
   "outputs": [
    {
     "name": "stdout",
     "output_type": "stream",
     "text": [
      "{1, 2, 3} 4582717280\n",
      "{1, 2, 3, 4} 4582717280\n",
      "{2, 3, 4} 4583262688\n"
     ]
    }
   ],
   "source": [
    "s1 = {1,2,3}\n",
    "s2 = {2,3,4}\n",
    "print(s1, id(s1))\n",
    "s1.update(s2)\n",
    "print(s1, id(s1))\n",
    "print(s2, id(s2))"
   ]
  },
  {
   "cell_type": "code",
   "execution_count": 14,
   "metadata": {},
   "outputs": [
    {
     "name": "stdout",
     "output_type": "stream",
     "text": [
      "{1, 2, 3} 4583263808\n",
      "{2, 3} 4583263808\n",
      "{2, 3, 4} 4582717280\n"
     ]
    }
   ],
   "source": [
    "s1 = {1,2,3}\n",
    "s2 = {2,3,4}\n",
    "print(s1, id(s1))\n",
    "s1 &= s2\n",
    "print(s1, id(s1))\n",
    "print(s2, id(s2))\n"
   ]
  },
  {
   "cell_type": "code",
   "execution_count": 15,
   "metadata": {},
   "outputs": [
    {
     "name": "stdout",
     "output_type": "stream",
     "text": [
      "{1, 2, 3} 4583262912\n",
      "{2, 3} 4583262912\n",
      "{2, 3, 4} 4583263360\n"
     ]
    }
   ],
   "source": [
    "s1 = {1,2,3}\n",
    "s2 = {2,3,4}\n",
    "print(s1, id(s1))\n",
    "s1.intersection_update(s2)\n",
    "print(s1, id(s1))\n",
    "print(s2, id(s2))\n"
   ]
  },
  {
   "cell_type": "code",
   "execution_count": 16,
   "metadata": {},
   "outputs": [
    {
     "name": "stdout",
     "output_type": "stream",
     "text": [
      "{1, 2, 3, 4} 4583265152\n",
      "{1, 4} 4583265152\n"
     ]
    }
   ],
   "source": [
    "s1 = {1,2,3,4}\n",
    "s2 = {2,3}\n",
    "print(s1, id(s1))\n",
    "s1 -= s2\n",
    "print(s1, id(s1))"
   ]
  },
  {
   "cell_type": "code",
   "execution_count": 17,
   "metadata": {},
   "outputs": [
    {
     "name": "stdout",
     "output_type": "stream",
     "text": [
      "{1, 2, 3, 4} 4582717280\n",
      "{1, 4} 4582717280\n"
     ]
    }
   ],
   "source": [
    "s1 = {1,2,3,4}\n",
    "s2 = {2,3}\n",
    "print(s1, id(s1))\n",
    "s1.difference_update(s2)\n",
    "print(s1, id(s1))\n"
   ]
  },
  {
   "cell_type": "code",
   "execution_count": 18,
   "metadata": {},
   "outputs": [
    {
     "name": "stdout",
     "output_type": "stream",
     "text": [
      "{1}\n",
      "{1, 3, 4}\n"
     ]
    }
   ],
   "source": [
    "s1 = {1,2,3,4}\n",
    "s2 = {2,3}\n",
    "s3 = {3,4}\n",
    "\n",
    "result = (s1-s2) - s3\n",
    "print(result)\n",
    "\n",
    "s1 -= s2 - s3\n",
    "print(s1)\n"
   ]
  },
  {
   "cell_type": "code",
   "execution_count": 21,
   "metadata": {},
   "outputs": [
    {
     "name": "stdout",
     "output_type": "stream",
     "text": [
      "{1}\n",
      "{1, 3, 4}\n",
      "{1}\n"
     ]
    }
   ],
   "source": [
    "s1 = {1,2,3,4}\n",
    "s2 = {2,3}\n",
    "s3 = {3,4}\n",
    "\n",
    "result = (s1-s2) - s3\n",
    "print(result)\n",
    "\n",
    "s1 -= s2 - s3\n",
    "print(s1)\n",
    "\n",
    "s1 = {1,2,3,4}\n",
    "s2 = {2,3}\n",
    "s3 = {3,4}\n",
    "\n",
    "s1.difference_update(s2, s3)\n",
    "print(s1)\n",
    "\n"
   ]
  },
  {
   "cell_type": "code",
   "execution_count": 22,
   "metadata": {},
   "outputs": [
    {
     "name": "stdout",
     "output_type": "stream",
     "text": [
      "{1, 2, 3, 4, 5} 4583263584\n",
      "{1, 2, 3, 6, 7} 4583263584\n"
     ]
    }
   ],
   "source": [
    "s1 = {1,2,3,4, 5}\n",
    "s2 = {4,5,6,7}\n",
    "print(s1, id(s1))\n",
    "s1 ^= s2\n",
    "print(s1, id(s1))\n"
   ]
  },
  {
   "cell_type": "code",
   "execution_count": 23,
   "metadata": {},
   "outputs": [
    {
     "name": "stdout",
     "output_type": "stream",
     "text": [
      "4583267168\n",
      "{1, 2, 3, 4, 5, 6, 7} 4583267168\n"
     ]
    }
   ],
   "source": [
    "s1 = {1,2,3}\n",
    "s2 = {3,4,5}\n",
    "s3 = {5,6,7}\n",
    "\n",
    "print(id(s1))\n",
    "s1 |= s2 | s3\n",
    "print(s1, id(s1))\n"
   ]
  },
  {
   "cell_type": "code",
   "execution_count": 26,
   "metadata": {},
   "outputs": [
    {
     "name": "stdout",
     "output_type": "stream",
     "text": [
      "{1, 2, 3, 4, 5, 6, 7, 8, 'c', 'a', 'b'} 4584072448\n"
     ]
    }
   ],
   "source": [
    "s1 = {1,2,3}\n",
    "s1.update([3,4,5], [6,7,8], 'abc')\n",
    "print(s1, id(s1))\n",
    "\n"
   ]
  },
  {
   "cell_type": "code",
   "execution_count": 27,
   "metadata": {},
   "outputs": [],
   "source": [
    "def combine(string, target):\n",
    "    target.update(string.split(' '))"
   ]
  },
  {
   "cell_type": "code",
   "execution_count": 28,
   "metadata": {},
   "outputs": [],
   "source": [
    "def cleanup(combined):\n",
    "    words = {'the', 'and', 'or', 'is', 'in', 'to', 'of', 'at', 'by', 'with', 'as', 'but', 'if', 'or', 'because', 'as', 'until', 'while', 'as', 'until', 'while', 'as', 'until', 'while'}\n",
    "    combined -= words"
   ]
  },
  {
   "cell_type": "code",
   "execution_count": 29,
   "metadata": {},
   "outputs": [
    {
     "name": "stdout",
     "output_type": "stream",
     "text": [
      "{'silly', 'this', 'ministry', 'lumberjacks', 'all', 'a', 'parrot', 'night', 'sleep', 'late', 'walks'}\n"
     ]
    }
   ],
   "source": [
    "result = set()\n",
    "combine('lumberjacks sleep all night', result)\n",
    "combine('the ministry of silly walks', result)\n",
    "combine('this parrot is a late parrot', result)\n",
    "cleanup(result)\n",
    "print(result)"
   ]
  },
  {
   "cell_type": "code",
   "execution_count": 30,
   "metadata": {},
   "outputs": [],
   "source": [
    "def gen_read_data():\n",
    "    yield ['Paris', 'France', 'Beijing', 'New York', 'London', 'Tokyo', 'Berlin', 'Madrid', 'Rome', 'Moscow']\n",
    "    yield ['Hyderabad', 'India', 'Islamabad', 'Pakistan', 'Lahore', 'Karachi', 'Kabul', 'Afghanistan', 'Peshawar', 'Kandahar']\n",
    "    yield ['Lima', 'Peru', 'Montevideo', 'Uruguay', 'Santiago', 'Chile', 'Buenos Aires', 'Argentina', 'Bogota', 'Colombia']"
   ]
  },
  {
   "cell_type": "code",
   "execution_count": 31,
   "metadata": {},
   "outputs": [
    {
     "data": {
      "text/plain": [
       "['Paris',\n",
       " 'France',\n",
       " 'Beijing',\n",
       " 'New York',\n",
       " 'London',\n",
       " 'Tokyo',\n",
       " 'Berlin',\n",
       " 'Madrid',\n",
       " 'Rome',\n",
       " 'Moscow']"
      ]
     },
     "execution_count": 31,
     "metadata": {},
     "output_type": "execute_result"
    }
   ],
   "source": [
    "data = gen_read_data()\n",
    "next(data)"
   ]
  },
  {
   "cell_type": "code",
   "execution_count": 32,
   "metadata": {},
   "outputs": [
    {
     "data": {
      "text/plain": [
       "['Hyderabad',\n",
       " 'India',\n",
       " 'Islamabad',\n",
       " 'Pakistan',\n",
       " 'Lahore',\n",
       " 'Karachi',\n",
       " 'Kabul',\n",
       " 'Afghanistan',\n",
       " 'Peshawar',\n",
       " 'Kandahar']"
      ]
     },
     "execution_count": 32,
     "metadata": {},
     "output_type": "execute_result"
    }
   ],
   "source": [
    "next(data)"
   ]
  },
  {
   "cell_type": "code",
   "execution_count": 33,
   "metadata": {},
   "outputs": [
    {
     "data": {
      "text/plain": [
       "['Lima',\n",
       " 'Peru',\n",
       " 'Montevideo',\n",
       " 'Uruguay',\n",
       " 'Santiago',\n",
       " 'Chile',\n",
       " 'Buenos Aires',\n",
       " 'Argentina',\n",
       " 'Bogota',\n",
       " 'Colombia']"
      ]
     },
     "execution_count": 33,
     "metadata": {},
     "output_type": "execute_result"
    }
   ],
   "source": [
    "next(data)"
   ]
  },
  {
   "cell_type": "code",
   "execution_count": 34,
   "metadata": {},
   "outputs": [],
   "source": [
    "def filter_incoming(*cities, data_set):\n",
    "    data_set.difference_update(cities)"
   ]
  },
  {
   "cell_type": "code",
   "execution_count": 35,
   "metadata": {},
   "outputs": [
    {
     "name": "stdout",
     "output_type": "stream",
     "text": [
      "{'Chile', 'Peru', 'Pakistan', 'Berlin', 'Moscow', 'India', 'Hyderabad', 'Karachi', 'Beijing', 'Islamabad', 'Buenos Aires', 'Lima', 'Uruguay', 'Lahore', 'Argentina', 'New York', 'Kandahar', 'Colombia', 'Kabul', 'Santiago', 'Peshawar', 'Afghanistan', 'Montevideo', 'Rome', 'France', 'Bogota'}\n"
     ]
    }
   ],
   "source": [
    "result = set()\n",
    "data = gen_read_data()\n",
    "for page in data:\n",
    "    result.update(page)\n",
    "    filter_incoming('Paris', 'London', 'Madrid', 'Tokyo', data_set=result)\n",
    "print(result)"
   ]
  },
  {
   "cell_type": "code",
   "execution_count": null,
   "metadata": {},
   "outputs": [],
   "source": []
  }
 ],
 "metadata": {
  "kernelspec": {
   "display_name": "Python 3",
   "language": "python",
   "name": "python3"
  },
  "language_info": {
   "codemirror_mode": {
    "name": "ipython",
    "version": 3
   },
   "file_extension": ".py",
   "mimetype": "text/x-python",
   "name": "python",
   "nbconvert_exporter": "python",
   "pygments_lexer": "ipython3",
   "version": "3.11.5"
  }
 },
 "nbformat": 4,
 "nbformat_minor": 2
}
