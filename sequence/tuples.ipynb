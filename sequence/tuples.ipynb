{
 "cells": [
  {
   "cell_type": "code",
   "execution_count": 1,
   "metadata": {},
   "outputs": [],
   "source": [
    "from dis import dis"
   ]
  },
  {
   "cell_type": "code",
   "execution_count": 2,
   "metadata": {},
   "outputs": [
    {
     "data": {
      "text/plain": [
       "(1, 2, 3)"
      ]
     },
     "execution_count": 2,
     "metadata": {},
     "output_type": "execute_result"
    }
   ],
   "source": [
    "(1, 2, 3)"
   ]
  },
  {
   "cell_type": "code",
   "execution_count": 3,
   "metadata": {},
   "outputs": [
    {
     "data": {
      "text/plain": [
       "[1, 2, 3]"
      ]
     },
     "execution_count": 3,
     "metadata": {},
     "output_type": "execute_result"
    }
   ],
   "source": [
    "[1, 2, 3]"
   ]
  },
  {
   "cell_type": "code",
   "execution_count": 8,
   "metadata": {},
   "outputs": [
    {
     "name": "stdout",
     "output_type": "stream",
     "text": [
      "  0           0 RESUME                   0\n",
      "\n",
      "  1           2 LOAD_CONST               0 ((1, 2, 3, 'a'))\n",
      "              4 RETURN_VALUE\n"
     ]
    }
   ],
   "source": [
    "dis(compile('(1, 2, 3, \"a\")', 'string', 'eval'))\n"
   ]
  },
  {
   "cell_type": "code",
   "execution_count": 9,
   "metadata": {},
   "outputs": [
    {
     "name": "stdout",
     "output_type": "stream",
     "text": [
      "  0           0 RESUME                   0\n",
      "\n",
      "  1           2 BUILD_LIST               0\n",
      "              4 LOAD_CONST               0 ((1, 2, 3, 'a'))\n",
      "              6 LIST_EXTEND              1\n",
      "              8 RETURN_VALUE\n"
     ]
    }
   ],
   "source": [
    "dis(compile('[1, 2, 3, \"a\"]', 'string', 'eval'))\n"
   ]
  },
  {
   "cell_type": "code",
   "execution_count": 10,
   "metadata": {},
   "outputs": [
    {
     "name": "stdout",
     "output_type": "stream",
     "text": [
      "  0           0 RESUME                   0\n",
      "\n",
      "  1           2 LOAD_CONST               0 (1)\n",
      "              4 LOAD_CONST               1 (2)\n",
      "              6 LOAD_CONST               2 (3)\n",
      "              8 BUILD_LIST               0\n",
      "             10 LOAD_CONST               3 ((1, 2, 3))\n",
      "             12 LIST_EXTEND              1\n",
      "             14 BUILD_TUPLE              4\n",
      "             16 RETURN_VALUE\n"
     ]
    }
   ],
   "source": [
    "dis(compile('(1, 2, 3, [1, 2, 3])', 'string', 'eval'))\n"
   ]
  },
  {
   "cell_type": "code",
   "execution_count": 11,
   "metadata": {},
   "outputs": [],
   "source": [
    "from timeit import timeit"
   ]
  },
  {
   "cell_type": "code",
   "execution_count": 13,
   "metadata": {},
   "outputs": [
    {
     "data": {
      "text/plain": [
       "0.04908570897532627"
      ]
     },
     "execution_count": 13,
     "metadata": {},
     "output_type": "execute_result"
    }
   ],
   "source": [
    "timeit(\"(1, 2, 3, 4, 5, 6, 7, 8, 9, 10)\", number=10000000)"
   ]
  },
  {
   "cell_type": "code",
   "execution_count": 14,
   "metadata": {},
   "outputs": [
    {
     "data": {
      "text/plain": [
       "0.3433747920207679"
      ]
     },
     "execution_count": 14,
     "metadata": {},
     "output_type": "execute_result"
    }
   ],
   "source": [
    "timeit(\"[1, 2, 3, 4, 5, 6, 7, 8, 9, 10]\", number=10000000)"
   ]
  },
  {
   "cell_type": "code",
   "execution_count": 15,
   "metadata": {},
   "outputs": [],
   "source": [
    "def fun1():\n",
    "    pass"
   ]
  },
  {
   "cell_type": "code",
   "execution_count": 16,
   "metadata": {},
   "outputs": [
    {
     "name": "stdout",
     "output_type": "stream",
     "text": [
      "  0           0 RESUME                   0\n",
      "\n",
      "  1           2 LOAD_NAME                0 (fn1)\n",
      "              4 LOAD_CONST               0 (10)\n",
      "              6 LOAD_CONST               1 (20)\n",
      "              8 BUILD_TUPLE              3\n",
      "             10 RETURN_VALUE\n"
     ]
    }
   ],
   "source": [
    "dis(compile('(fn1, 10, 20)', 'string', 'eval'))"
   ]
  },
  {
   "cell_type": "code",
   "execution_count": 17,
   "metadata": {},
   "outputs": [
    {
     "name": "stdout",
     "output_type": "stream",
     "text": [
      "  0           0 RESUME                   0\n",
      "\n",
      "  1           2 LOAD_CONST               0 (1)\n",
      "              4 LOAD_CONST               1 (2)\n",
      "              6 LOAD_CONST               2 (3)\n",
      "              8 BUILD_LIST               0\n",
      "             10 LOAD_CONST               3 ((1, 2, 3))\n",
      "             12 LIST_EXTEND              1\n",
      "             14 BUILD_TUPLE              4\n",
      "             16 RETURN_VALUE\n"
     ]
    }
   ],
   "source": [
    "dis(compile('(1, 2, 3, [1, 2, 3])', 'string', 'eval'))"
   ]
  },
  {
   "cell_type": "code",
   "execution_count": 18,
   "metadata": {},
   "outputs": [
    {
     "name": "stdout",
     "output_type": "stream",
     "text": [
      "  0           0 RESUME                   0\n",
      "\n",
      "  1           2 LOAD_CONST               0 (1)\n",
      "              4 LOAD_CONST               1 (2)\n",
      "              6 LOAD_CONST               2 (3)\n",
      "              8 BUILD_LIST               0\n",
      "             10 LOAD_CONST               3 ((1, 2, 3))\n",
      "             12 LIST_EXTEND              1\n",
      "             14 BUILD_LIST               4\n",
      "             16 RETURN_VALUE\n"
     ]
    }
   ],
   "source": [
    "dis(compile('[1, 2, 3, [1, 2, 3]]', 'string', 'eval'))\n"
   ]
  },
  {
   "cell_type": "code",
   "execution_count": 19,
   "metadata": {},
   "outputs": [
    {
     "data": {
      "text/plain": [
       "0.5195651249960065"
      ]
     },
     "execution_count": 19,
     "metadata": {},
     "output_type": "execute_result"
    }
   ],
   "source": [
    "timeit(\"([1, 2, 3, [1, 2, 3]])\", number=10000000)"
   ]
  },
  {
   "cell_type": "code",
   "execution_count": 20,
   "metadata": {},
   "outputs": [
    {
     "data": {
      "text/plain": [
       "0.4890036249998957"
      ]
     },
     "execution_count": 20,
     "metadata": {},
     "output_type": "execute_result"
    }
   ],
   "source": [
    "timeit(\"[1, 2, 3, [1, 2, 3]]\", number=10000000)"
   ]
  },
  {
   "cell_type": "code",
   "execution_count": 21,
   "metadata": {},
   "outputs": [],
   "source": [
    "l1 = [1, 2, 3, 4, 5, 6, 7, 8, 9, 10]\n",
    "t1 = (1, 2, 3, 4, 5, 6, 7, 8, 9, 10)"
   ]
  },
  {
   "cell_type": "code",
   "execution_count": 22,
   "metadata": {},
   "outputs": [
    {
     "data": {
      "text/plain": [
       "(4429492736, 4429374528)"
      ]
     },
     "execution_count": 22,
     "metadata": {},
     "output_type": "execute_result"
    }
   ],
   "source": [
    "id(l1), id(t1)"
   ]
  },
  {
   "cell_type": "code",
   "execution_count": 23,
   "metadata": {},
   "outputs": [],
   "source": [
    "l2 = list(l1)"
   ]
  },
  {
   "cell_type": "code",
   "execution_count": 24,
   "metadata": {},
   "outputs": [
    {
     "data": {
      "text/plain": [
       "4361385856"
      ]
     },
     "execution_count": 24,
     "metadata": {},
     "output_type": "execute_result"
    }
   ],
   "source": [
    "id(l2)"
   ]
  },
  {
   "cell_type": "code",
   "execution_count": 25,
   "metadata": {},
   "outputs": [],
   "source": [
    "t2 = tuple(t1)"
   ]
  },
  {
   "cell_type": "code",
   "execution_count": 26,
   "metadata": {},
   "outputs": [
    {
     "data": {
      "text/plain": [
       "4429374528"
      ]
     },
     "execution_count": 26,
     "metadata": {},
     "output_type": "execute_result"
    }
   ],
   "source": [
    "id(t2)"
   ]
  },
  {
   "cell_type": "code",
   "execution_count": 27,
   "metadata": {},
   "outputs": [
    {
     "data": {
      "text/plain": [
       "0.19686462497338653"
      ]
     },
     "execution_count": 27,
     "metadata": {},
     "output_type": "execute_result"
    }
   ],
   "source": [
    "timeit('tuple((1, 2, 3, 4, 5, 6, 7, 8, 9, 10))', number=10000000)"
   ]
  },
  {
   "cell_type": "code",
   "execution_count": 28,
   "metadata": {},
   "outputs": [
    {
     "data": {
      "text/plain": [
       "0.6021933750016615"
      ]
     },
     "execution_count": 28,
     "metadata": {},
     "output_type": "execute_result"
    }
   ],
   "source": [
    "timeit('list((1, 2, 3, 4, 5, 6, 7, 8, 9, 10))', number=10000000)"
   ]
  },
  {
   "cell_type": "code",
   "execution_count": 29,
   "metadata": {},
   "outputs": [],
   "source": [
    "import sys"
   ]
  },
  {
   "cell_type": "code",
   "execution_count": 32,
   "metadata": {},
   "outputs": [
    {
     "name": "stdout",
     "output_type": "stream",
     "text": [
      "1 elements: 48, delta: 8\n",
      "2 elements: 56, delta: 8\n",
      "3 elements: 64, delta: 8\n",
      "4 elements: 72, delta: 8\n",
      "5 elements: 80, delta: 8\n",
      "6 elements: 88, delta: 8\n",
      "7 elements: 96, delta: 8\n",
      "8 elements: 104, delta: 8\n",
      "9 elements: 112, delta: 8\n",
      "10 elements: 120, delta: 8\n"
     ]
    }
   ],
   "source": [
    "t = tuple()\n",
    "prev = sys.getsizeof(t)\n",
    "for i in range(10):\n",
    "    c = tuple(range(i+1))\n",
    "    size_c = sys.getsizeof(c)\n",
    "    delta, prev = size_c - prev, size_c\n",
    "    print(f'{i+1} elements: {size_c}, delta: {delta}')"
   ]
  },
  {
   "cell_type": "code",
   "execution_count": 33,
   "metadata": {},
   "outputs": [
    {
     "name": "stdout",
     "output_type": "stream",
     "text": [
      "1 elements: 72, delta: 16\n",
      "2 elements: 72, delta: 0\n",
      "3 elements: 88, delta: 16\n",
      "4 elements: 88, delta: 0\n",
      "5 elements: 104, delta: 16\n",
      "6 elements: 104, delta: 0\n",
      "7 elements: 120, delta: 16\n",
      "8 elements: 120, delta: 0\n",
      "9 elements: 136, delta: 16\n",
      "10 elements: 136, delta: 0\n"
     ]
    }
   ],
   "source": [
    "t = list()\n",
    "prev = sys.getsizeof(t)\n",
    "for i in range(10):\n",
    "    c = list(range(i+1))\n",
    "    size_c = sys.getsizeof(c)\n",
    "    delta, prev = size_c - prev, size_c\n",
    "    print(f'{i+1} elements: {size_c}, delta: {delta}')"
   ]
  },
  {
   "cell_type": "code",
   "execution_count": 34,
   "metadata": {},
   "outputs": [
    {
     "name": "stdout",
     "output_type": "stream",
     "text": [
      "0 elements: 56\n",
      "1 elements: 88, delta: 32\n",
      "2 elements: 88, delta: 0\n",
      "3 elements: 88, delta: 0\n",
      "4 elements: 88, delta: 0\n",
      "5 elements: 120, delta: 32\n",
      "6 elements: 120, delta: 0\n",
      "7 elements: 120, delta: 0\n",
      "8 elements: 120, delta: 0\n",
      "9 elements: 184, delta: 64\n",
      "10 elements: 184, delta: 0\n",
      "11 elements: 184, delta: 0\n",
      "12 elements: 184, delta: 0\n",
      "13 elements: 184, delta: 0\n",
      "14 elements: 184, delta: 0\n",
      "15 elements: 184, delta: 0\n",
      "16 elements: 184, delta: 0\n",
      "17 elements: 248, delta: 64\n",
      "18 elements: 248, delta: 0\n",
      "19 elements: 248, delta: 0\n",
      "20 elements: 248, delta: 0\n",
      "21 elements: 248, delta: 0\n",
      "22 elements: 248, delta: 0\n",
      "23 elements: 248, delta: 0\n",
      "24 elements: 248, delta: 0\n",
      "25 elements: 312, delta: 64\n",
      "26 elements: 312, delta: 0\n",
      "27 elements: 312, delta: 0\n",
      "28 elements: 312, delta: 0\n",
      "29 elements: 312, delta: 0\n",
      "30 elements: 312, delta: 0\n",
      "31 elements: 312, delta: 0\n",
      "32 elements: 312, delta: 0\n",
      "33 elements: 376, delta: 64\n",
      "34 elements: 376, delta: 0\n",
      "35 elements: 376, delta: 0\n",
      "36 elements: 376, delta: 0\n",
      "37 elements: 376, delta: 0\n",
      "38 elements: 376, delta: 0\n",
      "39 elements: 376, delta: 0\n",
      "40 elements: 376, delta: 0\n",
      "41 elements: 472, delta: 96\n",
      "42 elements: 472, delta: 0\n",
      "43 elements: 472, delta: 0\n",
      "44 elements: 472, delta: 0\n",
      "45 elements: 472, delta: 0\n",
      "46 elements: 472, delta: 0\n",
      "47 elements: 472, delta: 0\n",
      "48 elements: 472, delta: 0\n",
      "49 elements: 472, delta: 0\n",
      "50 elements: 472, delta: 0\n",
      "51 elements: 472, delta: 0\n",
      "52 elements: 472, delta: 0\n",
      "53 elements: 568, delta: 96\n",
      "54 elements: 568, delta: 0\n",
      "55 elements: 568, delta: 0\n",
      "56 elements: 568, delta: 0\n",
      "57 elements: 568, delta: 0\n",
      "58 elements: 568, delta: 0\n",
      "59 elements: 568, delta: 0\n",
      "60 elements: 568, delta: 0\n",
      "61 elements: 568, delta: 0\n",
      "62 elements: 568, delta: 0\n",
      "63 elements: 568, delta: 0\n",
      "64 elements: 568, delta: 0\n",
      "65 elements: 664, delta: 96\n",
      "66 elements: 664, delta: 0\n",
      "67 elements: 664, delta: 0\n",
      "68 elements: 664, delta: 0\n",
      "69 elements: 664, delta: 0\n",
      "70 elements: 664, delta: 0\n",
      "71 elements: 664, delta: 0\n",
      "72 elements: 664, delta: 0\n",
      "73 elements: 664, delta: 0\n",
      "74 elements: 664, delta: 0\n",
      "75 elements: 664, delta: 0\n",
      "76 elements: 664, delta: 0\n",
      "77 elements: 792, delta: 128\n",
      "78 elements: 792, delta: 0\n",
      "79 elements: 792, delta: 0\n",
      "80 elements: 792, delta: 0\n",
      "81 elements: 792, delta: 0\n",
      "82 elements: 792, delta: 0\n",
      "83 elements: 792, delta: 0\n",
      "84 elements: 792, delta: 0\n",
      "85 elements: 792, delta: 0\n",
      "86 elements: 792, delta: 0\n",
      "87 elements: 792, delta: 0\n",
      "88 elements: 792, delta: 0\n",
      "89 elements: 792, delta: 0\n",
      "90 elements: 792, delta: 0\n",
      "91 elements: 792, delta: 0\n",
      "92 elements: 792, delta: 0\n",
      "93 elements: 920, delta: 128\n",
      "94 elements: 920, delta: 0\n",
      "95 elements: 920, delta: 0\n",
      "96 elements: 920, delta: 0\n",
      "97 elements: 920, delta: 0\n",
      "98 elements: 920, delta: 0\n",
      "99 elements: 920, delta: 0\n",
      "100 elements: 920, delta: 0\n",
      "101 elements: 920, delta: 0\n",
      "102 elements: 920, delta: 0\n",
      "103 elements: 920, delta: 0\n",
      "104 elements: 920, delta: 0\n",
      "105 elements: 920, delta: 0\n",
      "106 elements: 920, delta: 0\n",
      "107 elements: 920, delta: 0\n",
      "108 elements: 920, delta: 0\n",
      "109 elements: 1080, delta: 160\n",
      "110 elements: 1080, delta: 0\n",
      "111 elements: 1080, delta: 0\n",
      "112 elements: 1080, delta: 0\n",
      "113 elements: 1080, delta: 0\n",
      "114 elements: 1080, delta: 0\n",
      "115 elements: 1080, delta: 0\n",
      "116 elements: 1080, delta: 0\n",
      "117 elements: 1080, delta: 0\n",
      "118 elements: 1080, delta: 0\n",
      "119 elements: 1080, delta: 0\n",
      "120 elements: 1080, delta: 0\n",
      "121 elements: 1080, delta: 0\n",
      "122 elements: 1080, delta: 0\n",
      "123 elements: 1080, delta: 0\n",
      "124 elements: 1080, delta: 0\n",
      "125 elements: 1080, delta: 0\n",
      "126 elements: 1080, delta: 0\n",
      "127 elements: 1080, delta: 0\n",
      "128 elements: 1080, delta: 0\n",
      "129 elements: 1240, delta: 160\n",
      "130 elements: 1240, delta: 0\n",
      "131 elements: 1240, delta: 0\n",
      "132 elements: 1240, delta: 0\n",
      "133 elements: 1240, delta: 0\n",
      "134 elements: 1240, delta: 0\n",
      "135 elements: 1240, delta: 0\n",
      "136 elements: 1240, delta: 0\n",
      "137 elements: 1240, delta: 0\n",
      "138 elements: 1240, delta: 0\n",
      "139 elements: 1240, delta: 0\n",
      "140 elements: 1240, delta: 0\n",
      "141 elements: 1240, delta: 0\n",
      "142 elements: 1240, delta: 0\n",
      "143 elements: 1240, delta: 0\n",
      "144 elements: 1240, delta: 0\n",
      "145 elements: 1240, delta: 0\n",
      "146 elements: 1240, delta: 0\n",
      "147 elements: 1240, delta: 0\n",
      "148 elements: 1240, delta: 0\n",
      "149 elements: 1432, delta: 192\n",
      "150 elements: 1432, delta: 0\n",
      "151 elements: 1432, delta: 0\n",
      "152 elements: 1432, delta: 0\n",
      "153 elements: 1432, delta: 0\n",
      "154 elements: 1432, delta: 0\n",
      "155 elements: 1432, delta: 0\n",
      "156 elements: 1432, delta: 0\n",
      "157 elements: 1432, delta: 0\n",
      "158 elements: 1432, delta: 0\n",
      "159 elements: 1432, delta: 0\n",
      "160 elements: 1432, delta: 0\n",
      "161 elements: 1432, delta: 0\n",
      "162 elements: 1432, delta: 0\n",
      "163 elements: 1432, delta: 0\n",
      "164 elements: 1432, delta: 0\n",
      "165 elements: 1432, delta: 0\n",
      "166 elements: 1432, delta: 0\n",
      "167 elements: 1432, delta: 0\n",
      "168 elements: 1432, delta: 0\n",
      "169 elements: 1432, delta: 0\n",
      "170 elements: 1432, delta: 0\n",
      "171 elements: 1432, delta: 0\n",
      "172 elements: 1432, delta: 0\n",
      "173 elements: 1656, delta: 224\n",
      "174 elements: 1656, delta: 0\n",
      "175 elements: 1656, delta: 0\n",
      "176 elements: 1656, delta: 0\n",
      "177 elements: 1656, delta: 0\n",
      "178 elements: 1656, delta: 0\n",
      "179 elements: 1656, delta: 0\n",
      "180 elements: 1656, delta: 0\n",
      "181 elements: 1656, delta: 0\n",
      "182 elements: 1656, delta: 0\n",
      "183 elements: 1656, delta: 0\n",
      "184 elements: 1656, delta: 0\n",
      "185 elements: 1656, delta: 0\n",
      "186 elements: 1656, delta: 0\n",
      "187 elements: 1656, delta: 0\n",
      "188 elements: 1656, delta: 0\n",
      "189 elements: 1656, delta: 0\n",
      "190 elements: 1656, delta: 0\n",
      "191 elements: 1656, delta: 0\n",
      "192 elements: 1656, delta: 0\n",
      "193 elements: 1656, delta: 0\n",
      "194 elements: 1656, delta: 0\n",
      "195 elements: 1656, delta: 0\n",
      "196 elements: 1656, delta: 0\n",
      "197 elements: 1656, delta: 0\n",
      "198 elements: 1656, delta: 0\n",
      "199 elements: 1656, delta: 0\n",
      "200 elements: 1656, delta: 0\n",
      "201 elements: 1912, delta: 256\n",
      "202 elements: 1912, delta: 0\n",
      "203 elements: 1912, delta: 0\n",
      "204 elements: 1912, delta: 0\n",
      "205 elements: 1912, delta: 0\n",
      "206 elements: 1912, delta: 0\n",
      "207 elements: 1912, delta: 0\n",
      "208 elements: 1912, delta: 0\n",
      "209 elements: 1912, delta: 0\n",
      "210 elements: 1912, delta: 0\n",
      "211 elements: 1912, delta: 0\n",
      "212 elements: 1912, delta: 0\n",
      "213 elements: 1912, delta: 0\n",
      "214 elements: 1912, delta: 0\n",
      "215 elements: 1912, delta: 0\n",
      "216 elements: 1912, delta: 0\n",
      "217 elements: 1912, delta: 0\n",
      "218 elements: 1912, delta: 0\n",
      "219 elements: 1912, delta: 0\n",
      "220 elements: 1912, delta: 0\n",
      "221 elements: 1912, delta: 0\n",
      "222 elements: 1912, delta: 0\n",
      "223 elements: 1912, delta: 0\n",
      "224 elements: 1912, delta: 0\n",
      "225 elements: 1912, delta: 0\n",
      "226 elements: 1912, delta: 0\n",
      "227 elements: 1912, delta: 0\n",
      "228 elements: 1912, delta: 0\n",
      "229 elements: 1912, delta: 0\n",
      "230 elements: 1912, delta: 0\n",
      "231 elements: 1912, delta: 0\n",
      "232 elements: 1912, delta: 0\n",
      "233 elements: 2200, delta: 288\n",
      "234 elements: 2200, delta: 0\n",
      "235 elements: 2200, delta: 0\n",
      "236 elements: 2200, delta: 0\n",
      "237 elements: 2200, delta: 0\n",
      "238 elements: 2200, delta: 0\n",
      "239 elements: 2200, delta: 0\n",
      "240 elements: 2200, delta: 0\n",
      "241 elements: 2200, delta: 0\n",
      "242 elements: 2200, delta: 0\n",
      "243 elements: 2200, delta: 0\n",
      "244 elements: 2200, delta: 0\n",
      "245 elements: 2200, delta: 0\n",
      "246 elements: 2200, delta: 0\n",
      "247 elements: 2200, delta: 0\n",
      "248 elements: 2200, delta: 0\n",
      "249 elements: 2200, delta: 0\n",
      "250 elements: 2200, delta: 0\n",
      "251 elements: 2200, delta: 0\n",
      "252 elements: 2200, delta: 0\n",
      "253 elements: 2200, delta: 0\n",
      "254 elements: 2200, delta: 0\n",
      "255 elements: 2200, delta: 0\n"
     ]
    }
   ],
   "source": [
    "c = list()\n",
    "prev = sys.getsizeof(c)\n",
    "print(f'0 elements: {prev}')\n",
    "for i in range(255):\n",
    "    c.append(i)\n",
    "    size_c = sys.getsizeof(c)\n",
    "    delta, prev = size_c - prev, size_c\n",
    "    print(f'{i+1} elements: {size_c}, delta: {delta}')"
   ]
  },
  {
   "cell_type": "code",
   "execution_count": 36,
   "metadata": {},
   "outputs": [],
   "source": [
    "t = tuple(range(100000))\n",
    "l = list(t)"
   ]
  },
  {
   "cell_type": "code",
   "execution_count": 45,
   "metadata": {},
   "outputs": [
    {
     "data": {
      "text/plain": [
       "0.10331104201031849"
      ]
     },
     "execution_count": 45,
     "metadata": {},
     "output_type": "execute_result"
    }
   ],
   "source": [
    "timeit('t[99999]', globals=globals(), number=10000000)"
   ]
  },
  {
   "cell_type": "code",
   "execution_count": 46,
   "metadata": {},
   "outputs": [
    {
     "data": {
      "text/plain": [
       "0.10741316695930436"
      ]
     },
     "execution_count": 46,
     "metadata": {},
     "output_type": "execute_result"
    }
   ],
   "source": [
    "timeit('l[99999]', globals=globals(), number=10000000)"
   ]
  },
  {
   "cell_type": "code",
   "execution_count": null,
   "metadata": {},
   "outputs": [],
   "source": []
  }
 ],
 "metadata": {
  "kernelspec": {
   "display_name": "Python 3",
   "language": "python",
   "name": "python3"
  },
  "language_info": {
   "codemirror_mode": {
    "name": "ipython",
    "version": 3
   },
   "file_extension": ".py",
   "mimetype": "text/x-python",
   "name": "python",
   "nbconvert_exporter": "python",
   "pygments_lexer": "ipython3",
   "version": "3.11.5"
  }
 },
 "nbformat": 4,
 "nbformat_minor": 2
}
