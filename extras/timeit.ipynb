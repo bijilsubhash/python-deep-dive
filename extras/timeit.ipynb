{
 "cells": [
  {
   "cell_type": "code",
   "execution_count": 2,
   "metadata": {},
   "outputs": [],
   "source": [
    "from timeit import timeit"
   ]
  },
  {
   "cell_type": "code",
   "execution_count": 3,
   "metadata": {},
   "outputs": [
    {
     "name": "stdout",
     "output_type": "stream",
     "text": [
      "Help on function timeit in module timeit:\n",
      "\n",
      "timeit(stmt='pass', setup='pass', timer=<built-in function perf_counter>, number=1000000, globals=None)\n",
      "    Convenience function to create Timer object and call timeit method.\n",
      "\n"
     ]
    }
   ],
   "source": [
    "help(timeit)"
   ]
  },
  {
   "cell_type": "code",
   "execution_count": 4,
   "metadata": {},
   "outputs": [
    {
     "data": {
      "text/plain": [
       "1.4142135623730951"
      ]
     },
     "execution_count": 4,
     "metadata": {},
     "output_type": "execute_result"
    }
   ],
   "source": [
    "import math\n",
    "math.sqrt(2)\n",
    "\n"
   ]
  },
  {
   "cell_type": "code",
   "execution_count": 5,
   "metadata": {},
   "outputs": [
    {
     "data": {
      "text/plain": [
       "1.4142135623730951"
      ]
     },
     "execution_count": 5,
     "metadata": {},
     "output_type": "execute_result"
    }
   ],
   "source": [
    "from math import sqrt\n",
    "sqrt(2)\n",
    "\n",
    "\n",
    "\n",
    "\n",
    "\n",
    "\n",
    "\n"
   ]
  },
  {
   "cell_type": "code",
   "execution_count": 7,
   "metadata": {},
   "outputs": [
    {
     "data": {
      "text/plain": [
       "0.1286139580188319"
      ]
     },
     "execution_count": 7,
     "metadata": {},
     "output_type": "execute_result"
    }
   ],
   "source": [
    "timeit(stmt='import math\\nmath.sqrt(2)')"
   ]
  },
  {
   "cell_type": "code",
   "execution_count": 8,
   "metadata": {},
   "outputs": [
    {
     "data": {
      "text/plain": [
       "0.038480999995954335"
      ]
     },
     "execution_count": 8,
     "metadata": {},
     "output_type": "execute_result"
    }
   ],
   "source": [
    "timeit(stmt='math.sqrt(2)', setup='import math')"
   ]
  },
  {
   "cell_type": "code",
   "execution_count": 9,
   "metadata": {},
   "outputs": [
    {
     "data": {
      "text/plain": [
       "0.0321434999932535"
      ]
     },
     "execution_count": 9,
     "metadata": {},
     "output_type": "execute_result"
    }
   ],
   "source": [
    "timeit(stmt='sqrt(2)', setup='from math import sqrt')"
   ]
  },
  {
   "cell_type": "code",
   "execution_count": 10,
   "metadata": {},
   "outputs": [
    {
     "data": {
      "text/plain": [
       "0.09770083398325369"
      ]
     },
     "execution_count": 10,
     "metadata": {},
     "output_type": "execute_result"
    }
   ],
   "source": [
    "timeit(stmt='math.sqrt(2)', globals=globals())"
   ]
  },
  {
   "cell_type": "code",
   "execution_count": 11,
   "metadata": {},
   "outputs": [
    {
     "data": {
      "text/plain": [
       "0.09061316697625443"
      ]
     },
     "execution_count": 11,
     "metadata": {},
     "output_type": "execute_result"
    }
   ],
   "source": [
    "timeit(stmt='sqrt(2)', globals=globals())"
   ]
  },
  {
   "cell_type": "code",
   "execution_count": 12,
   "metadata": {},
   "outputs": [],
   "source": [
    "import random"
   ]
  },
  {
   "cell_type": "code",
   "execution_count": 13,
   "metadata": {},
   "outputs": [],
   "source": [
    "l = random.choices(list('python'), k=500)"
   ]
  },
  {
   "cell_type": "code",
   "execution_count": 15,
   "metadata": {},
   "outputs": [
    {
     "name": "stdout",
     "output_type": "stream",
     "text": [
      "['y', 'y', 'n', 'n', 'p', 'y', 'y', 'o', 'n', 'o', 'h', 'h', 'h', 'h', 'h', 'o', 'p', 't', 't', 'p', 'o', 'p', 'o', 'y', 'p', 'o', 'h', 't', 't', 'h', 'p', 'h', 'o', 'y', 't', 'y', 'n', 'p', 'h', 'o', 'p', 'y', 'h', 'p', 'n', 'p', 'y', 'p', 'y', 'y', 'n', 'o', 't', 'n', 'h', 'p', 'h', 'y', 'o', 'o', 'p', 't', 'n', 'n', 'p', 'y', 'n', 'n', 't', 'h', 'p', 'o', 'o', 'o', 'o', 't', 'h', 'p', 'o', 'h', 'h', 'y', 'p', 'y', 'p', 'y', 'n', 'y', 'n', 'n', 'y', 'y', 'h', 'n', 'n', 'y', 'h', 'p', 'n', 'o', 'p', 't', 'y', 'o', 'p', 'o', 'y', 'o', 'y', 't', 'n', 'h', 'n', 'o', 'p', 'n', 'y', 'p', 'n', 'p', 'n', 't', 'o', 'h', 'o', 'o', 'p', 'n', 'y', 'o', 'n', 't', 't', 'n', 'h', 'y', 'p', 'p', 'o', 'n', 't', 'h', 't', 'n', 'h', 'h', 'p', 'y', 'o', 'p', 'n', 'p', 'h', 'n', 'y', 'p', 'n', 't', 'p', 't', 'y', 'o', 'h', 'h', 'n', 'p', 'n', 'p', 'p', 'o', 'n', 'y', 'y', 'o', 'p', 'n', 'y', 'h', 'n', 'y', 'p', 't', 't', 'y', 't', 'o', 'y', 'n', 'h', 'n', 'h', 't', 'h', 'n', 'h', 'p', 'h', 'h', 'y', 'o', 't', 't', 'y', 't', 'y', 'n', 'y', 'n', 'p', 'o', 'o', 'h', 'y', 'o', 'o', 't', 'p', 'h', 'y', 'n', 'y', 'n', 'p', 'p', 'y', 'n', 'p', 'y', 'h', 't', 'o', 'n', 'h', 'o', 't', 'o', 'y', 'n', 'o', 'p', 'y', 't', 'o', 'n', 't', 'n', 'o', 'h', 'y', 'y', 'y', 'h', 'p', 'y', 'h', 'o', 'p', 't', 'p', 'h', 'n', 't', 'y', 'o', 'n', 't', 'p', 'p', 'h', 'y', 'h', 'h', 'y', 'o', 'y', 'p', 'n', 'o', 't', 'h', 'o', 't', 'p', 'p', 'o', 'o', 'y', 'n', 'h', 'p', 'y', 't', 'n', 'o', 't', 'p', 'o', 'o', 'n', 'p', 'n', 't', 'o', 't', 'h', 'p', 'y', 'h', 't', 't', 'o', 'p', 'p', 'h', 'n', 'n', 'p', 'p', 'y', 't', 'h', 'h', 'h', 'h', 'h', 'h', 'o', 'y', 'p', 'p', 'n', 't', 't', 't', 't', 'h', 'o', 'h', 'h', 'p', 'y', 'h', 'n', 'o', 'y', 't', 'p', 'o', 'n', 'h', 'y', 'y', 'y', 'p', 'h', 'h', 'h', 'p', 't', 'y', 'h', 'h', 'y', 'y', 'o', 'y', 'n', 'y', 't', 'n', 'n', 'p', 'n', 'y', 'n', 't', 'o', 'o', 'o', 'p', 'p', 'p', 'o', 'h', 'n', 'p', 'p', 'y', 'y', 'h', 'n', 'h', 'o', 'p', 'y', 'h', 't', 'o', 'y', 'n', 'n', 'p', 'h', 'p', 'o', 'p', 'h', 't', 'y', 'n', 't', 'o', 'y', 't', 'p', 'p', 'o', 'o', 'o', 'n', 'h', 't', 'y', 'p', 't', 't', 'n', 'n', 'n', 't', 'p', 'o', 'y', 'n', 'p', 'h', 'y', 'h', 'h', 'h', 'p', 't', 'h', 'y', 'y', 'h', 'h', 'o', 'o', 'n', 'o', 'o', 'n', 'n', 'h', 't', 'h', 'y', 't', 'p', 'o', 'o', 'h', 't', 't', 'o', 'y', 'h', 'y', 'p', 'h', 'y', 'n', 'h', 'o', 't', 'o', 'y', 'h', 't', 'h', 'o', 'y', 'o', 'y', 'n', 'p', 't', 'h', 'n', 'p', 'o', 'y', 'h', 'n', 'o', 'p', 'p', 'h', 'h']\n"
     ]
    }
   ],
   "source": [
    "print(l)\n",
    "\n",
    "\n",
    "\n",
    "\n",
    "\n",
    "\n",
    "\n",
    "\n"
   ]
  },
  {
   "cell_type": "code",
   "execution_count": 16,
   "metadata": {},
   "outputs": [
    {
     "data": {
      "text/plain": [
       "True"
      ]
     },
     "execution_count": 16,
     "metadata": {},
     "output_type": "execute_result"
    }
   ],
   "source": [
    "'l' in globals()"
   ]
  },
  {
   "cell_type": "code",
   "execution_count": 17,
   "metadata": {},
   "outputs": [
    {
     "data": {
      "text/plain": [
       "False"
      ]
     },
     "execution_count": 17,
     "metadata": {},
     "output_type": "execute_result"
    }
   ],
   "source": [
    "'m' in globals()"
   ]
  },
  {
   "cell_type": "code",
   "execution_count": 18,
   "metadata": {},
   "outputs": [
    {
     "data": {
      "text/plain": [
       "0.22490604099584743"
      ]
     },
     "execution_count": 18,
     "metadata": {},
     "output_type": "execute_result"
    }
   ],
   "source": [
    "timeit(stmt='random.choice(l)', globals=globals(), setup='import random')"
   ]
  },
  {
   "cell_type": "code",
   "execution_count": 23,
   "metadata": {},
   "outputs": [
    {
     "name": "stdout",
     "output_type": "stream",
     "text": [
      "True\n"
     ]
    },
    {
     "data": {
      "text/plain": [
       "0.1570250000222586"
      ]
     },
     "execution_count": 23,
     "metadata": {},
     "output_type": "execute_result"
    }
   ],
   "source": [
    "def pick_random():\n",
    "    randoms = random.choices(list('python'), k=500)\n",
    "    print('randoms' in locals())\n",
    "    return timeit(stmt='random.choice(randoms)', globals=locals(), setup='import random')\n",
    "pick_random()"
   ]
  },
  {
   "cell_type": "code",
   "execution_count": 25,
   "metadata": {},
   "outputs": [
    {
     "data": {
      "text/plain": [
       "False"
      ]
     },
     "execution_count": 25,
     "metadata": {},
     "output_type": "execute_result"
    }
   ],
   "source": [
    "'randoms' in globals()"
   ]
  },
  {
   "cell_type": "code",
   "execution_count": 26,
   "metadata": {},
   "outputs": [],
   "source": [
    "def pick_random(lst):\n",
    "    return random.choice(lst)"
   ]
  },
  {
   "cell_type": "code",
   "execution_count": 27,
   "metadata": {},
   "outputs": [
    {
     "data": {
      "text/plain": [
       "0.26555487496079877"
      ]
     },
     "execution_count": 27,
     "metadata": {},
     "output_type": "execute_result"
    }
   ],
   "source": [
    "timeit(stmt='pick_random(l)', globals=globals())"
   ]
  },
  {
   "cell_type": "code",
   "execution_count": 30,
   "metadata": {},
   "outputs": [
    {
     "name": "stdout",
     "output_type": "stream",
     "text": [
      "['y', 'y', 'n', 'n', 'p', 'y', 'y', 'o', 'n', 'o', 'h', 'h', 'h', 'h', 'h', 'o', 'p', 't', 't', 'p', 'o', 'p', 'o', 'y', 'p', 'o', 'h', 't', 't', 'h', 'p', 'h', 'o', 'y', 't', 'y', 'n', 'p', 'h', 'o', 'p', 'y', 'h', 'p', 'n', 'p', 'y', 'p', 'y', 'y', 'n', 'o', 't', 'n', 'h', 'p', 'h', 'y', 'o', 'o', 'p', 't', 'n', 'n', 'p', 'y', 'n', 'n', 't', 'h', 'p', 'o', 'o', 'o', 'o', 't', 'h', 'p', 'o', 'h', 'h', 'y', 'p', 'y', 'p', 'y', 'n', 'y', 'n', 'n', 'y', 'y', 'h', 'n', 'n', 'y', 'h', 'p', 'n', 'o', 'p', 't', 'y', 'o', 'p', 'o', 'y', 'o', 'y', 't', 'n', 'h', 'n', 'o', 'p', 'n', 'y', 'p', 'n', 'p', 'n', 't', 'o', 'h', 'o', 'o', 'p', 'n', 'y', 'o', 'n', 't', 't', 'n', 'h', 'y', 'p', 'p', 'o', 'n', 't', 'h', 't', 'n', 'h', 'h', 'p', 'y', 'o', 'p', 'n', 'p', 'h', 'n', 'y', 'p', 'n', 't', 'p', 't', 'y', 'o', 'h', 'h', 'n', 'p', 'n', 'p', 'p', 'o', 'n', 'y', 'y', 'o', 'p', 'n', 'y', 'h', 'n', 'y', 'p', 't', 't', 'y', 't', 'o', 'y', 'n', 'h', 'n', 'h', 't', 'h', 'n', 'h', 'p', 'h', 'h', 'y', 'o', 't', 't', 'y', 't', 'y', 'n', 'y', 'n', 'p', 'o', 'o', 'h', 'y', 'o', 'o', 't', 'p', 'h', 'y', 'n', 'y', 'n', 'p', 'p', 'y', 'n', 'p', 'y', 'h', 't', 'o', 'n', 'h', 'o', 't', 'o', 'y', 'n', 'o', 'p', 'y', 't', 'o', 'n', 't', 'n', 'o', 'h', 'y', 'y', 'y', 'h', 'p', 'y', 'h', 'o', 'p', 't', 'p', 'h', 'n', 't', 'y', 'o', 'n', 't', 'p', 'p', 'h', 'y', 'h', 'h', 'y', 'o', 'y', 'p', 'n', 'o', 't', 'h', 'o', 't', 'p', 'p', 'o', 'o', 'y', 'n', 'h', 'p', 'y', 't', 'n', 'o', 't', 'p', 'o', 'o', 'n', 'p', 'n', 't', 'o', 't', 'h', 'p', 'y', 'h', 't', 't', 'o', 'p', 'p', 'h', 'n', 'n', 'p', 'p', 'y', 't', 'h', 'h', 'h', 'h', 'h', 'h', 'o', 'y', 'p', 'p', 'n', 't', 't', 't', 't', 'h', 'o', 'h', 'h', 'p', 'y', 'h', 'n', 'o', 'y', 't', 'p', 'o', 'n', 'h', 'y', 'y', 'y', 'p', 'h', 'h', 'h', 'p', 't', 'y', 'h', 'h', 'y', 'y', 'o', 'y', 'n', 'y', 't', 'n', 'n', 'p', 'n', 'y', 'n', 't', 'o', 'o', 'o', 'p', 'p', 'p', 'o', 'h', 'n', 'p', 'p', 'y', 'y', 'h', 'n', 'h', 'o', 'p', 'y', 'h', 't', 'o', 'y', 'n', 'n', 'p', 'h', 'p', 'o', 'p', 'h', 't', 'y', 'n', 't', 'o', 'y', 't', 'p', 'p', 'o', 'o', 'o', 'n', 'h', 't', 'y', 'p', 't', 't', 'n', 'n', 'n', 't', 'p', 'o', 'y', 'n', 'p', 'h', 'y', 'h', 'h', 'h', 'p', 't', 'h', 'y', 'y', 'h', 'h', 'o', 'o', 'n', 'o', 'o', 'n', 'n', 'h', 't', 'h', 'y', 't', 'p', 'o', 'o', 'h', 't', 't', 'o', 'y', 'h', 'y', 'p', 'h', 'y', 'n', 'h', 'o', 't', 'o', 'y', 'h', 't', 'h', 'o', 'y', 'o', 'y', 'n', 'p', 't', 'h', 'n', 'p', 'o', 'y', 'h', 'n', 'o', 'p', 'p', 'h', 'h']\n"
     ]
    }
   ],
   "source": [
    "print(l)"
   ]
  },
  {
   "cell_type": "code",
   "execution_count": null,
   "metadata": {},
   "outputs": [],
   "source": []
  }
 ],
 "metadata": {
  "kernelspec": {
   "display_name": "Python 3",
   "language": "python",
   "name": "python3"
  },
  "language_info": {
   "codemirror_mode": {
    "name": "ipython",
    "version": 3
   },
   "file_extension": ".py",
   "mimetype": "text/x-python",
   "name": "python",
   "nbconvert_exporter": "python",
   "pygments_lexer": "ipython3",
   "version": "3.11.5"
  }
 },
 "nbformat": 4,
 "nbformat_minor": 2
}
