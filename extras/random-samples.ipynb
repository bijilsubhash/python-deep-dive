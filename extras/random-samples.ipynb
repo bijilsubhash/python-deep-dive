{
 "cells": [
  {
   "cell_type": "code",
   "execution_count": 1,
   "metadata": {},
   "outputs": [],
   "source": [
    "import random"
   ]
  },
  {
   "cell_type": "code",
   "execution_count": 2,
   "metadata": {},
   "outputs": [
    {
     "data": {
      "text/plain": [
       "['b', 'a', 'c', 'a', 'a', 'c', 'b', 'b', 'c', 'b']"
      ]
     },
     "execution_count": 2,
     "metadata": {},
     "output_type": "execute_result"
    }
   ],
   "source": [
    "random.choices(list('abc'), k=10)"
   ]
  },
  {
   "cell_type": "code",
   "execution_count": 11,
   "metadata": {},
   "outputs": [
    {
     "data": {
      "text/plain": [
       "[0, 1, 2, 3, 4, 5, 6, 7, 8, 9]"
      ]
     },
     "execution_count": 11,
     "metadata": {},
     "output_type": "execute_result"
    }
   ],
   "source": [
    "l = list(range(10))\n",
    "l"
   ]
  },
  {
   "cell_type": "code",
   "execution_count": 12,
   "metadata": {},
   "outputs": [
    {
     "data": {
      "text/plain": [
       "[6, 6, 7, 5, 1]"
      ]
     },
     "execution_count": 12,
     "metadata": {},
     "output_type": "execute_result"
    }
   ],
   "source": [
    "random.choices(l, k=5)"
   ]
  },
  {
   "cell_type": "code",
   "execution_count": 17,
   "metadata": {},
   "outputs": [
    {
     "data": {
      "text/plain": [
       "[2, 3, 0]"
      ]
     },
     "execution_count": 17,
     "metadata": {},
     "output_type": "execute_result"
    }
   ],
   "source": [
    "random.sample(l, k=3)"
   ]
  },
  {
   "cell_type": "code",
   "execution_count": 18,
   "metadata": {},
   "outputs": [],
   "source": [
    "suits = 'C', 'D', 'H', 'S'\n",
    "ranks = tuple(range(2, 11)) + tuple('JQKA')"
   ]
  },
  {
   "cell_type": "code",
   "execution_count": 19,
   "metadata": {},
   "outputs": [
    {
     "data": {
      "text/plain": [
       "('C', 'D', 'H', 'S')"
      ]
     },
     "execution_count": 19,
     "metadata": {},
     "output_type": "execute_result"
    }
   ],
   "source": [
    "suits"
   ]
  },
  {
   "cell_type": "code",
   "execution_count": 20,
   "metadata": {},
   "outputs": [
    {
     "data": {
      "text/plain": [
       "(2, 3, 4, 5, 6, 7, 8, 9, 10, 'J', 'Q', 'K', 'A')"
      ]
     },
     "execution_count": 20,
     "metadata": {},
     "output_type": "execute_result"
    }
   ],
   "source": [
    "ranks"
   ]
  },
  {
   "cell_type": "code",
   "execution_count": 21,
   "metadata": {},
   "outputs": [],
   "source": [
    "deck = []\n",
    "for suit in suits:\n",
    "    for rank in ranks:\n",
    "        deck.append((suit, rank))\n"
   ]
  },
  {
   "cell_type": "code",
   "execution_count": 23,
   "metadata": {},
   "outputs": [
    {
     "name": "stdout",
     "output_type": "stream",
     "text": [
      "[('C', 2), ('C', 3), ('C', 4), ('C', 5), ('C', 6), ('C', 7), ('C', 8), ('C', 9), ('C', 10), ('C', 'J'), ('C', 'Q'), ('C', 'K'), ('C', 'A'), ('D', 2), ('D', 3), ('D', 4), ('D', 5), ('D', 6), ('D', 7), ('D', 8), ('D', 9), ('D', 10), ('D', 'J'), ('D', 'Q'), ('D', 'K'), ('D', 'A'), ('H', 2), ('H', 3), ('H', 4), ('H', 5), ('H', 6), ('H', 7), ('H', 8), ('H', 9), ('H', 10), ('H', 'J'), ('H', 'Q'), ('H', 'K'), ('H', 'A'), ('S', 2), ('S', 3), ('S', 4), ('S', 5), ('S', 6), ('S', 7), ('S', 8), ('S', 9), ('S', 10), ('S', 'J'), ('S', 'Q'), ('S', 'K'), ('S', 'A')]\n"
     ]
    }
   ],
   "source": [
    "print(deck)"
   ]
  },
  {
   "cell_type": "code",
   "execution_count": 24,
   "metadata": {},
   "outputs": [
    {
     "name": "stdout",
     "output_type": "stream",
     "text": [
      "[('2', 'C'), ('3', 'C'), ('4', 'C'), ('5', 'C'), ('6', 'C'), ('7', 'C'), ('8', 'C'), ('9', 'C'), ('10', 'C'), ('J', 'C'), ('Q', 'C'), ('K', 'C'), ('A', 'C'), ('2', 'D'), ('3', 'D'), ('4', 'D'), ('5', 'D'), ('6', 'D'), ('7', 'D'), ('8', 'D'), ('9', 'D'), ('10', 'D'), ('J', 'D'), ('Q', 'D'), ('K', 'D'), ('A', 'D'), ('2', 'H'), ('3', 'H'), ('4', 'H'), ('5', 'H'), ('6', 'H'), ('7', 'H'), ('8', 'H'), ('9', 'H'), ('10', 'H'), ('J', 'H'), ('Q', 'H'), ('K', 'H'), ('A', 'H'), ('2', 'S'), ('3', 'S'), ('4', 'S'), ('5', 'S'), ('6', 'S'), ('7', 'S'), ('8', 'S'), ('9', 'S'), ('10', 'S'), ('J', 'S'), ('Q', 'S'), ('K', 'S'), ('A', 'S')]\n"
     ]
    }
   ],
   "source": [
    "deck = [(str(rank), suit) for suit in suits for rank in ranks]\n",
    "print(deck)\n"
   ]
  },
  {
   "cell_type": "code",
   "execution_count": 28,
   "metadata": {},
   "outputs": [
    {
     "data": {
      "text/plain": [
       "Counter({('J', 'H'): 3,\n",
       "         ('6', 'S'): 2,\n",
       "         ('5', 'C'): 2,\n",
       "         ('A', 'C'): 2,\n",
       "         ('10', 'H'): 2,\n",
       "         ('8', 'C'): 2,\n",
       "         ('Q', 'H'): 2,\n",
       "         ('A', 'S'): 2,\n",
       "         ('8', 'S'): 2,\n",
       "         ('J', 'D'): 2,\n",
       "         ('K', 'H'): 2,\n",
       "         ('7', 'S'): 2,\n",
       "         ('5', 'H'): 2,\n",
       "         ('4', 'C'): 1,\n",
       "         ('2', 'S'): 1,\n",
       "         ('3', 'H'): 1,\n",
       "         ('6', 'C'): 1,\n",
       "         ('Q', 'D'): 1,\n",
       "         ('2', 'C'): 1,\n",
       "         ('6', 'H'): 1,\n",
       "         ('7', 'C'): 1,\n",
       "         ('9', 'H'): 1,\n",
       "         ('3', 'D'): 1,\n",
       "         ('2', 'D'): 1,\n",
       "         ('J', 'C'): 1,\n",
       "         ('8', 'D'): 1})"
      ]
     },
     "execution_count": 28,
     "metadata": {},
     "output_type": "execute_result"
    }
   ],
   "source": [
    "from collections import Counter\n",
    "Counter(random.choices(deck, k=40))"
   ]
  },
  {
   "cell_type": "code",
   "execution_count": 31,
   "metadata": {},
   "outputs": [
    {
     "data": {
      "text/plain": [
       "Counter({('8', 'H'): 1,\n",
       "         ('K', 'D'): 1,\n",
       "         ('9', 'S'): 1,\n",
       "         ('9', 'H'): 1,\n",
       "         ('8', 'S'): 1,\n",
       "         ('2', 'C'): 1,\n",
       "         ('10', 'H'): 1,\n",
       "         ('10', 'C'): 1,\n",
       "         ('4', 'C'): 1,\n",
       "         ('A', 'S'): 1,\n",
       "         ('K', 'H'): 1,\n",
       "         ('Q', 'H'): 1,\n",
       "         ('Q', 'D'): 1,\n",
       "         ('9', 'D'): 1,\n",
       "         ('6', 'D'): 1,\n",
       "         ('K', 'S'): 1,\n",
       "         ('2', 'D'): 1,\n",
       "         ('10', 'S'): 1,\n",
       "         ('2', 'S'): 1,\n",
       "         ('8', 'D'): 1,\n",
       "         ('7', 'H'): 1,\n",
       "         ('6', 'H'): 1,\n",
       "         ('A', 'C'): 1,\n",
       "         ('10', 'D'): 1,\n",
       "         ('3', 'S'): 1,\n",
       "         ('9', 'C'): 1,\n",
       "         ('6', 'C'): 1,\n",
       "         ('5', 'D'): 1,\n",
       "         ('5', 'H'): 1,\n",
       "         ('8', 'C'): 1,\n",
       "         ('3', 'C'): 1,\n",
       "         ('6', 'S'): 1,\n",
       "         ('4', 'H'): 1,\n",
       "         ('K', 'C'): 1,\n",
       "         ('3', 'H'): 1,\n",
       "         ('Q', 'S'): 1,\n",
       "         ('J', 'H'): 1,\n",
       "         ('3', 'D'): 1,\n",
       "         ('7', 'D'): 1,\n",
       "         ('A', 'H'): 1})"
      ]
     },
     "execution_count": 31,
     "metadata": {},
     "output_type": "execute_result"
    }
   ],
   "source": [
    "Counter(random.sample(deck, k=40))\n"
   ]
  },
  {
   "cell_type": "code",
   "execution_count": null,
   "metadata": {},
   "outputs": [],
   "source": []
  }
 ],
 "metadata": {
  "kernelspec": {
   "display_name": "Python 3",
   "language": "python",
   "name": "python3"
  },
  "language_info": {
   "codemirror_mode": {
    "name": "ipython",
    "version": 3
   },
   "file_extension": ".py",
   "mimetype": "text/x-python",
   "name": "python",
   "nbconvert_exporter": "python",
   "pygments_lexer": "ipython3",
   "version": "3.11.5"
  }
 },
 "nbformat": 4,
 "nbformat_minor": 2
}
