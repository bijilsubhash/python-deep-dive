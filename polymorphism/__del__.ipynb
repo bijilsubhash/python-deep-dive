{
 "cells": [
  {
   "cell_type": "code",
   "execution_count": 7,
   "metadata": {},
   "outputs": [],
   "source": [
    "import ctypes"
   ]
  },
  {
   "cell_type": "code",
   "execution_count": 8,
   "metadata": {},
   "outputs": [],
   "source": [
    "def ref_count(address):\n",
    "    return ctypes.c_long.from_address(address).value"
   ]
  },
  {
   "cell_type": "code",
   "execution_count": 9,
   "metadata": {},
   "outputs": [],
   "source": [
    "class Person:\n",
    "    def __init__(self, name):\n",
    "        self.name = name\n",
    "\n",
    "    def __repr__(self):\n",
    "        return f\"Person({self.name})\"\n",
    "\n",
    "    def __del__(self):\n",
    "        print(f'__del__ called on {self}...')"
   ]
  },
  {
   "cell_type": "code",
   "execution_count": 10,
   "metadata": {},
   "outputs": [
    {
     "name": "stdout",
     "output_type": "stream",
     "text": [
      "__del__ called on Person(John)...\n"
     ]
    }
   ],
   "source": [
    "p = Person('John')"
   ]
  },
  {
   "cell_type": "code",
   "execution_count": 11,
   "metadata": {},
   "outputs": [],
   "source": [
    "id_p = id(p)"
   ]
  },
  {
   "cell_type": "code",
   "execution_count": 12,
   "metadata": {},
   "outputs": [
    {
     "data": {
      "text/plain": [
       "1"
      ]
     },
     "execution_count": 12,
     "metadata": {},
     "output_type": "execute_result"
    }
   ],
   "source": [
    "ref_count(id_p)"
   ]
  },
  {
   "cell_type": "code",
   "execution_count": 13,
   "metadata": {},
   "outputs": [
    {
     "name": "stdout",
     "output_type": "stream",
     "text": [
      "__del__ called on Person(John)...\n"
     ]
    }
   ],
   "source": [
    "p = None"
   ]
  },
  {
   "cell_type": "code",
   "execution_count": 14,
   "metadata": {},
   "outputs": [
    {
     "data": {
      "text/plain": [
       "-16711708"
      ]
     },
     "execution_count": 14,
     "metadata": {},
     "output_type": "execute_result"
    }
   ],
   "source": [
    "ref_count(id_p)"
   ]
  },
  {
   "cell_type": "code",
   "execution_count": 15,
   "metadata": {},
   "outputs": [],
   "source": [
    "p = Person('John')"
   ]
  },
  {
   "cell_type": "code",
   "execution_count": 16,
   "metadata": {},
   "outputs": [
    {
     "name": "stdout",
     "output_type": "stream",
     "text": [
      "__del__ called on Person(John)...\n"
     ]
    }
   ],
   "source": [
    "del p"
   ]
  },
  {
   "cell_type": "code",
   "execution_count": 17,
   "metadata": {},
   "outputs": [],
   "source": [
    "class Person:\n",
    "    def __init__(self, name):\n",
    "        self.name = name\n",
    "\n",
    "    def __repr__(self):\n",
    "        return f\"Person({self.name})\"\n",
    "\n",
    "    def __del__(self):\n",
    "        print(f'__del__ called on {self}...')\n",
    "\n",
    "    def gen_ex(self):\n",
    "        raise ValueError('Something went bump...')"
   ]
  },
  {
   "cell_type": "code",
   "execution_count": 18,
   "metadata": {},
   "outputs": [
    {
     "data": {
      "text/plain": [
       "1"
      ]
     },
     "execution_count": 18,
     "metadata": {},
     "output_type": "execute_result"
    }
   ],
   "source": [
    "p = Person('Eric')\n",
    "p_id = id(p)\n",
    "ref_count(p_id)"
   ]
  },
  {
   "cell_type": "code",
   "execution_count": 21,
   "metadata": {},
   "outputs": [
    {
     "name": "stdout",
     "output_type": "stream",
     "text": [
      "Something went bump...\n"
     ]
    }
   ],
   "source": [
    "try:\n",
    "    p.gen_ex()\n",
    "except ValueError as e:\n",
    "    error = e\n",
    "    print(e)"
   ]
  },
  {
   "cell_type": "code",
   "execution_count": 23,
   "metadata": {},
   "outputs": [
    {
     "data": {
      "text/plain": [
       "ValueError('Something went bump...')"
      ]
     },
     "execution_count": 23,
     "metadata": {},
     "output_type": "execute_result"
    }
   ],
   "source": [
    "error"
   ]
  },
  {
   "cell_type": "code",
   "execution_count": 24,
   "metadata": {},
   "outputs": [
    {
     "data": {
      "text/plain": [
       "2"
      ]
     },
     "execution_count": 24,
     "metadata": {},
     "output_type": "execute_result"
    }
   ],
   "source": [
    "ref_count(p_id)"
   ]
  },
  {
   "cell_type": "code",
   "execution_count": 25,
   "metadata": {},
   "outputs": [
    {
     "data": {
      "text/plain": [
       "ValueError"
      ]
     },
     "execution_count": 25,
     "metadata": {},
     "output_type": "execute_result"
    }
   ],
   "source": [
    "type(error)"
   ]
  },
  {
   "cell_type": "code",
   "execution_count": 26,
   "metadata": {},
   "outputs": [
    {
     "data": {
      "text/plain": [
       "['__cause__',\n",
       " '__class__',\n",
       " '__context__',\n",
       " '__delattr__',\n",
       " '__dict__',\n",
       " '__dir__',\n",
       " '__doc__',\n",
       " '__eq__',\n",
       " '__format__',\n",
       " '__ge__',\n",
       " '__getattribute__',\n",
       " '__getstate__',\n",
       " '__gt__',\n",
       " '__hash__',\n",
       " '__init__',\n",
       " '__init_subclass__',\n",
       " '__le__',\n",
       " '__lt__',\n",
       " '__ne__',\n",
       " '__new__',\n",
       " '__reduce__',\n",
       " '__reduce_ex__',\n",
       " '__repr__',\n",
       " '__setattr__',\n",
       " '__setstate__',\n",
       " '__sizeof__',\n",
       " '__str__',\n",
       " '__subclasshook__',\n",
       " '__suppress_context__',\n",
       " '__traceback__',\n",
       " 'add_note',\n",
       " 'args',\n",
       " 'with_traceback']"
      ]
     },
     "execution_count": 26,
     "metadata": {},
     "output_type": "execute_result"
    }
   ],
   "source": [
    "dir(error)"
   ]
  },
  {
   "cell_type": "code",
   "execution_count": 27,
   "metadata": {},
   "outputs": [
    {
     "data": {
      "text/plain": [
       "['tb_frame', 'tb_lasti', 'tb_lineno', 'tb_next']"
      ]
     },
     "execution_count": 27,
     "metadata": {},
     "output_type": "execute_result"
    }
   ],
   "source": [
    "dir(error.__traceback__)"
   ]
  },
  {
   "cell_type": "code",
   "execution_count": 28,
   "metadata": {},
   "outputs": [
    {
     "data": {
      "text/plain": [
       "['__class__',\n",
       " '__delattr__',\n",
       " '__dir__',\n",
       " '__doc__',\n",
       " '__eq__',\n",
       " '__format__',\n",
       " '__ge__',\n",
       " '__getattribute__',\n",
       " '__getstate__',\n",
       " '__gt__',\n",
       " '__hash__',\n",
       " '__init__',\n",
       " '__init_subclass__',\n",
       " '__le__',\n",
       " '__lt__',\n",
       " '__ne__',\n",
       " '__new__',\n",
       " '__reduce__',\n",
       " '__reduce_ex__',\n",
       " '__repr__',\n",
       " '__setattr__',\n",
       " '__sizeof__',\n",
       " '__str__',\n",
       " '__subclasshook__',\n",
       " 'clear',\n",
       " 'f_back',\n",
       " 'f_builtins',\n",
       " 'f_code',\n",
       " 'f_globals',\n",
       " 'f_lasti',\n",
       " 'f_lineno',\n",
       " 'f_locals',\n",
       " 'f_trace',\n",
       " 'f_trace_lines',\n",
       " 'f_trace_opcodes']"
      ]
     },
     "execution_count": 28,
     "metadata": {},
     "output_type": "execute_result"
    }
   ],
   "source": [
    "dir(error.__traceback__.tb_frame)"
   ]
  },
  {
   "cell_type": "code",
   "execution_count": 29,
   "metadata": {},
   "outputs": [
    {
     "data": {
      "text/plain": [
       "dict"
      ]
     },
     "execution_count": 29,
     "metadata": {},
     "output_type": "execute_result"
    }
   ],
   "source": [
    "type(error.__traceback__.tb_frame.f_locals)"
   ]
  },
  {
   "cell_type": "code",
   "execution_count": 30,
   "metadata": {},
   "outputs": [
    {
     "data": {
      "text/plain": [
       "{'__name__': '__main__',\n",
       " '__doc__': 'Automatically created module for IPython interactive environment',\n",
       " '__package__': None,\n",
       " '__loader__': None,\n",
       " '__spec__': None,\n",
       " '__builtin__': <module 'builtins' (built-in)>,\n",
       " '__builtins__': <module 'builtins' (built-in)>,\n",
       " '_ih': ['',\n",
       "  'def ref_count(address):\\n    return ctypes.c_long.from_address(address).value',\n",
       "  'class Person:\\n    def __init__(self, name):\\n        self.name = name\\n\\n    def __repr__(self):\\n        return f\"Person({self.name})\"\\n\\n    def __del__(self):\\n        print(f\\'__del__ called on {self}...\\')',\n",
       "  'class Person:\\n    def __init__(self, name):\\n        self.name = name\\n\\n    def __repr__(self):\\n        return f\"Person({self.name})\"\\n\\n    def __del__(self):\\n        print(f\\'__del__ called on {self}...\\')',\n",
       "  \"p = Person('John')\",\n",
       "  'id_p = id(p)',\n",
       "  'ref_count(id_p)',\n",
       "  'import ctypes',\n",
       "  'def ref_count(address):\\n    return ctypes.c_long.from_address(address).value',\n",
       "  'class Person:\\n    def __init__(self, name):\\n        self.name = name\\n\\n    def __repr__(self):\\n        return f\"Person({self.name})\"\\n\\n    def __del__(self):\\n        print(f\\'__del__ called on {self}...\\')',\n",
       "  \"p = Person('John')\",\n",
       "  'id_p = id(p)',\n",
       "  'ref_count(id_p)',\n",
       "  'p = None',\n",
       "  'ref_count(id_p)',\n",
       "  \"p = Person('John')\",\n",
       "  'del p',\n",
       "  'class Person:\\n    def __init__(self, name):\\n        self.name = name\\n\\n    def __repr__(self):\\n        return f\"Person({self.name})\"\\n\\n    def __del__(self):\\n        print(f\\'__del__ called on {self}...\\')\\n\\n    def gen_ex(self):\\n        raise ValueError(\\'Something went bump...\\')',\n",
       "  \"p = Person('Eric')\\np_id = id(p)\\nref_count(p_id)\",\n",
       "  'try:\\n    p.gen_ex()\\nexcept ValueError as e:\\n    print(e)',\n",
       "  'e',\n",
       "  'try:\\n    p.gen_ex()\\nexcept ValueError as e:\\n    error = e\\n    print(e)',\n",
       "  'e',\n",
       "  'error',\n",
       "  'ref_count(p_id)',\n",
       "  'type(error)',\n",
       "  'dir(error)',\n",
       "  'dir(error.__traceback__)',\n",
       "  'dir(error.__traceback__.tb_frame)',\n",
       "  'type(error.__traceback__.tb_frame.f_locals)',\n",
       "  'error.__traceback__.tb_frame.f_locals'],\n",
       " '_oh': {12: 1,\n",
       "  14: -16711708,\n",
       "  18: 1,\n",
       "  23: ValueError('Something went bump...'),\n",
       "  24: 2,\n",
       "  25: ValueError,\n",
       "  26: ['__cause__',\n",
       "   '__class__',\n",
       "   '__context__',\n",
       "   '__delattr__',\n",
       "   '__dict__',\n",
       "   '__dir__',\n",
       "   '__doc__',\n",
       "   '__eq__',\n",
       "   '__format__',\n",
       "   '__ge__',\n",
       "   '__getattribute__',\n",
       "   '__getstate__',\n",
       "   '__gt__',\n",
       "   '__hash__',\n",
       "   '__init__',\n",
       "   '__init_subclass__',\n",
       "   '__le__',\n",
       "   '__lt__',\n",
       "   '__ne__',\n",
       "   '__new__',\n",
       "   '__reduce__',\n",
       "   '__reduce_ex__',\n",
       "   '__repr__',\n",
       "   '__setattr__',\n",
       "   '__setstate__',\n",
       "   '__sizeof__',\n",
       "   '__str__',\n",
       "   '__subclasshook__',\n",
       "   '__suppress_context__',\n",
       "   '__traceback__',\n",
       "   'add_note',\n",
       "   'args',\n",
       "   'with_traceback'],\n",
       "  27: ['tb_frame', 'tb_lasti', 'tb_lineno', 'tb_next'],\n",
       "  28: ['__class__',\n",
       "   '__delattr__',\n",
       "   '__dir__',\n",
       "   '__doc__',\n",
       "   '__eq__',\n",
       "   '__format__',\n",
       "   '__ge__',\n",
       "   '__getattribute__',\n",
       "   '__getstate__',\n",
       "   '__gt__',\n",
       "   '__hash__',\n",
       "   '__init__',\n",
       "   '__init_subclass__',\n",
       "   '__le__',\n",
       "   '__lt__',\n",
       "   '__ne__',\n",
       "   '__new__',\n",
       "   '__reduce__',\n",
       "   '__reduce_ex__',\n",
       "   '__repr__',\n",
       "   '__setattr__',\n",
       "   '__sizeof__',\n",
       "   '__str__',\n",
       "   '__subclasshook__',\n",
       "   'clear',\n",
       "   'f_back',\n",
       "   'f_builtins',\n",
       "   'f_code',\n",
       "   'f_globals',\n",
       "   'f_lasti',\n",
       "   'f_lineno',\n",
       "   'f_locals',\n",
       "   'f_trace',\n",
       "   'f_trace_lines',\n",
       "   'f_trace_opcodes'],\n",
       "  29: dict},\n",
       " '_dh': [PosixPath('/Users/bijil/repositories/python-deep-dive-part/polymorphism')],\n",
       " 'In': ['',\n",
       "  'def ref_count(address):\\n    return ctypes.c_long.from_address(address).value',\n",
       "  'class Person:\\n    def __init__(self, name):\\n        self.name = name\\n\\n    def __repr__(self):\\n        return f\"Person({self.name})\"\\n\\n    def __del__(self):\\n        print(f\\'__del__ called on {self}...\\')',\n",
       "  'class Person:\\n    def __init__(self, name):\\n        self.name = name\\n\\n    def __repr__(self):\\n        return f\"Person({self.name})\"\\n\\n    def __del__(self):\\n        print(f\\'__del__ called on {self}...\\')',\n",
       "  \"p = Person('John')\",\n",
       "  'id_p = id(p)',\n",
       "  'ref_count(id_p)',\n",
       "  'import ctypes',\n",
       "  'def ref_count(address):\\n    return ctypes.c_long.from_address(address).value',\n",
       "  'class Person:\\n    def __init__(self, name):\\n        self.name = name\\n\\n    def __repr__(self):\\n        return f\"Person({self.name})\"\\n\\n    def __del__(self):\\n        print(f\\'__del__ called on {self}...\\')',\n",
       "  \"p = Person('John')\",\n",
       "  'id_p = id(p)',\n",
       "  'ref_count(id_p)',\n",
       "  'p = None',\n",
       "  'ref_count(id_p)',\n",
       "  \"p = Person('John')\",\n",
       "  'del p',\n",
       "  'class Person:\\n    def __init__(self, name):\\n        self.name = name\\n\\n    def __repr__(self):\\n        return f\"Person({self.name})\"\\n\\n    def __del__(self):\\n        print(f\\'__del__ called on {self}...\\')\\n\\n    def gen_ex(self):\\n        raise ValueError(\\'Something went bump...\\')',\n",
       "  \"p = Person('Eric')\\np_id = id(p)\\nref_count(p_id)\",\n",
       "  'try:\\n    p.gen_ex()\\nexcept ValueError as e:\\n    print(e)',\n",
       "  'e',\n",
       "  'try:\\n    p.gen_ex()\\nexcept ValueError as e:\\n    error = e\\n    print(e)',\n",
       "  'e',\n",
       "  'error',\n",
       "  'ref_count(p_id)',\n",
       "  'type(error)',\n",
       "  'dir(error)',\n",
       "  'dir(error.__traceback__)',\n",
       "  'dir(error.__traceback__.tb_frame)',\n",
       "  'type(error.__traceback__.tb_frame.f_locals)',\n",
       "  'error.__traceback__.tb_frame.f_locals'],\n",
       " 'Out': {12: 1,\n",
       "  14: -16711708,\n",
       "  18: 1,\n",
       "  23: ValueError('Something went bump...'),\n",
       "  24: 2,\n",
       "  25: ValueError,\n",
       "  26: ['__cause__',\n",
       "   '__class__',\n",
       "   '__context__',\n",
       "   '__delattr__',\n",
       "   '__dict__',\n",
       "   '__dir__',\n",
       "   '__doc__',\n",
       "   '__eq__',\n",
       "   '__format__',\n",
       "   '__ge__',\n",
       "   '__getattribute__',\n",
       "   '__getstate__',\n",
       "   '__gt__',\n",
       "   '__hash__',\n",
       "   '__init__',\n",
       "   '__init_subclass__',\n",
       "   '__le__',\n",
       "   '__lt__',\n",
       "   '__ne__',\n",
       "   '__new__',\n",
       "   '__reduce__',\n",
       "   '__reduce_ex__',\n",
       "   '__repr__',\n",
       "   '__setattr__',\n",
       "   '__setstate__',\n",
       "   '__sizeof__',\n",
       "   '__str__',\n",
       "   '__subclasshook__',\n",
       "   '__suppress_context__',\n",
       "   '__traceback__',\n",
       "   'add_note',\n",
       "   'args',\n",
       "   'with_traceback'],\n",
       "  27: ['tb_frame', 'tb_lasti', 'tb_lineno', 'tb_next'],\n",
       "  28: ['__class__',\n",
       "   '__delattr__',\n",
       "   '__dir__',\n",
       "   '__doc__',\n",
       "   '__eq__',\n",
       "   '__format__',\n",
       "   '__ge__',\n",
       "   '__getattribute__',\n",
       "   '__getstate__',\n",
       "   '__gt__',\n",
       "   '__hash__',\n",
       "   '__init__',\n",
       "   '__init_subclass__',\n",
       "   '__le__',\n",
       "   '__lt__',\n",
       "   '__ne__',\n",
       "   '__new__',\n",
       "   '__reduce__',\n",
       "   '__reduce_ex__',\n",
       "   '__repr__',\n",
       "   '__setattr__',\n",
       "   '__sizeof__',\n",
       "   '__str__',\n",
       "   '__subclasshook__',\n",
       "   'clear',\n",
       "   'f_back',\n",
       "   'f_builtins',\n",
       "   'f_code',\n",
       "   'f_globals',\n",
       "   'f_lasti',\n",
       "   'f_lineno',\n",
       "   'f_locals',\n",
       "   'f_trace',\n",
       "   'f_trace_lines',\n",
       "   'f_trace_opcodes'],\n",
       "  29: dict},\n",
       " 'get_ipython': <bound method InteractiveShell.get_ipython of <ipykernel.zmqshell.ZMQInteractiveShell object at 0x1040e09d0>>,\n",
       " 'exit': <IPython.core.autocall.ZMQExitAutocall at 0x1040f0c90>,\n",
       " 'quit': <IPython.core.autocall.ZMQExitAutocall at 0x1040f0c90>,\n",
       " 'open': <function io.open(file, mode='r', buffering=-1, encoding=None, errors=None, newline=None, closefd=True, opener=None)>,\n",
       " '_': dict,\n",
       " '__': ['__class__',\n",
       "  '__delattr__',\n",
       "  '__dir__',\n",
       "  '__doc__',\n",
       "  '__eq__',\n",
       "  '__format__',\n",
       "  '__ge__',\n",
       "  '__getattribute__',\n",
       "  '__getstate__',\n",
       "  '__gt__',\n",
       "  '__hash__',\n",
       "  '__init__',\n",
       "  '__init_subclass__',\n",
       "  '__le__',\n",
       "  '__lt__',\n",
       "  '__ne__',\n",
       "  '__new__',\n",
       "  '__reduce__',\n",
       "  '__reduce_ex__',\n",
       "  '__repr__',\n",
       "  '__setattr__',\n",
       "  '__sizeof__',\n",
       "  '__str__',\n",
       "  '__subclasshook__',\n",
       "  'clear',\n",
       "  'f_back',\n",
       "  'f_builtins',\n",
       "  'f_code',\n",
       "  'f_globals',\n",
       "  'f_lasti',\n",
       "  'f_lineno',\n",
       "  'f_locals',\n",
       "  'f_trace',\n",
       "  'f_trace_lines',\n",
       "  'f_trace_opcodes'],\n",
       " '___': ['tb_frame', 'tb_lasti', 'tb_lineno', 'tb_next'],\n",
       " '__vsc_ipynb_file__': '/Users/bijil/repositories/python-deep-dive-part/polymorphism/__del__.ipynb',\n",
       " '_i': 'type(error.__traceback__.tb_frame.f_locals)',\n",
       " '_ii': 'dir(error.__traceback__.tb_frame)',\n",
       " '_iii': 'dir(error.__traceback__)',\n",
       " '_i1': 'def ref_count(address):\\n    return ctypes.c_long.from_address(address).value',\n",
       " 'ref_count': <function __main__.ref_count(address)>,\n",
       " '_i2': 'class Person:\\n    def __init__(self, name):\\n        self.name = name\\n\\n    def __repr__(self):\\n        return f\"Person({self.name})\"\\n\\n    def __del__(self):\\n        print(f\\'__del__ called on {self}...\\')',\n",
       " 'Person': __main__.Person,\n",
       " '_i3': 'class Person:\\n    def __init__(self, name):\\n        self.name = name\\n\\n    def __repr__(self):\\n        return f\"Person({self.name})\"\\n\\n    def __del__(self):\\n        print(f\\'__del__ called on {self}...\\')',\n",
       " '_i4': \"p = Person('John')\",\n",
       " '_i5': 'id_p = id(p)',\n",
       " 'id_p': 4370800976,\n",
       " '_i6': 'ref_count(id_p)',\n",
       " '_i7': 'import ctypes',\n",
       " 'ctypes': <module 'ctypes' from '/Library/Frameworks/Python.framework/Versions/3.11/lib/python3.11/ctypes/__init__.py'>,\n",
       " '_i8': 'def ref_count(address):\\n    return ctypes.c_long.from_address(address).value',\n",
       " '_i9': 'class Person:\\n    def __init__(self, name):\\n        self.name = name\\n\\n    def __repr__(self):\\n        return f\"Person({self.name})\"\\n\\n    def __del__(self):\\n        print(f\\'__del__ called on {self}...\\')',\n",
       " '_i10': \"p = Person('John')\",\n",
       " '_i11': 'id_p = id(p)',\n",
       " '_i12': 'ref_count(id_p)',\n",
       " '_12': 1,\n",
       " '_i13': 'p = None',\n",
       " '_i14': 'ref_count(id_p)',\n",
       " '_14': -16711708,\n",
       " '_i15': \"p = Person('John')\",\n",
       " '_i16': 'del p',\n",
       " '_i17': 'class Person:\\n    def __init__(self, name):\\n        self.name = name\\n\\n    def __repr__(self):\\n        return f\"Person({self.name})\"\\n\\n    def __del__(self):\\n        print(f\\'__del__ called on {self}...\\')\\n\\n    def gen_ex(self):\\n        raise ValueError(\\'Something went bump...\\')',\n",
       " '_i18': \"p = Person('Eric')\\np_id = id(p)\\nref_count(p_id)\",\n",
       " 'p': Person(Eric),\n",
       " 'p_id': 4363437008,\n",
       " '_18': 1,\n",
       " '_i19': 'try:\\n    p.gen_ex()\\nexcept ValueError as e:\\n    print(e)',\n",
       " '_i20': 'e',\n",
       " '_i21': 'try:\\n    p.gen_ex()\\nexcept ValueError as e:\\n    error = e\\n    print(e)',\n",
       " 'error': ValueError('Something went bump...'),\n",
       " '_i22': 'e',\n",
       " '_i23': 'error',\n",
       " '_23': ValueError('Something went bump...'),\n",
       " '_i24': 'ref_count(p_id)',\n",
       " '_24': 2,\n",
       " '_i25': 'type(error)',\n",
       " '_25': ValueError,\n",
       " '_i26': 'dir(error)',\n",
       " '_26': ['__cause__',\n",
       "  '__class__',\n",
       "  '__context__',\n",
       "  '__delattr__',\n",
       "  '__dict__',\n",
       "  '__dir__',\n",
       "  '__doc__',\n",
       "  '__eq__',\n",
       "  '__format__',\n",
       "  '__ge__',\n",
       "  '__getattribute__',\n",
       "  '__getstate__',\n",
       "  '__gt__',\n",
       "  '__hash__',\n",
       "  '__init__',\n",
       "  '__init_subclass__',\n",
       "  '__le__',\n",
       "  '__lt__',\n",
       "  '__ne__',\n",
       "  '__new__',\n",
       "  '__reduce__',\n",
       "  '__reduce_ex__',\n",
       "  '__repr__',\n",
       "  '__setattr__',\n",
       "  '__setstate__',\n",
       "  '__sizeof__',\n",
       "  '__str__',\n",
       "  '__subclasshook__',\n",
       "  '__suppress_context__',\n",
       "  '__traceback__',\n",
       "  'add_note',\n",
       "  'args',\n",
       "  'with_traceback'],\n",
       " '_i27': 'dir(error.__traceback__)',\n",
       " '_27': ['tb_frame', 'tb_lasti', 'tb_lineno', 'tb_next'],\n",
       " '_i28': 'dir(error.__traceback__.tb_frame)',\n",
       " '_28': ['__class__',\n",
       "  '__delattr__',\n",
       "  '__dir__',\n",
       "  '__doc__',\n",
       "  '__eq__',\n",
       "  '__format__',\n",
       "  '__ge__',\n",
       "  '__getattribute__',\n",
       "  '__getstate__',\n",
       "  '__gt__',\n",
       "  '__hash__',\n",
       "  '__init__',\n",
       "  '__init_subclass__',\n",
       "  '__le__',\n",
       "  '__lt__',\n",
       "  '__ne__',\n",
       "  '__new__',\n",
       "  '__reduce__',\n",
       "  '__reduce_ex__',\n",
       "  '__repr__',\n",
       "  '__setattr__',\n",
       "  '__sizeof__',\n",
       "  '__str__',\n",
       "  '__subclasshook__',\n",
       "  'clear',\n",
       "  'f_back',\n",
       "  'f_builtins',\n",
       "  'f_code',\n",
       "  'f_globals',\n",
       "  'f_lasti',\n",
       "  'f_lineno',\n",
       "  'f_locals',\n",
       "  'f_trace',\n",
       "  'f_trace_lines',\n",
       "  'f_trace_opcodes'],\n",
       " '_i29': 'type(error.__traceback__.tb_frame.f_locals)',\n",
       " '_29': dict,\n",
       " '_i30': 'error.__traceback__.tb_frame.f_locals'}"
      ]
     },
     "execution_count": 30,
     "metadata": {},
     "output_type": "execute_result"
    }
   ],
   "source": [
    "error.__traceback__.tb_frame.f_locals"
   ]
  },
  {
   "cell_type": "code",
   "execution_count": 34,
   "metadata": {},
   "outputs": [
    {
     "name": "stdout",
     "output_type": "stream",
     "text": [
      "p Person(Eric) 4363437008\n"
     ]
    }
   ],
   "source": [
    "for k, v in error.__traceback__.tb_frame.f_locals.copy().items():\n",
    "    if isinstance(v, Person):\n",
    "        print(k, v, id(v))\n"
   ]
  },
  {
   "cell_type": "code",
   "execution_count": 35,
   "metadata": {},
   "outputs": [
    {
     "data": {
      "text/plain": [
       "2"
      ]
     },
     "execution_count": 35,
     "metadata": {},
     "output_type": "execute_result"
    }
   ],
   "source": [
    "ref_count(p_id)"
   ]
  },
  {
   "cell_type": "code",
   "execution_count": 36,
   "metadata": {},
   "outputs": [],
   "source": [
    "del p"
   ]
  },
  {
   "cell_type": "code",
   "execution_count": 37,
   "metadata": {},
   "outputs": [],
   "source": [
    "del error"
   ]
  },
  {
   "cell_type": "code",
   "execution_count": 38,
   "metadata": {},
   "outputs": [
    {
     "data": {
      "text/plain": [
       "1"
      ]
     },
     "execution_count": 38,
     "metadata": {},
     "output_type": "execute_result"
    }
   ],
   "source": [
    "ref_count(p_id)"
   ]
  },
  {
   "cell_type": "code",
   "execution_count": 39,
   "metadata": {},
   "outputs": [],
   "source": [
    "class Person:\n",
    "    def __del__(self):\n",
    "        raise ValueError('Something went bump...')"
   ]
  },
  {
   "cell_type": "code",
   "execution_count": 40,
   "metadata": {},
   "outputs": [],
   "source": [
    "p = Person()"
   ]
  },
  {
   "cell_type": "code",
   "execution_count": 41,
   "metadata": {},
   "outputs": [
    {
     "name": "stderr",
     "output_type": "stream",
     "text": [
      "Exception ignored in: <function Person.__del__ at 0x1048fdd00>\n",
      "Traceback (most recent call last):\n",
      "  File \"/var/folders/ct/sdgrjd_97q7g5d4q319wptzc0000gn/T/ipykernel_66594/795576010.py\", line 3, in __del__\n",
      "ValueError: Something went bump...\n"
     ]
    }
   ],
   "source": [
    "del p"
   ]
  },
  {
   "cell_type": "code",
   "execution_count": 42,
   "metadata": {},
   "outputs": [],
   "source": [
    "import sys"
   ]
  },
  {
   "cell_type": "code",
   "execution_count": 43,
   "metadata": {},
   "outputs": [
    {
     "data": {
      "text/plain": [
       "(<ipykernel.iostream.OutStream at 0x10407f910>,\n",
       " <ipykernel.iostream.OutStream at 0x10407f8b0>)"
      ]
     },
     "execution_count": 43,
     "metadata": {},
     "output_type": "execute_result"
    }
   ],
   "source": [
    "sys.stderr, sys.stdout"
   ]
  },
  {
   "cell_type": "code",
   "execution_count": 44,
   "metadata": {},
   "outputs": [],
   "source": [
    "class ErrToFile:\n",
    "    def __init__(self, fname):\n",
    "        self._fname = fname\n",
    "        self._current_stderr = sys.stderr\n",
    "\n",
    "    def __enter__(self):\n",
    "        self._file = open(self._fname, 'w')\n",
    "        sys.stderr = self._file\n",
    "\n",
    "    def __exit__(self, exc_type, exc_value, traceback):\n",
    "        sys.stderr = self._current_stderr\n",
    "        if self._file:\n",
    "            self._file.close()\n",
    "        return False\n",
    "        "
   ]
  },
  {
   "cell_type": "code",
   "execution_count": 45,
   "metadata": {},
   "outputs": [],
   "source": [
    "p = Person()"
   ]
  },
  {
   "cell_type": "code",
   "execution_count": 46,
   "metadata": {},
   "outputs": [
    {
     "name": "stdout",
     "output_type": "stream",
     "text": [
      "100\n",
      "200\n"
     ]
    }
   ],
   "source": [
    "with ErrToFile('err.txt'):\n",
    "    del p\n",
    "    print('100')\n",
    "print(200)"
   ]
  },
  {
   "cell_type": "code",
   "execution_count": 47,
   "metadata": {},
   "outputs": [
    {
     "name": "stdout",
     "output_type": "stream",
     "text": [
      "Exception ignored in: <function Person.__del__ at 0x1048fdd00>\n",
      "Traceback (most recent call last):\n",
      "  File \"/var/folders/ct/sdgrjd_97q7g5d4q319wptzc0000gn/T/ipykernel_66594/795576010.py\", line 3, in __del__\n",
      "ValueError: Something went bump...\n",
      "\n"
     ]
    }
   ],
   "source": [
    "with open('err.txt', 'r') as f:\n",
    "    print(f.read())\n"
   ]
  },
  {
   "cell_type": "code",
   "execution_count": null,
   "metadata": {},
   "outputs": [],
   "source": []
  }
 ],
 "metadata": {
  "kernelspec": {
   "display_name": "Python 3",
   "language": "python",
   "name": "python3"
  },
  "language_info": {
   "codemirror_mode": {
    "name": "ipython",
    "version": 3
   },
   "file_extension": ".py",
   "mimetype": "text/x-python",
   "name": "python",
   "nbconvert_exporter": "python",
   "pygments_lexer": "ipython3",
   "version": "3.11.5"
  }
 },
 "nbformat": 4,
 "nbformat_minor": 2
}
