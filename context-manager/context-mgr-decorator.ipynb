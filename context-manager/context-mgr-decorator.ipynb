{
 "cells": [
  {
   "cell_type": "code",
   "execution_count": 1,
   "metadata": {},
   "outputs": [],
   "source": [
    "def open_file(fname, mode='r'):\n",
    "    print(f'opening file...')\n",
    "    f = open(fname, mode)\n",
    "    try:\n",
    "        yield f\n",
    "    finally:\n",
    "        print(f'closing file...')\n",
    "        f.close()"
   ]
  },
  {
   "cell_type": "code",
   "execution_count": 2,
   "metadata": {},
   "outputs": [],
   "source": [
    "class GenContextManager:\n",
    "    def __init__(self, gen):\n",
    "        self.gen = gen\n",
    "\n",
    "    def __enter__(self):\n",
    "        print('calling next to get the value from generator')\n",
    "        return next(self.gen)\n",
    "    \n",
    "    def __exit__(self, exc_type, exc_value, exc_tb):\n",
    "        print('calling next to perform cleanup in generator')\n",
    "        try:\n",
    "            next(self.gen)\n",
    "        except StopIteration:\n",
    "            pass\n",
    "        return False"
   ]
  },
  {
   "cell_type": "code",
   "execution_count": 3,
   "metadata": {},
   "outputs": [
    {
     "name": "stdout",
     "output_type": "stream",
     "text": [
      "calling next to get the value from generator\n",
      "opening file...\n",
      "file object is yielded\n",
      "calling next to perform cleanup in generator\n",
      "closing file...\n"
     ]
    }
   ],
   "source": [
    "file_gen = open_file('test.txt', 'w')\n",
    "with GenContextManager(file_gen) as f:\n",
    "    print('file object is yielded')\n",
    "    f.write('testing...')"
   ]
  },
  {
   "cell_type": "code",
   "execution_count": 4,
   "metadata": {},
   "outputs": [],
   "source": [
    "def context_manager_decorator(gen_func):\n",
    "    def wrapper(*args, **kwargs):\n",
    "        gen = gen_func(*args, **kwargs)\n",
    "        return GenContextManager(gen)\n",
    "    return wrapper"
   ]
  },
  {
   "cell_type": "code",
   "execution_count": 5,
   "metadata": {},
   "outputs": [],
   "source": [
    "@context_manager_decorator\n",
    "def open_file(fname, mode='r'):\n",
    "    print(f'opening file...')\n",
    "    f = open(fname, mode)\n",
    "    try:\n",
    "        yield f\n",
    "    finally:\n",
    "        print(f'closing file...')\n",
    "        f.close()\n",
    "\n",
    "#open_file = context_manager_decorator(open_file)"
   ]
  },
  {
   "cell_type": "code",
   "execution_count": 6,
   "metadata": {},
   "outputs": [
    {
     "name": "stdout",
     "output_type": "stream",
     "text": [
      "calling next to get the value from generator\n",
      "opening file...\n",
      "file object is yielded\n",
      "testing...\n",
      "calling next to perform cleanup in generator\n",
      "closing file...\n"
     ]
    }
   ],
   "source": [
    "with open_file('test.txt', 'r') as f:\n",
    "    print('file object is yielded')\n",
    "    print(f.read())"
   ]
  },
  {
   "cell_type": "code",
   "execution_count": 7,
   "metadata": {},
   "outputs": [],
   "source": [
    "from contextlib import contextmanager"
   ]
  },
  {
   "cell_type": "code",
   "execution_count": 8,
   "metadata": {},
   "outputs": [],
   "source": [
    "@contextmanager\n",
    "def open_file(fname, mode='r'):\n",
    "    print(f'opening file...')\n",
    "    f = open(fname, mode)\n",
    "    try:\n",
    "        yield f\n",
    "    finally:\n",
    "        print(f'closing file...')\n",
    "        f.close()"
   ]
  },
  {
   "cell_type": "code",
   "execution_count": 9,
   "metadata": {},
   "outputs": [
    {
     "name": "stdout",
     "output_type": "stream",
     "text": [
      "opening file...\n",
      "file object is yielded\n",
      "testing...\n",
      "closing file...\n"
     ]
    }
   ],
   "source": [
    "with open_file('test.txt', 'r') as f:\n",
    "    print('file object is yielded')\n",
    "    print(f.read())"
   ]
  },
  {
   "cell_type": "code",
   "execution_count": 10,
   "metadata": {},
   "outputs": [],
   "source": [
    "from time import perf_counter, sleep"
   ]
  },
  {
   "cell_type": "code",
   "execution_count": 12,
   "metadata": {},
   "outputs": [],
   "source": [
    "@contextmanager\n",
    "def timer():\n",
    "    stats = dict()\n",
    "    start = perf_counter()\n",
    "    stats['start'] = start\n",
    "    try:\n",
    "        yield stats\n",
    "    finally:\n",
    "        end = perf_counter()\n",
    "        stats['end'] = end\n",
    "        stats['duration'] = end - start"
   ]
  },
  {
   "cell_type": "code",
   "execution_count": 13,
   "metadata": {},
   "outputs": [],
   "source": [
    "with timer() as stats:\n",
    "    sleep(2)"
   ]
  },
  {
   "cell_type": "code",
   "execution_count": 14,
   "metadata": {},
   "outputs": [
    {
     "name": "stdout",
     "output_type": "stream",
     "text": [
      "{'start': 984515.99444275, 'end': 984517.99636775, 'duration': 2.001924999989569}\n"
     ]
    }
   ],
   "source": [
    "print(stats)"
   ]
  },
  {
   "cell_type": "code",
   "execution_count": 15,
   "metadata": {},
   "outputs": [],
   "source": [
    "import sys"
   ]
  },
  {
   "cell_type": "code",
   "execution_count": 18,
   "metadata": {},
   "outputs": [],
   "source": [
    "@contextmanager\n",
    "def out_to_file(fname):\n",
    "    old_stdout = sys.stdout\n",
    "    log_file = open(fname, 'w')\n",
    "    sys.stdout = log_file\n",
    "    try:\n",
    "        yield None\n",
    "    finally:\n",
    "        log_file.close()\n",
    "        sys.stdout = old_stdout"
   ]
  },
  {
   "cell_type": "code",
   "execution_count": 19,
   "metadata": {},
   "outputs": [],
   "source": [
    "with out_to_file('stdout.txt'):\n",
    "    print('testing...')\n",
    "    sleep(2)"
   ]
  },
  {
   "cell_type": "code",
   "execution_count": 20,
   "metadata": {},
   "outputs": [
    {
     "name": "stdout",
     "output_type": "stream",
     "text": [
      "hello\n"
     ]
    }
   ],
   "source": [
    "print('hello')"
   ]
  },
  {
   "cell_type": "code",
   "execution_count": 21,
   "metadata": {},
   "outputs": [
    {
     "name": "stdout",
     "output_type": "stream",
     "text": [
      "testing...\n",
      "\n"
     ]
    }
   ],
   "source": [
    "with open('stdout.txt', 'r') as f:\n",
    "    print(f.read())\n"
   ]
  },
  {
   "cell_type": "code",
   "execution_count": 22,
   "metadata": {},
   "outputs": [],
   "source": [
    "from contextlib import redirect_stdout"
   ]
  },
  {
   "cell_type": "code",
   "execution_count": 24,
   "metadata": {},
   "outputs": [],
   "source": [
    "with open('stdout.txt', 'w') as f:\n",
    "    with redirect_stdout(f):\n",
    "        print('look on bright side...')\n",
    "    sleep(2)\n"
   ]
  },
  {
   "cell_type": "code",
   "execution_count": 25,
   "metadata": {},
   "outputs": [
    {
     "name": "stdout",
     "output_type": "stream",
     "text": [
      "look on bright side...\n",
      "\n"
     ]
    }
   ],
   "source": [
    "with open('stdout.txt', 'r') as f:\n",
    "    print(f.read())\n"
   ]
  },
  {
   "cell_type": "code",
   "execution_count": null,
   "metadata": {},
   "outputs": [],
   "source": []
  }
 ],
 "metadata": {
  "kernelspec": {
   "display_name": "Python 3",
   "language": "python",
   "name": "python3"
  },
  "language_info": {
   "codemirror_mode": {
    "name": "ipython",
    "version": 3
   },
   "file_extension": ".py",
   "mimetype": "text/x-python",
   "name": "python",
   "nbconvert_exporter": "python",
   "pygments_lexer": "ipython3",
   "version": "3.11.5"
  }
 },
 "nbformat": 4,
 "nbformat_minor": 2
}
