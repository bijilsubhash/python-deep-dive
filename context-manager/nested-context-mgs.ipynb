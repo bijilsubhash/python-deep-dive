{
 "cells": [
  {
   "cell_type": "code",
   "execution_count": 2,
   "metadata": {},
   "outputs": [
    {
     "name": "stdout",
     "output_type": "stream",
     "text": [
      "file1_line1\n",
      "file1_line2\n",
      "file1_line3\n",
      "-------------------------------\n",
      "file2_line1\n",
      "file2_line2\n",
      "file2_line3\n",
      "-------------------------------\n",
      "file3_line1\n",
      "file3_line2\n",
      "file3_line3\n",
      "-------------------------------\n"
     ]
    }
   ],
   "source": [
    "with open('file1.txt', 'r') as f1:\n",
    "    for row in f1:\n",
    "        print(row, end='')\n",
    "print('\\n-------------------------------')\n",
    "with open('file2.txt', 'r') as f2:\n",
    "    for row in f2:\n",
    "        print(row, end='')\n",
    "print('\\n-------------------------------')\n",
    "with open('file3.txt', 'r') as f3:\n",
    "    for row in f3:\n",
    "        print(row, end='')\n",
    "print('\\n-------------------------------')\n",
    "\n"
   ]
  },
  {
   "cell_type": "code",
   "execution_count": 4,
   "metadata": {},
   "outputs": [
    {
     "name": "stdout",
     "output_type": "stream",
     "text": [
      "['file1_line1\\n', 'file1_line2\\n', 'file1_line3']\n",
      "['file2_line1\\n', 'file2_line2\\n', 'file2_line3']\n",
      "['file3_line1\\n', 'file3_line2\\n', 'file3_line3']\n"
     ]
    }
   ],
   "source": [
    "with open('file1.txt', 'r') as f1, open('file2.txt', 'r') as f2, open('file3.txt', 'r') as f3:\n",
    "    print(f1.readlines())\n",
    "    print(f2.readlines())\n",
    "    print(f3.readlines())\n",
    "\n"
   ]
  },
  {
   "cell_type": "code",
   "execution_count": 6,
   "metadata": {},
   "outputs": [
    {
     "name": "stdout",
     "output_type": "stream",
     "text": [
      "['file1_line1\\n', 'file1_line2\\n', 'file1_line3']\n",
      "['file2_line1\\n', 'file2_line2\\n', 'file2_line3']\n",
      "['file3_line1\\n', 'file3_line2\\n', 'file3_line3']\n"
     ]
    }
   ],
   "source": [
    "with open('file1.txt', 'r') as f1:\n",
    "    with open('file2.txt', 'r') as f2:\n",
    "        with open('file3.txt', 'r') as f3:\n",
    "            print(f1.readlines())\n",
    "            print(f2.readlines())\n",
    "            print(f3.readlines())\n"
   ]
  },
  {
   "cell_type": "code",
   "execution_count": 4,
   "metadata": {},
   "outputs": [],
   "source": [
    "from contextlib import contextmanager"
   ]
  },
  {
   "cell_type": "code",
   "execution_count": 5,
   "metadata": {},
   "outputs": [],
   "source": [
    "@contextmanager\n",
    "def open_file(fname):\n",
    "    print(f'opening file {fname}...')\n",
    "    f = open(fname)\n",
    "    try:\n",
    "        yield f\n",
    "    finally:\n",
    "        print(f'closing file {fname}...')\n",
    "        f.close()"
   ]
  },
  {
   "cell_type": "code",
   "execution_count": 11,
   "metadata": {},
   "outputs": [],
   "source": [
    "f_names = 'file1.txt', 'file2.txt', 'file3.txt'\n",
    "\n",
    "\n",
    "exits = []\n",
    "enters = []\n",
    "\n",
    "for f_name in f_names:\n",
    "    ctx = open_file(f_name)\n",
    "    enters.append(ctx.__enter__)\n",
    "    exits.append(ctx.__exit__)"
   ]
  },
  {
   "cell_type": "code",
   "execution_count": 12,
   "metadata": {},
   "outputs": [
    {
     "name": "stdout",
     "output_type": "stream",
     "text": [
      "opening file file1.txt...\n",
      "opening file file2.txt...\n",
      "opening file file3.txt...\n",
      "[<_io.TextIOWrapper name='file1.txt' mode='r' encoding='utf-8'>, <_io.TextIOWrapper name='file2.txt' mode='r' encoding='utf-8'>, <_io.TextIOWrapper name='file3.txt' mode='r' encoding='utf-8'>]\n"
     ]
    }
   ],
   "source": [
    "files = [enter() for enter in enters]\n",
    "print(files)"
   ]
  },
  {
   "cell_type": "code",
   "execution_count": 13,
   "metadata": {},
   "outputs": [
    {
     "name": "stdout",
     "output_type": "stream",
     "text": [
      "file1_line1,file2_line1,file3_line1\n",
      "file1_line2,file2_line2,file3_line2\n",
      "file1_line3,file2_line3,file3_line3\n"
     ]
    }
   ],
   "source": [
    "while True:\n",
    "    try:\n",
    "        rows = [next(f).strip('\\n') for f in files]\n",
    "    except StopIteration:\n",
    "        break\n",
    "    else:\n",
    "        row = ','.join(rows)\n",
    "        print(row)\n"
   ]
  },
  {
   "cell_type": "code",
   "execution_count": 15,
   "metadata": {},
   "outputs": [
    {
     "name": "stdout",
     "output_type": "stream",
     "text": [
      "closing file file3.txt...\n",
      "closing file file2.txt...\n",
      "closing file file1.txt...\n"
     ]
    }
   ],
   "source": [
    "for exit in exits[::-1]:\n",
    "    exit(None, None, None)\n"
   ]
  },
  {
   "cell_type": "code",
   "execution_count": 17,
   "metadata": {},
   "outputs": [
    {
     "name": "stdout",
     "output_type": "stream",
     "text": [
      "opening file file1.txt...\n",
      "opening file file2.txt...\n",
      "opening file file3.txt...\n",
      "file1_line1,file2_line1,file3_line1\n",
      "file1_line2,file2_line2,file3_line2\n",
      "file1_line3,file2_line3,file3_line3\n",
      "closing file file3.txt...\n",
      "closing file file2.txt...\n",
      "closing file file1.txt...\n"
     ]
    }
   ],
   "source": [
    "f_names = 'file1.txt', 'file2.txt', 'file3.txt'\n",
    "\n",
    "\n",
    "exits = []\n",
    "enters = []\n",
    "\n",
    "for f_name in f_names:\n",
    "    ctx = open_file(f_name)\n",
    "    enters.append(ctx.__enter__)\n",
    "    exits.append(ctx.__exit__)\n",
    "\n",
    "files = [enter() for enter in enters]\n",
    "\n",
    "while True:\n",
    "    try:\n",
    "        rows = [next(f).strip('\\n') for f in files]\n",
    "    except StopIteration:\n",
    "        break\n",
    "    else:\n",
    "        row = ','.join(rows)\n",
    "        print(row)\n",
    "\n",
    "for exit in exits[::-1]:\n",
    "    exit(None, None, None)\n"
   ]
  },
  {
   "cell_type": "code",
   "execution_count": 6,
   "metadata": {},
   "outputs": [],
   "source": [
    "class NestedContexts:\n",
    "    def __init__(self, *contexts):\n",
    "        self._enters = []\n",
    "        self._exits = []\n",
    "        self._values = []\n",
    "\n",
    "        for ctx in contexts:\n",
    "            self._enters.append(ctx.__enter__)\n",
    "            self._exits.append(ctx.__exit__)\n",
    "\n",
    "    def __enter__(self):\n",
    "        for enter in self._enters:\n",
    "            self._values.append(enter())\n",
    "        return self._values\n",
    "\n",
    "    def __exit__(self, exc_type, exc_value, traceback):\n",
    "        for exit in self._exits[::-1]:\n",
    "            exit(exc_type, exc_value, traceback)\n",
    "        return False"
   ]
  },
  {
   "cell_type": "code",
   "execution_count": 7,
   "metadata": {},
   "outputs": [
    {
     "name": "stdout",
     "output_type": "stream",
     "text": [
      "opening file file1.txt...\n",
      "opening file file2.txt...\n",
      "opening file file3.txt...\n",
      "file1_line1\n",
      "file1_line2\n",
      "file1_line3\n",
      "file2_line1\n",
      "file2_line2\n",
      "file2_line3\n",
      "file3_line1\n",
      "file3_line2\n",
      "file3_line3\n",
      "closing file file3.txt...\n",
      "closing file file2.txt...\n",
      "closing file file1.txt...\n"
     ]
    }
   ],
   "source": [
    "with NestedContexts(open_file('file1.txt'), open_file('file2.txt'), open_file('file3.txt')) as files:\n",
    "    for file in files:\n",
    "        for row in file:\n",
    "            print(row.strip('\\n'))\n"
   ]
  },
  {
   "cell_type": "code",
   "execution_count": 8,
   "metadata": {},
   "outputs": [
    {
     "name": "stdout",
     "output_type": "stream",
     "text": [
      "opening file file1.txt...\n",
      "opening file file2.txt...\n",
      "opening file file3.txt...\n",
      "file1_line1\n",
      "file1_line2\n",
      "file1_line3\n",
      "file2_line1\n",
      "file2_line2\n",
      "file2_line3\n",
      "file3_line1\n",
      "file3_line2\n",
      "file3_line3\n",
      "closing file file3.txt...\n",
      "closing file file2.txt...\n",
      "closing file file1.txt...\n"
     ]
    }
   ],
   "source": [
    "f_names = 'file1.txt', 'file2.txt', 'file3.txt'\n",
    "\n",
    "contexts = [open_file(f_name) for f_name in f_names]\n",
    "\n",
    "with NestedContexts(*contexts) as files:\n",
    "    for file in files:\n",
    "        for row in file:\n",
    "            print(row.strip('\\n'))\n"
   ]
  },
  {
   "cell_type": "code",
   "execution_count": 9,
   "metadata": {},
   "outputs": [],
   "source": [
    "class NestedContexts:\n",
    "    def __init__(self):\n",
    "        self._exits = []\n",
    "\n",
    "    def __enter__(self):\n",
    "        return self\n",
    "    \n",
    "    def enter_context(self, ctx):\n",
    "        self._exits.append(ctx.__exit__)\n",
    "        value = ctx.__enter__()\n",
    "        return value\n",
    "\n",
    "    def __exit__(self, exc_type, exc_value, traceback):\n",
    "        for exit in self._exits[::-1]:\n",
    "            exit(exc_type, exc_value, traceback)\n",
    "        return False"
   ]
  },
  {
   "cell_type": "code",
   "execution_count": 13,
   "metadata": {},
   "outputs": [
    {
     "name": "stdout",
     "output_type": "stream",
     "text": [
      "opening file file1.txt...\n",
      "opening file file2.txt...\n",
      "opening file file3.txt...\n",
      "file1_line1\n",
      "file1_line2\n",
      "file1_line3\n",
      "file2_line1\n",
      "file2_line2\n",
      "file2_line3\n",
      "file3_line1\n",
      "file3_line2\n",
      "file3_line3\n",
      "closing file file3.txt...\n",
      "closing file file2.txt...\n",
      "closing file file1.txt...\n"
     ]
    }
   ],
   "source": [
    "with NestedContexts() as nested:\n",
    "    f = [nested.enter_context(open_file(f_name)) for f_name in f_names]\n",
    "    for file in f:\n",
    "        for row in file:\n",
    "            print(row.strip('\\n'))"
   ]
  },
  {
   "cell_type": "code",
   "execution_count": 14,
   "metadata": {},
   "outputs": [],
   "source": [
    "from contextlib import ExitStack"
   ]
  },
  {
   "cell_type": "code",
   "execution_count": 15,
   "metadata": {},
   "outputs": [
    {
     "name": "stdout",
     "output_type": "stream",
     "text": [
      "opening file file1.txt...\n",
      "opening file file2.txt...\n",
      "opening file file3.txt...\n",
      "file1_line1\n",
      "file1_line2\n",
      "file1_line3\n",
      "file2_line1\n",
      "file2_line2\n",
      "file2_line3\n",
      "file3_line1\n",
      "file3_line2\n",
      "file3_line3\n",
      "closing file file3.txt...\n",
      "closing file file2.txt...\n",
      "closing file file1.txt...\n"
     ]
    }
   ],
   "source": [
    "with ExitStack() as stack:\n",
    "    files = [stack.enter_context(open_file(f_name)) for f_name in f_names]\n",
    "    for file in files:\n",
    "        for row in file:\n",
    "            print(row.strip('\\n'))\n"
   ]
  },
  {
   "cell_type": "code",
   "execution_count": null,
   "metadata": {},
   "outputs": [],
   "source": []
  }
 ],
 "metadata": {
  "kernelspec": {
   "display_name": "Python 3",
   "language": "python",
   "name": "python3"
  },
  "language_info": {
   "codemirror_mode": {
    "name": "ipython",
    "version": 3
   },
   "file_extension": ".py",
   "mimetype": "text/x-python",
   "name": "python",
   "nbconvert_exporter": "python",
   "pygments_lexer": "ipython3",
   "version": "3.11.5"
  }
 },
 "nbformat": 4,
 "nbformat_minor": 2
}
